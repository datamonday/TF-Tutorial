{
 "cells": [
  {
   "cell_type": "markdown",
   "metadata": {
    "id": "b518b04cbfe0"
   },
   "source": [
    "##### Copyright 2020 The TensorFlow Authors."
   ]
  },
  {
   "cell_type": "code",
   "execution_count": 1,
   "metadata": {
    "cellView": "form",
    "execution": {
     "iopub.execute_input": "2021-04-07T19:04:54.264957Z",
     "iopub.status.busy": "2021-04-07T19:04:54.264406Z",
     "iopub.status.idle": "2021-04-07T19:04:54.266458Z",
     "shell.execute_reply": "2021-04-07T19:04:54.266801Z"
    },
    "id": "906e07f6e562"
   },
   "outputs": [],
   "source": [
    "#@title Licensed under the Apache License, Version 2.0 (the \"License\");\n",
    "# you may not use this file except in compliance with the License.\n",
    "# You may obtain a copy of the License at\n",
    "#\n",
    "# https://www.apache.org/licenses/LICENSE-2.0\n",
    "#\n",
    "# Unless required by applicable law or agreed to in writing, software\n",
    "# distributed under the License is distributed on an \"AS IS\" BASIS,\n",
    "# WITHOUT WARRANTIES OR CONDITIONS OF ANY KIND, either express or implied.\n",
    "# See the License for the specific language governing permissions and\n",
    "# limitations under the License."
   ]
  },
  {
   "cell_type": "markdown",
   "metadata": {
    "id": "d201e826ab29"
   },
   "source": [
    "# 编写自己的回调函数"
   ]
  },
  {
   "cell_type": "markdown",
   "metadata": {
    "id": "71699af85d2d"
   },
   "source": [
    "<table class=\"tfo-notebook-buttons\" align=\"left\">\n",
    "  <td>     <a target=\"_blank\" href=\"https://tensorflow.google.cn/guide/keras/custom_callback\"><img src=\"https://tensorflow.google.cn/images/tf_logo_32px.png\">在 TensorFlow.org 上查看</a>\n",
    "</td>\n",
    "  <td><a target=\"_blank\" href=\"https://colab.research.google.com/github/tensorflow/docs-l10n/blob/master/site/zh-cn/guide/keras/custom_callback.ipynb\"><img src=\"https://tensorflow.google.cn/images/colab_logo_32px.png\">在 Google Colab 中运行 </a></td>\n",
    "  <td>     <a target=\"_blank\" href=\"https://github.com/tensorflow/docs-l10n/blob/master/site/zh-cn/guide/keras/custom_callback.ipynb\"><img src=\"https://tensorflow.google.cn/images/GitHub-Mark-32px.png\">在 GitHub 上查看源代码</a>\n",
    "</td>\n",
    "  <td>     <a href=\"https://storage.googleapis.com/tensorflow_docs/docs-l10n/site/zh-cn/guide/keras/custom_callback.ipynb\"><img src=\"https://tensorflow.google.cn/images/download_logo_32px.png\">下载笔记本</a>\n",
    "</td>\n",
    "</table>"
   ]
  },
  {
   "cell_type": "markdown",
   "metadata": {
    "id": "d75eb2e25f36"
   },
   "source": [
    "## 简介\n",
    "\n",
    "回调函数是一种可以在训练、评估或推断过程中自定义 Keras 模型行为的强大工具。示例包括使用 TensorBoard 来可视化训练进度和结果的 `tf.keras.callbacks.TensorBoard`，以及用来在训练期间定期保存模型的 `tf.keras.callbacks.ModelCheckpoint`。\n",
    "\n",
    "在本指南中，您将了解什么是 Keras 回调函数，它可以做什么，以及如何构建自己的回调函数。我们提供了一些简单回调函数应用的演示，以帮助您入门。"
   ]
  },
  {
   "cell_type": "markdown",
   "metadata": {
    "id": "b3600ee25c8e"
   },
   "source": [
    "## 设置"
   ]
  },
  {
   "cell_type": "code",
   "execution_count": 2,
   "metadata": {
    "execution": {
     "iopub.execute_input": "2021-04-07T19:04:54.274627Z",
     "iopub.status.busy": "2021-04-07T19:04:54.273966Z",
     "iopub.status.idle": "2021-04-07T19:04:59.983569Z",
     "shell.execute_reply": "2021-04-07T19:04:59.983988Z"
    },
    "id": "4dadb6688663"
   },
   "outputs": [],
   "source": [
    "import tensorflow as tf\n",
    "from tensorflow import keras"
   ]
  },
  {
   "cell_type": "markdown",
   "metadata": {
    "id": "42676f705fc8"
   },
   "source": [
    "## Keras 回调函数概述\n",
    "\n",
    "所有回调函数都将 `keras.callbacks.Callback` 类作为子类，并重写在训练、测试和预测的各个阶段调用的一组方法。回调函数对于在训练期间了解模型的内部状态和统计信息十分有用。\n",
    "\n",
    "您可以将回调函数的列表（作为关键字参数 `callbacks`）传递给以下模型方法：\n",
    "\n",
    "- `keras.Model.fit()`\n",
    "- `keras.Model.evaluate()`\n",
    "- `keras.Model.predict()`"
   ]
  },
  {
   "cell_type": "markdown",
   "metadata": {
    "id": "46945bdf5056"
   },
   "source": [
    "## 回调函数方法概述\n",
    "\n",
    "### 全局方法\n",
    "\n",
    "#### `on_(train|test|predict)_begin(self, logs=None)`\n",
    "\n",
    "在 `fit`/`evaluate`/`predict` 开始时调用。\n",
    "\n",
    "#### `on_(train|test|predict)_end(self, logs=None)`\n",
    "\n",
    "在 `fit`/`evaluate`/`predict` 结束时调用。\n",
    "\n",
    "### Batch-level methods for training/testing/predicting\n",
    "\n",
    "#### `on_(train|test|predict)_batch_begin(self, batch, logs=None)`\n",
    "\n",
    "正好在训练/测试/预测期间处理批次之前调用。\n",
    "\n",
    "#### `on_(train|test|predict)_batch_end(self, batch, logs=None)`\n",
    "\n",
    "在训练/测试/预测批次结束时调用。在此方法中，`logs` 是包含指标结果的字典。\n",
    "\n",
    "### 周期级方法（仅训练）\n",
    "\n",
    "#### `on_epoch_begin(self, epoch, logs=None)`\n",
    "\n",
    "在训练期间周期开始时调用。\n",
    "\n",
    "#### `on_epoch_end(self, epoch, logs=None)`\n",
    "\n",
    "在训练期间周期开始时调用。"
   ]
  },
  {
   "cell_type": "markdown",
   "metadata": {
    "id": "82f2370418a1"
   },
   "source": [
    "## 基本示例\n",
    "\n",
    "让我们来看一个具体的例子。首先，导入 Tensorflow 并定义一个简单的序列式 Keras 模型："
   ]
  },
  {
   "cell_type": "code",
   "execution_count": 3,
   "metadata": {
    "execution": {
     "iopub.execute_input": "2021-04-07T19:04:59.989501Z",
     "iopub.status.busy": "2021-04-07T19:04:59.988895Z",
     "iopub.status.idle": "2021-04-07T19:04:59.991040Z",
     "shell.execute_reply": "2021-04-07T19:04:59.990598Z"
    },
    "id": "7350ea602e50"
   },
   "outputs": [],
   "source": [
    "# Define the Keras model to add callbacks to\n",
    "def get_model():\n",
    "    model = keras.Sequential()\n",
    "    model.add(keras.layers.Dense(1, input_dim=784))\n",
    "    model.compile(\n",
    "        optimizer=keras.optimizers.RMSprop(learning_rate=0.1),\n",
    "        loss=\"mean_squared_error\",\n",
    "        metrics=[\"mean_absolute_error\"],\n",
    "    )\n",
    "    return model\n"
   ]
  },
  {
   "cell_type": "markdown",
   "metadata": {
    "id": "044db5f2dc6f"
   },
   "source": [
    "然后，从 Keras 数据集 API 加载 MNIST 数据进行训练和测试："
   ]
  },
  {
   "cell_type": "code",
   "execution_count": 4,
   "metadata": {
    "execution": {
     "iopub.execute_input": "2021-04-07T19:04:59.996855Z",
     "iopub.status.busy": "2021-04-07T19:04:59.996235Z",
     "iopub.status.idle": "2021-04-07T19:05:00.708838Z",
     "shell.execute_reply": "2021-04-07T19:05:00.708330Z"
    },
    "id": "f8826736a184"
   },
   "outputs": [
    {
     "name": "stdout",
     "output_type": "stream",
     "text": [
      "Downloading data from https://storage.googleapis.com/tensorflow/tf-keras-datasets/mnist.npz\n"
     ]
    },
    {
     "name": "stdout",
     "output_type": "stream",
     "text": [
      "\r",
      "    8192/11490434 [..............................] - ETA: 0s"
     ]
    },
    {
     "name": "stdout",
     "output_type": "stream",
     "text": [
      "\b\b\b\b\b\b\b\b\b\b\b\b\b\b\b\b\b\b\b\b\b\b\b\b\b\b\b\b\b\b\b\b\b\b\b\b\b\b\b\b\b\b\b\b\b\b\b\b\b\b\b\b\b\b\b\b\b\b\b\b\r",
      " 4202496/11490434 [=========>....................] - ETA: 0s"
     ]
    },
    {
     "name": "stdout",
     "output_type": "stream",
     "text": [
      "\b\b\b\b\b\b\b\b\b\b\b\b\b\b\b\b\b\b\b\b\b\b\b\b\b\b\b\b\b\b\b\b\b\b\b\b\b\b\b\b\b\b\b\b\b\b\b\b\b\b\b\b\b\b\b\b\b\b\b\b\r",
      " 9494528/11490434 [=======================>......] - ETA: 0s"
     ]
    },
    {
     "name": "stdout",
     "output_type": "stream",
     "text": [
      "\b\b\b\b\b\b\b\b\b\b\b\b\b\b\b\b\b\b\b\b\b\b\b\b\b\b\b\b\b\b\b\b\b\b\b\b\b\b\b\b\b\b\b\b\b\b\b\b\b\b\b\b\b\b\b\b\b\b\b\b\r",
      "11493376/11490434 [==============================] - 0s 0us/step\n"
     ]
    }
   ],
   "source": [
    "# Load example MNIST data and pre-process it\n",
    "(x_train, y_train), (x_test, y_test) = tf.keras.datasets.mnist.load_data()\n",
    "x_train = x_train.reshape(-1, 784).astype(\"float32\") / 255.0\n",
    "x_test = x_test.reshape(-1, 784).astype(\"float32\") / 255.0\n",
    "\n",
    "# Limit the data to 1000 samples\n",
    "x_train = x_train[:1000]\n",
    "y_train = y_train[:1000]\n",
    "x_test = x_test[:1000]\n",
    "y_test = y_test[:1000]"
   ]
  },
  {
   "cell_type": "markdown",
   "metadata": {
    "id": "b9acd50b2215"
   },
   "source": [
    "接下来，定义一个简单的自定义回调函数来记录以下内容：\n",
    "\n",
    "- `fit`/`evaluate`/`predict` 开始和结束的时间\n",
    "- 每个周期开始和结束的时间\n",
    "- 每个训练批次开始和结束的时间\n",
    "- 每个评估（测试）批次开始和结束的时间\n",
    "- 每次推断（预测）批次开始和结束的时间"
   ]
  },
  {
   "cell_type": "code",
   "execution_count": 5,
   "metadata": {
    "execution": {
     "iopub.execute_input": "2021-04-07T19:05:00.720959Z",
     "iopub.status.busy": "2021-04-07T19:05:00.720325Z",
     "iopub.status.idle": "2021-04-07T19:05:00.721938Z",
     "shell.execute_reply": "2021-04-07T19:05:00.722300Z"
    },
    "id": "cc9888d28e79"
   },
   "outputs": [],
   "source": [
    "class CustomCallback(keras.callbacks.Callback):\n",
    "    def on_train_begin(self, logs=None):\n",
    "        keys = list(logs.keys())\n",
    "        print(\"Starting training; got log keys: {}\".format(keys))\n",
    "\n",
    "    def on_train_end(self, logs=None):\n",
    "        keys = list(logs.keys())\n",
    "        print(\"Stop training; got log keys: {}\".format(keys))\n",
    "\n",
    "    def on_epoch_begin(self, epoch, logs=None):\n",
    "        keys = list(logs.keys())\n",
    "        print(\"Start epoch {} of training; got log keys: {}\".format(epoch, keys))\n",
    "\n",
    "    def on_epoch_end(self, epoch, logs=None):\n",
    "        keys = list(logs.keys())\n",
    "        print(\"End epoch {} of training; got log keys: {}\".format(epoch, keys))\n",
    "\n",
    "    def on_test_begin(self, logs=None):\n",
    "        keys = list(logs.keys())\n",
    "        print(\"Start testing; got log keys: {}\".format(keys))\n",
    "\n",
    "    def on_test_end(self, logs=None):\n",
    "        keys = list(logs.keys())\n",
    "        print(\"Stop testing; got log keys: {}\".format(keys))\n",
    "\n",
    "    def on_predict_begin(self, logs=None):\n",
    "        keys = list(logs.keys())\n",
    "        print(\"Start predicting; got log keys: {}\".format(keys))\n",
    "\n",
    "    def on_predict_end(self, logs=None):\n",
    "        keys = list(logs.keys())\n",
    "        print(\"Stop predicting; got log keys: {}\".format(keys))\n",
    "\n",
    "    def on_train_batch_begin(self, batch, logs=None):\n",
    "        keys = list(logs.keys())\n",
    "        print(\"...Training: start of batch {}; got log keys: {}\".format(batch, keys))\n",
    "\n",
    "    def on_train_batch_end(self, batch, logs=None):\n",
    "        keys = list(logs.keys())\n",
    "        print(\"...Training: end of batch {}; got log keys: {}\".format(batch, keys))\n",
    "\n",
    "    def on_test_batch_begin(self, batch, logs=None):\n",
    "        keys = list(logs.keys())\n",
    "        print(\"...Evaluating: start of batch {}; got log keys: {}\".format(batch, keys))\n",
    "\n",
    "    def on_test_batch_end(self, batch, logs=None):\n",
    "        keys = list(logs.keys())\n",
    "        print(\"...Evaluating: end of batch {}; got log keys: {}\".format(batch, keys))\n",
    "\n",
    "    def on_predict_batch_begin(self, batch, logs=None):\n",
    "        keys = list(logs.keys())\n",
    "        print(\"...Predicting: start of batch {}; got log keys: {}\".format(batch, keys))\n",
    "\n",
    "    def on_predict_batch_end(self, batch, logs=None):\n",
    "        keys = list(logs.keys())\n",
    "        print(\"...Predicting: end of batch {}; got log keys: {}\".format(batch, keys))\n"
   ]
  },
  {
   "cell_type": "markdown",
   "metadata": {
    "id": "8184bd3a76c2"
   },
   "source": [
    "我们来试一下："
   ]
  },
  {
   "cell_type": "code",
   "execution_count": 6,
   "metadata": {
    "execution": {
     "iopub.execute_input": "2021-04-07T19:05:00.727099Z",
     "iopub.status.busy": "2021-04-07T19:05:00.726534Z",
     "iopub.status.idle": "2021-04-07T19:05:03.471200Z",
     "shell.execute_reply": "2021-04-07T19:05:03.471564Z"
    },
    "id": "75f7aa1edac6"
   },
   "outputs": [
    {
     "name": "stdout",
     "output_type": "stream",
     "text": [
      "Starting training; got log keys: []\n",
      "Start epoch 0 of training; got log keys: []\n",
      "...Training: start of batch 0; got log keys: []\n"
     ]
    },
    {
     "name": "stdout",
     "output_type": "stream",
     "text": [
      "...Training: end of batch 0; got log keys: ['loss', 'mean_absolute_error']\n",
      "...Training: start of batch 1; got log keys: []\n",
      "...Training: end of batch 1; got log keys: ['loss', 'mean_absolute_error']\n",
      "...Training: start of batch 2; got log keys: []\n",
      "...Training: end of batch 2; got log keys: ['loss', 'mean_absolute_error']\n",
      "...Training: start of batch 3; got log keys: []\n",
      "...Training: end of batch 3; got log keys: ['loss', 'mean_absolute_error']\n"
     ]
    },
    {
     "name": "stdout",
     "output_type": "stream",
     "text": [
      "Start testing; got log keys: []\n",
      "...Evaluating: start of batch 0; got log keys: []\n",
      "...Evaluating: end of batch 0; got log keys: ['loss', 'mean_absolute_error']\n",
      "...Evaluating: start of batch 1; got log keys: []\n",
      "...Evaluating: end of batch 1; got log keys: ['loss', 'mean_absolute_error']\n",
      "...Evaluating: start of batch 2; got log keys: []\n",
      "...Evaluating: end of batch 2; got log keys: ['loss', 'mean_absolute_error']\n",
      "...Evaluating: start of batch 3; got log keys: []\n",
      "...Evaluating: end of batch 3; got log keys: ['loss', 'mean_absolute_error']\n",
      "Stop testing; got log keys: ['loss', 'mean_absolute_error']\n",
      "End epoch 0 of training; got log keys: ['loss', 'mean_absolute_error', 'val_loss', 'val_mean_absolute_error']\n",
      "Stop training; got log keys: ['loss', 'mean_absolute_error', 'val_loss', 'val_mean_absolute_error']\n",
      "Start testing; got log keys: []\n",
      "...Evaluating: start of batch 0; got log keys: []\n",
      "...Evaluating: end of batch 0; got log keys: ['loss', 'mean_absolute_error']\n",
      "...Evaluating: start of batch 1; got log keys: []\n",
      "...Evaluating: end of batch 1; got log keys: ['loss', 'mean_absolute_error']\n",
      "...Evaluating: start of batch 2; got log keys: []\n",
      "...Evaluating: end of batch 2; got log keys: ['loss', 'mean_absolute_error']\n",
      "...Evaluating: start of batch 3; got log keys: []\n",
      "...Evaluating: end of batch 3; got log keys: ['loss', 'mean_absolute_error']\n",
      "...Evaluating: start of batch 4; got log keys: []\n",
      "...Evaluating: end of batch 4; got log keys: ['loss', 'mean_absolute_error']\n",
      "...Evaluating: start of batch 5; got log keys: []\n",
      "...Evaluating: end of batch 5; got log keys: ['loss', 'mean_absolute_error']\n",
      "...Evaluating: start of batch 6; got log keys: []\n",
      "...Evaluating: end of batch 6; got log keys: ['loss', 'mean_absolute_error']\n",
      "...Evaluating: start of batch 7; got log keys: []\n",
      "...Evaluating: end of batch 7; got log keys: ['loss', 'mean_absolute_error']\n",
      "Stop testing; got log keys: ['loss', 'mean_absolute_error']\n",
      "Start predicting; got log keys: []\n",
      "...Predicting: start of batch 0; got log keys: []\n",
      "...Predicting: end of batch 0; got log keys: ['outputs']\n",
      "...Predicting: start of batch 1; got log keys: []\n"
     ]
    },
    {
     "name": "stdout",
     "output_type": "stream",
     "text": [
      "...Predicting: end of batch 1; got log keys: ['outputs']\n",
      "...Predicting: start of batch 2; got log keys: []\n",
      "...Predicting: end of batch 2; got log keys: ['outputs']\n",
      "...Predicting: start of batch 3; got log keys: []\n",
      "...Predicting: end of batch 3; got log keys: ['outputs']\n",
      "...Predicting: start of batch 4; got log keys: []\n",
      "...Predicting: end of batch 4; got log keys: ['outputs']\n",
      "...Predicting: start of batch 5; got log keys: []\n",
      "...Predicting: end of batch 5; got log keys: ['outputs']\n",
      "...Predicting: start of batch 6; got log keys: []\n",
      "...Predicting: end of batch 6; got log keys: ['outputs']\n",
      "...Predicting: start of batch 7; got log keys: []\n",
      "...Predicting: end of batch 7; got log keys: ['outputs']\n",
      "Stop predicting; got log keys: []\n"
     ]
    }
   ],
   "source": [
    "model = get_model()\n",
    "model.fit(\n",
    "    x_train,\n",
    "    y_train,\n",
    "    batch_size=128,\n",
    "    epochs=1,\n",
    "    verbose=0,\n",
    "    validation_split=0.5,\n",
    "    callbacks=[CustomCallback()],\n",
    ")\n",
    "\n",
    "res = model.evaluate(\n",
    "    x_test, y_test, batch_size=128, verbose=0, callbacks=[CustomCallback()]\n",
    ")\n",
    "\n",
    "res = model.predict(x_test, batch_size=128, callbacks=[CustomCallback()])"
   ]
  },
  {
   "cell_type": "markdown",
   "metadata": {
    "id": "02113b8677eb"
   },
   "source": [
    "### `logs` 字典的用法\n",
    "\n",
    "`logs` 字典包含损失值，以及批次或周期结束时的所有指标。示例包括损失和平均绝对误差。"
   ]
  },
  {
   "cell_type": "code",
   "execution_count": 7,
   "metadata": {
    "execution": {
     "iopub.execute_input": "2021-04-07T19:05:03.479468Z",
     "iopub.status.busy": "2021-04-07T19:05:03.478882Z",
     "iopub.status.idle": "2021-04-07T19:05:03.883542Z",
     "shell.execute_reply": "2021-04-07T19:05:03.883916Z"
    },
    "id": "2c5e71af7abe"
   },
   "outputs": [
    {
     "name": "stdout",
     "output_type": "stream",
     "text": [
      "For batch 0, loss is   24.99.\n",
      "For batch 1, loss is  494.81.\n",
      "For batch 2, loss is  338.22.\n",
      "For batch 3, loss is  256.11.\n",
      "For batch 4, loss is  206.34.\n",
      "For batch 5, loss is  172.97.\n",
      "For batch 6, loss is  149.13.\n",
      "For batch 7, loss is  134.18.\n",
      "The average loss for epoch 0 is  134.18 and mean absolute error is    6.11.\n",
      "For batch 0, loss is    4.78.\n",
      "For batch 1, loss is    5.10.\n",
      "For batch 2, loss is    4.68.\n",
      "For batch 3, loss is    4.67.\n",
      "For batch 4, loss is    4.59.\n",
      "For batch 5, loss is    4.66.\n",
      "For batch 6, loss is    4.65.\n",
      "For batch 7, loss is    4.60.\n",
      "The average loss for epoch 1 is    4.60 and mean absolute error is    1.75.\n",
      "For batch 0, loss is    5.27.\n",
      "For batch 1, loss is    4.53.\n",
      "For batch 2, loss is    4.58.\n",
      "For batch 3, loss is    4.52.\n",
      "For batch 4, loss is    4.67.\n",
      "For batch 5, loss is    4.66.\n",
      "For batch 6, loss is    4.60.\n",
      "For batch 7, loss is    4.54.\n"
     ]
    }
   ],
   "source": [
    "class LossAndErrorPrintingCallback(keras.callbacks.Callback):\n",
    "    def on_train_batch_end(self, batch, logs=None):\n",
    "        print(\"For batch {}, loss is {:7.2f}.\".format(batch, logs[\"loss\"]))\n",
    "\n",
    "    def on_test_batch_end(self, batch, logs=None):\n",
    "        print(\"For batch {}, loss is {:7.2f}.\".format(batch, logs[\"loss\"]))\n",
    "\n",
    "    def on_epoch_end(self, epoch, logs=None):\n",
    "        print(\n",
    "            \"The average loss for epoch {} is {:7.2f} \"\n",
    "            \"and mean absolute error is {:7.2f}.\".format(\n",
    "                epoch, logs[\"loss\"], logs[\"mean_absolute_error\"]\n",
    "            )\n",
    "        )\n",
    "\n",
    "\n",
    "model = get_model()\n",
    "model.fit(\n",
    "    x_train,\n",
    "    y_train,\n",
    "    batch_size=128,\n",
    "    epochs=2,\n",
    "    verbose=0,\n",
    "    callbacks=[LossAndErrorPrintingCallback()],\n",
    ")\n",
    "\n",
    "res = model.evaluate(\n",
    "    x_test,\n",
    "    y_test,\n",
    "    batch_size=128,\n",
    "    verbose=0,\n",
    "    callbacks=[LossAndErrorPrintingCallback()],\n",
    ")"
   ]
  },
  {
   "cell_type": "markdown",
   "metadata": {
    "id": "742d62e5394a"
   },
   "source": [
    "## `self.model` 属性的用法\n",
    "\n",
    "除了在调用其中一种方法时接收日志信息外，回调还可以访问与当前一轮训练/评估/推断有关的模型：`self.model`。\n",
    "\n",
    "以下是您可以在回调函数中使用 `self.model` 进行的一些操作：\n",
    "\n",
    "- 设置 `self.model.stop_training = True` 以立即中断训练。\n",
    "- 转变优化器（可作为 `self.model.optimizer`）的超参数，例如 `self.model.optimizer.learning_rate`。\n",
    "- 定期保存模型。\n",
    "- 在每个周期结束时，在少量测试样本上记录 `model.predict()` 的输出，以用作训练期间的健全性检查。\n",
    "- 在每个周期结束时提取中间特征的可视化，随时间推移监视模型当前的学习内容。\n",
    "- 其他\n",
    "\n",
    "下面我们通过几个示例来看看它是如何工作的。"
   ]
  },
  {
   "cell_type": "markdown",
   "metadata": {
    "id": "7eb29d3ed752"
   },
   "source": [
    "## Keras 回调函数应用示例"
   ]
  },
  {
   "cell_type": "markdown",
   "metadata": {
    "id": "2d1d29d99fa5"
   },
   "source": [
    "### 在达到最小损失时尽早停止\n",
    "\n",
    "第一个示例展示了如何通过设置 `self.model.stop_training`（布尔）属性来创建能够在达到最小损失时停止训练的 `Callback`。您还可以提供参数 `patience` 来指定在达到局部最小值后应该等待多少个周期然后停止。\n",
    "\n",
    "`tf.keras.callbacks.EarlyStopping` 提供了一种更完整、更通用的实现。"
   ]
  },
  {
   "cell_type": "code",
   "execution_count": 8,
   "metadata": {
    "execution": {
     "iopub.execute_input": "2021-04-07T19:05:03.895857Z",
     "iopub.status.busy": "2021-04-07T19:05:03.893589Z",
     "iopub.status.idle": "2021-04-07T19:05:04.214499Z",
     "shell.execute_reply": "2021-04-07T19:05:04.214889Z"
    },
    "id": "5d2acd79cecd"
   },
   "outputs": [
    {
     "name": "stdout",
     "output_type": "stream",
     "text": [
      "For batch 0, loss is   28.00.\n",
      "For batch 1, loss is  421.44.\n",
      "For batch 2, loss is  287.19.\n",
      "For batch 3, loss is  218.01.\n",
      "For batch 4, loss is  175.96.\n",
      "The average loss for epoch 0 is  175.96 and mean absolute error is    7.89.\n",
      "For batch 0, loss is    5.78.\n",
      "For batch 1, loss is    6.13.\n",
      "For batch 2, loss is    6.36.\n",
      "For batch 3, loss is    5.85.\n",
      "For batch 4, loss is    5.86.\n",
      "The average loss for epoch 1 is    5.86 and mean absolute error is    2.00.\n",
      "For batch 0, loss is    4.92.\n",
      "For batch 1, loss is    4.27.\n",
      "For batch 2, loss is    4.53.\n",
      "For batch 3, loss is    4.59.\n",
      "For batch 4, loss is    4.43.\n",
      "The average loss for epoch 2 is    4.43 and mean absolute error is    1.69.\n",
      "For batch 0, loss is    5.66.\n",
      "For batch 1, loss is    5.16.\n",
      "For batch 2, loss is    4.60.\n",
      "For batch 3, loss is    4.96.\n",
      "For batch 4, loss is    6.47.\n",
      "The average loss for epoch 3 is    6.47 and mean absolute error is    2.02.\n",
      "Restoring model weights from the end of the best epoch.\n",
      "Epoch 00004: early stopping\n"
     ]
    },
    {
     "data": {
      "text/plain": [
       "<tensorflow.python.keras.callbacks.History at 0x7f1968109da0>"
      ]
     },
     "execution_count": 1,
     "metadata": {},
     "output_type": "execute_result"
    }
   ],
   "source": [
    "import numpy as np\n",
    "\n",
    "\n",
    "class EarlyStoppingAtMinLoss(keras.callbacks.Callback):\n",
    "    \"\"\"Stop training when the loss is at its min, i.e. the loss stops decreasing.\n",
    "\n",
    "  Arguments:\n",
    "      patience: Number of epochs to wait after min has been hit. After this\n",
    "      number of no improvement, training stops.\n",
    "  \"\"\"\n",
    "\n",
    "    def __init__(self, patience=0):\n",
    "        super(EarlyStoppingAtMinLoss, self).__init__()\n",
    "        self.patience = patience\n",
    "        # best_weights to store the weights at which the minimum loss occurs.\n",
    "        self.best_weights = None\n",
    "\n",
    "    def on_train_begin(self, logs=None):\n",
    "        # The number of epoch it has waited when loss is no longer minimum.\n",
    "        self.wait = 0\n",
    "        # The epoch the training stops at.\n",
    "        self.stopped_epoch = 0\n",
    "        # Initialize the best as infinity.\n",
    "        self.best = np.Inf\n",
    "\n",
    "    def on_epoch_end(self, epoch, logs=None):\n",
    "        current = logs.get(\"loss\")\n",
    "        if np.less(current, self.best):\n",
    "            self.best = current\n",
    "            self.wait = 0\n",
    "            # Record the best weights if current results is better (less).\n",
    "            self.best_weights = self.model.get_weights()\n",
    "        else:\n",
    "            self.wait += 1\n",
    "            if self.wait >= self.patience:\n",
    "                self.stopped_epoch = epoch\n",
    "                self.model.stop_training = True\n",
    "                print(\"Restoring model weights from the end of the best epoch.\")\n",
    "                self.model.set_weights(self.best_weights)\n",
    "\n",
    "    def on_train_end(self, logs=None):\n",
    "        if self.stopped_epoch > 0:\n",
    "            print(\"Epoch %05d: early stopping\" % (self.stopped_epoch + 1))\n",
    "\n",
    "\n",
    "model = get_model()\n",
    "model.fit(\n",
    "    x_train,\n",
    "    y_train,\n",
    "    batch_size=64,\n",
    "    steps_per_epoch=5,\n",
    "    epochs=30,\n",
    "    verbose=0,\n",
    "    callbacks=[LossAndErrorPrintingCallback(), EarlyStoppingAtMinLoss()],\n",
    ")"
   ]
  },
  {
   "cell_type": "markdown",
   "metadata": {
    "id": "939ecfbe0383"
   },
   "source": [
    "### 学习率规划\n",
    "\n",
    "在此示例中，我们展示了如何在学习过程中使用自定义回调来动态更改优化器的学习率。\n",
    "\n",
    "有关更通用的实现，请查看 `callbacks.LearningRateScheduler`。"
   ]
  },
  {
   "cell_type": "code",
   "execution_count": 9,
   "metadata": {
    "execution": {
     "iopub.execute_input": "2021-04-07T19:05:04.225397Z",
     "iopub.status.busy": "2021-04-07T19:05:04.224488Z",
     "iopub.status.idle": "2021-04-07T19:05:04.653234Z",
     "shell.execute_reply": "2021-04-07T19:05:04.653627Z"
    },
    "id": "71c752b248c0"
   },
   "outputs": [
    {
     "name": "stdout",
     "output_type": "stream",
     "text": [
      "\n",
      "Epoch 00000: Learning rate is 0.1000.\n"
     ]
    },
    {
     "name": "stdout",
     "output_type": "stream",
     "text": [
      "For batch 0, loss is   26.58.\n",
      "For batch 1, loss is  494.68.\n",
      "For batch 2, loss is  339.22.\n",
      "For batch 3, loss is  257.81.\n",
      "For batch 4, loss is  207.42.\n",
      "The average loss for epoch 0 is  207.42 and mean absolute error is    8.60.\n",
      "\n",
      "Epoch 00001: Learning rate is 0.1000.\n",
      "For batch 0, loss is    6.30.\n",
      "For batch 1, loss is    6.45.\n",
      "For batch 2, loss is    6.02.\n",
      "For batch 3, loss is    5.85.\n",
      "For batch 4, loss is    5.73.\n",
      "The average loss for epoch 1 is    5.73 and mean absolute error is    1.97.\n",
      "\n",
      "Epoch 00002: Learning rate is 0.1000.\n",
      "For batch 0, loss is    5.97.\n",
      "For batch 1, loss is    6.09.\n",
      "For batch 2, loss is    5.57.\n",
      "For batch 3, loss is    5.10.\n",
      "For batch 4, loss is    5.02.\n",
      "The average loss for epoch 2 is    5.02 and mean absolute error is    1.82.\n",
      "\n",
      "Epoch 00003: Learning rate is 0.0500.\n",
      "For batch 0, loss is    3.41.\n",
      "For batch 1, loss is    3.07.\n",
      "For batch 2, loss is    3.92.\n",
      "For batch 3, loss is    3.89.\n",
      "For batch 4, loss is    3.88.\n",
      "The average loss for epoch 3 is    3.88 and mean absolute error is    1.60.\n",
      "\n",
      "Epoch 00004: Learning rate is 0.0500.\n",
      "For batch 0, loss is    4.15.\n",
      "For batch 1, loss is    4.11.\n",
      "For batch 2, loss is    4.39.\n",
      "For batch 3, loss is    4.00.\n",
      "For batch 4, loss is    3.76.\n",
      "The average loss for epoch 4 is    3.76 and mean absolute error is    1.53.\n",
      "\n",
      "Epoch 00005: Learning rate is 0.0500.\n",
      "For batch 0, loss is    3.04.\n",
      "For batch 1, loss is    3.79.\n",
      "For batch 2, loss is    4.17.\n",
      "For batch 3, loss is    4.15.\n",
      "For batch 4, loss is    4.28.\n",
      "The average loss for epoch 5 is    4.28 and mean absolute error is    1.68.\n",
      "\n",
      "Epoch 00006: Learning rate is 0.0100.\n",
      "For batch 0, loss is    3.38.\n",
      "For batch 1, loss is    3.37.\n",
      "For batch 2, loss is    3.31.\n",
      "For batch 3, loss is    3.30.\n",
      "For batch 4, loss is    3.10.\n",
      "The average loss for epoch 6 is    3.10 and mean absolute error is    1.39.\n",
      "\n",
      "Epoch 00007: Learning rate is 0.0100.\n",
      "For batch 0, loss is    2.34.\n",
      "For batch 1, loss is    3.27.\n",
      "For batch 2, loss is    3.12.\n",
      "For batch 3, loss is    3.20.\n",
      "For batch 4, loss is    3.36.\n",
      "The average loss for epoch 7 is    3.36 and mean absolute error is    1.43.\n",
      "\n",
      "Epoch 00008: Learning rate is 0.0100.\n",
      "For batch 0, loss is    3.17.\n",
      "For batch 1, loss is    3.36.\n",
      "For batch 2, loss is    3.25.\n",
      "For batch 3, loss is    3.46.\n",
      "For batch 4, loss is    3.30.\n",
      "The average loss for epoch 8 is    3.30 and mean absolute error is    1.42.\n",
      "\n",
      "Epoch 00009: Learning rate is 0.0050.\n",
      "For batch 0, loss is    4.70.\n",
      "For batch 1, loss is    4.53.\n",
      "For batch 2, loss is    4.17.\n",
      "For batch 3, loss is    4.09.\n",
      "For batch 4, loss is    4.21.\n",
      "The average loss for epoch 9 is    4.21 and mean absolute error is    1.57.\n",
      "\n",
      "Epoch 00010: Learning rate is 0.0050.\n",
      "For batch 0, loss is    3.18.\n",
      "For batch 1, loss is    2.82.\n",
      "For batch 2, loss is    2.83.\n",
      "For batch 3, loss is    2.96.\n",
      "For batch 4, loss is    3.04.\n",
      "The average loss for epoch 10 is    3.04 and mean absolute error is    1.35.\n",
      "\n",
      "Epoch 00011: Learning rate is 0.0050.\n",
      "For batch 0, loss is    2.83.\n",
      "For batch 1, loss is    2.75.\n",
      "For batch 2, loss is    3.21.\n",
      "For batch 3, loss is    3.14.\n",
      "For batch 4, loss is    3.11.\n",
      "The average loss for epoch 11 is    3.11 and mean absolute error is    1.35.\n",
      "\n",
      "Epoch 00012: Learning rate is 0.0010.\n",
      "For batch 0, loss is    4.10.\n",
      "For batch 1, loss is    3.88.\n",
      "For batch 2, loss is    3.50.\n",
      "For batch 3, loss is    3.34.\n",
      "For batch 4, loss is    3.14.\n",
      "The average loss for epoch 12 is    3.14 and mean absolute error is    1.39.\n",
      "\n",
      "Epoch 00013: Learning rate is 0.0010.\n",
      "For batch 0, loss is    2.93.\n",
      "For batch 1, loss is    3.17.\n",
      "For batch 2, loss is    2.94.\n",
      "For batch 3, loss is    2.86.\n",
      "For batch 4, loss is    2.90.\n",
      "The average loss for epoch 13 is    2.90 and mean absolute error is    1.33.\n",
      "\n",
      "Epoch 00014: Learning rate is 0.0010.\n",
      "For batch 0, loss is    2.94.\n",
      "For batch 1, loss is    3.55.\n",
      "For batch 2, loss is    3.35.\n",
      "For batch 3, loss is    3.29.\n",
      "For batch 4, loss is    3.44.\n",
      "The average loss for epoch 14 is    3.44 and mean absolute error is    1.38.\n"
     ]
    },
    {
     "data": {
      "text/plain": [
       "<tensorflow.python.keras.callbacks.History at 0x7f1968055dd8>"
      ]
     },
     "execution_count": 1,
     "metadata": {},
     "output_type": "execute_result"
    }
   ],
   "source": [
    "class CustomLearningRateScheduler(keras.callbacks.Callback):\n",
    "    \"\"\"Learning rate scheduler which sets the learning rate according to schedule.\n",
    "\n",
    "  Arguments:\n",
    "      schedule: a function that takes an epoch index\n",
    "          (integer, indexed from 0) and current learning rate\n",
    "          as inputs and returns a new learning rate as output (float).\n",
    "  \"\"\"\n",
    "\n",
    "    def __init__(self, schedule):\n",
    "        super(CustomLearningRateScheduler, self).__init__()\n",
    "        self.schedule = schedule\n",
    "\n",
    "    def on_epoch_begin(self, epoch, logs=None):\n",
    "        if not hasattr(self.model.optimizer, \"lr\"):\n",
    "            raise ValueError('Optimizer must have a \"lr\" attribute.')\n",
    "        # Get the current learning rate from model's optimizer.\n",
    "        lr = float(tf.keras.backend.get_value(self.model.optimizer.learning_rate))\n",
    "        # Call schedule function to get the scheduled learning rate.\n",
    "        scheduled_lr = self.schedule(epoch, lr)\n",
    "        # Set the value back to the optimizer before this epoch starts\n",
    "        tf.keras.backend.set_value(self.model.optimizer.lr, scheduled_lr)\n",
    "        print(\"\\nEpoch %05d: Learning rate is %6.4f.\" % (epoch, scheduled_lr))\n",
    "\n",
    "\n",
    "LR_SCHEDULE = [\n",
    "    # (epoch to start, learning rate) tuples\n",
    "    (3, 0.05),\n",
    "    (6, 0.01),\n",
    "    (9, 0.005),\n",
    "    (12, 0.001),\n",
    "]\n",
    "\n",
    "\n",
    "def lr_schedule(epoch, lr):\n",
    "    \"\"\"Helper function to retrieve the scheduled learning rate based on epoch.\"\"\"\n",
    "    if epoch < LR_SCHEDULE[0][0] or epoch > LR_SCHEDULE[-1][0]:\n",
    "        return lr\n",
    "    for i in range(len(LR_SCHEDULE)):\n",
    "        if epoch == LR_SCHEDULE[i][0]:\n",
    "            return LR_SCHEDULE[i][1]\n",
    "    return lr\n",
    "\n",
    "\n",
    "model = get_model()\n",
    "model.fit(\n",
    "    x_train,\n",
    "    y_train,\n",
    "    batch_size=64,\n",
    "    steps_per_epoch=5,\n",
    "    epochs=15,\n",
    "    verbose=0,\n",
    "    callbacks=[\n",
    "        LossAndErrorPrintingCallback(),\n",
    "        CustomLearningRateScheduler(lr_schedule),\n",
    "    ],\n",
    ")"
   ]
  },
  {
   "cell_type": "markdown",
   "metadata": {
    "id": "c9be225b57f1"
   },
   "source": [
    "### 内置 Keras 回调函数\n",
    "\n",
    "请务必阅读 [API 文档](https://tensorflow.google.cn/api_docs/python/tf/keras/callbacks/)查看现有的 Keras 回调函数。应用包括记录到 CSV、保存模型、在 TensorBoard 中可视化指标等等！"
   ]
  }
 ],
 "metadata": {
  "colab": {
   "collapsed_sections": [],
   "name": "custom_callback.ipynb",
   "toc_visible": true
  },
  "kernelspec": {
   "display_name": "Python 3",
   "name": "python3"
  },
  "language_info": {
   "codemirror_mode": {
    "name": "ipython",
    "version": 3
   },
   "file_extension": ".py",
   "mimetype": "text/x-python",
   "name": "python",
   "nbconvert_exporter": "python",
   "pygments_lexer": "ipython3",
   "version": "3.6.9"
  }
 },
 "nbformat": 4,
 "nbformat_minor": 0
}
