{
 "cells": [
  {
   "cell_type": "markdown",
   "metadata": {
    "id": "Tce3stUlHN0L"
   },
   "source": [
    "##### Copyright 2020 The TensorFlow Authors."
   ]
  },
  {
   "cell_type": "code",
   "execution_count": 1,
   "metadata": {
    "cellView": "form",
    "execution": {
     "iopub.execute_input": "2020-11-12T07:38:41.108333Z",
     "iopub.status.busy": "2020-11-12T07:38:41.107661Z",
     "iopub.status.idle": "2020-11-12T07:38:41.110019Z",
     "shell.execute_reply": "2020-11-12T07:38:41.109369Z"
    },
    "id": "tuOe1ymfHZPu"
   },
   "outputs": [],
   "source": [
    "#@title Licensed under the Apache License, Version 2.0 (the \"License\");\n",
    "# you may not use this file except in compliance with the License.\n",
    "# You may obtain a copy of the License at\n",
    "#\n",
    "# https://www.apache.org/licenses/LICENSE-2.0\n",
    "#\n",
    "# Unless required by applicable law or agreed to in writing, software\n",
    "# distributed under the License is distributed on an \"AS IS\" BASIS,\n",
    "# WITHOUT WARRANTIES OR CONDITIONS OF ANY KIND, either express or implied.\n",
    "# See the License for the specific language governing permissions and\n",
    "# limitations under the License."
   ]
  },
  {
   "cell_type": "markdown",
   "metadata": {
    "id": "qFdPvlXBOdUN"
   },
   "source": [
    "# 高级自动微分"
   ]
  },
  {
   "cell_type": "markdown",
   "metadata": {
    "id": "MfBg1C5NB3X0"
   },
   "source": [
    "<table class=\"tfo-notebook-buttons\" align=\"left\">\n",
    "  <td><a target=\"_blank\" href=\"https://tensorflow.google.cn/guide/advanced_autodiff\"><img src=\"https://tensorflow.google.cn/images/tf_logo_32px.png\" class=\"\"> 在  TensorFlow.org 上查看</a></td>\n",
    "  <td><a target=\"_blank\" href=\"https://colab.research.google.com/github/tensorflow/docs-l10n/blob/master/site/zh-cn/guide/advanced_autodiff.ipynb\"><img src=\"https://tensorflow.google.cn/images/colab_logo_32px.png\" class=\"\">在 Google Colab 中运行 </a></td>\n",
    "  <td><a target=\"_blank\" href=\"https://github.com/tensorflow/docs-l10n/blob/master/site/zh-cn/guide/advanced_autodiff.ipynb\"><img src=\"https://tensorflow.google.cn/images/GitHub-Mark-32px.png\" class=\"\"> 在 GitHub 上查看源代码</a></td>\n",
    "  <td><a href=\"https://storage.googleapis.com/tensorflow_docs/docs-l10n/site/zh-cn/guide/advanced_autodiff.ipynb\"><img src=\"https://tensorflow.google.cn/images/download_logo_32px.png\" class=\"\"> 下载笔记本</a></td>\n",
    "</table>"
   ]
  },
  {
   "cell_type": "markdown",
   "metadata": {
    "id": "r6P32iYYV27b"
   },
   "source": [
    "[自动微分指南](autodiff.ipynb)包括计算梯度所需的全部内容。本文重点介绍 `tf.GradientTape` API 更深入、更不常见的功能。"
   ]
  },
  {
   "cell_type": "markdown",
   "metadata": {
    "id": "MUXex9ctTuDB"
   },
   "source": [
    "## 设置"
   ]
  },
  {
   "cell_type": "code",
   "execution_count": 2,
   "metadata": {
    "execution": {
     "iopub.execute_input": "2020-11-12T07:38:41.114865Z",
     "iopub.status.busy": "2020-11-12T07:38:41.114194Z",
     "iopub.status.idle": "2020-11-12T07:38:47.053008Z",
     "shell.execute_reply": "2020-11-12T07:38:47.052423Z"
    },
    "id": "IqR2PQG4ZaZ0"
   },
   "outputs": [],
   "source": [
    "import tensorflow as tf\n",
    "\n",
    "import matplotlib as mpl\n",
    "import matplotlib.pyplot as plt\n",
    "\n",
    "mpl.rcParams['figure.figsize'] = (8, 6)"
   ]
  },
  {
   "cell_type": "markdown",
   "metadata": {
    "id": "uGRJJRi8TCkJ"
   },
   "source": [
    "## 控制梯度记录\n",
    "\n",
    "在[自动微分指南](autodiff.ipynb)中，您已了解构建梯度计算时如何控制条带监视变量和张量。\n",
    "\n",
    "条带还具有操作记录的方法。"
   ]
  },
  {
   "cell_type": "markdown",
   "metadata": {
    "id": "gB_i0VnhQKt2"
   },
   "source": [
    "如果您希望停止记录梯度，可以使用 `GradientTape.stop_recording()` 暂时挂起记录。\n",
    "\n",
    "如果您不希望在模型中间对复杂运算微分，这可能有助于减少开销。其中可能包括计算指标或中间结果："
   ]
  },
  {
   "cell_type": "code",
   "execution_count": 3,
   "metadata": {
    "execution": {
     "iopub.execute_input": "2020-11-12T07:38:47.058727Z",
     "iopub.status.busy": "2020-11-12T07:38:47.058108Z",
     "iopub.status.idle": "2020-11-12T07:38:48.678748Z",
     "shell.execute_reply": "2020-11-12T07:38:48.679243Z"
    },
    "id": "mhFSYf7uQWxR"
   },
   "outputs": [
    {
     "name": "stdout",
     "output_type": "stream",
     "text": [
      "dz/dx: tf.Tensor(4.0, shape=(), dtype=float32)\n",
      "dz/dy: None\n"
     ]
    }
   ],
   "source": [
    "x = tf.Variable(2.0)\n",
    "y = tf.Variable(3.0)\n",
    "\n",
    "with tf.GradientTape() as t:\n",
    "  x_sq = x * x\n",
    "  with t.stop_recording():\n",
    "    y_sq = y * y\n",
    "  z = x_sq + y_sq\n",
    "\n",
    "grad = t.gradient(z, {'x': x, 'y': y})\n",
    "\n",
    "print('dz/dx:', grad['x'])  # 2*x => 4\n",
    "print('dz/dy:', grad['y'])"
   ]
  },
  {
   "cell_type": "markdown",
   "metadata": {
    "id": "DEHbEZ1h4p8A"
   },
   "source": [
    "如果您希望完全重新开始，请使用 `reset()`。通常，直接退出梯度带块并重新开始比较易于读取，但在退出梯度带块有困难或不可行时，可以使用 `reset`。"
   ]
  },
  {
   "cell_type": "code",
   "execution_count": 4,
   "metadata": {
    "execution": {
     "iopub.execute_input": "2020-11-12T07:38:48.685352Z",
     "iopub.status.busy": "2020-11-12T07:38:48.684662Z",
     "iopub.status.idle": "2020-11-12T07:38:48.690196Z",
     "shell.execute_reply": "2020-11-12T07:38:48.690675Z"
    },
    "id": "lsMHsmrh4pqM"
   },
   "outputs": [
    {
     "name": "stdout",
     "output_type": "stream",
     "text": [
      "dz/dx: tf.Tensor(4.0, shape=(), dtype=float32)\n",
      "dz/dy: None\n"
     ]
    }
   ],
   "source": [
    "x = tf.Variable(2.0)\n",
    "y = tf.Variable(3.0)\n",
    "reset = True\n",
    "\n",
    "with tf.GradientTape() as t:\n",
    "  y_sq = y * y\n",
    "  if reset:\n",
    "    # Throw out all the tape recorded so far\n",
    "    t.reset()\n",
    "  z = x * x + y_sq\n",
    "\n",
    "grad = t.gradient(z, {'x': x, 'y': y})\n",
    "\n",
    "print('dz/dx:', grad['x'])  # 2*x => 4\n",
    "print('dz/dy:', grad['y'])"
   ]
  },
  {
   "cell_type": "markdown",
   "metadata": {
    "id": "6zS7cLmS6zMf"
   },
   "source": [
    "## 停止梯度\n",
    "\n",
    "与上面的全局条带控制相比，`tf.stop_gradient` 函数更加精确。它可以用来阻止梯度沿着特定路径流动，而不需要访问条带本身："
   ]
  },
  {
   "cell_type": "code",
   "execution_count": 5,
   "metadata": {
    "execution": {
     "iopub.execute_input": "2020-11-12T07:38:48.696008Z",
     "iopub.status.busy": "2020-11-12T07:38:48.695260Z",
     "iopub.status.idle": "2020-11-12T07:38:48.701282Z",
     "shell.execute_reply": "2020-11-12T07:38:48.700656Z"
    },
    "id": "30qnZMe48BkB"
   },
   "outputs": [
    {
     "name": "stdout",
     "output_type": "stream",
     "text": [
      "dz/dx: tf.Tensor(4.0, shape=(), dtype=float32)\n",
      "dz/dy: None\n"
     ]
    }
   ],
   "source": [
    "x = tf.Variable(2.0)\n",
    "y = tf.Variable(3.0)\n",
    "\n",
    "with tf.GradientTape() as t:\n",
    "  y_sq = y**2\n",
    "  z = x**2 + tf.stop_gradient(y_sq)\n",
    "\n",
    "grad = t.gradient(z, {'x': x, 'y': y})\n",
    "\n",
    "print('dz/dx:', grad['x'])  # 2*x => 4\n",
    "print('dz/dy:', grad['y'])"
   ]
  },
  {
   "cell_type": "markdown",
   "metadata": {
    "id": "mbb-9lnGVngH"
   },
   "source": [
    "## 自定义梯度\n",
    "\n",
    "在某些情况下，您可能需要精确控制梯度的计算方式，而不是使用默认值。这些情况包括：\n",
    "\n",
    "- 正在编写的新运算没有定义的梯度。\n",
    "- 默认计算在数值上不稳定。\n",
    "- 您希望从前向传递缓存开销大的计算。\n",
    "- 您想修改一个值（例如使用：`tf.clip_by_value`、`tf.math.round`）而不修改梯度。\n",
    "\n",
    "对于编写新运算，您可以使用 `tf.RegisterGradient` 自行设置。请参阅其页面了解详细信息。（注意，梯度注册为全局，需谨慎更改。）\n",
    "\n",
    "对于后三种情况，可以使用 `tf.custom_gradient`。\n"
   ]
  },
  {
   "cell_type": "markdown",
   "metadata": {
    "id": "oHr31kc_irF_"
   },
   "source": [
    "以下示例将 `tf.clip_by_norm` 应用于中间梯度。"
   ]
  },
  {
   "cell_type": "code",
   "execution_count": 6,
   "metadata": {
    "execution": {
     "iopub.execute_input": "2020-11-12T07:38:48.706622Z",
     "iopub.status.busy": "2020-11-12T07:38:48.705894Z",
     "iopub.status.idle": "2020-11-12T07:38:48.712175Z",
     "shell.execute_reply": "2020-11-12T07:38:48.711706Z"
    },
    "id": "Mjj01w4NYtwd"
   },
   "outputs": [
    {
     "name": "stdout",
     "output_type": "stream",
     "text": [
      "tf.Tensor(2.0, shape=(), dtype=float32)\n"
     ]
    }
   ],
   "source": [
    "# Establish an identity operation, but clip during the gradient pass\n",
    "@tf.custom_gradient\n",
    "def clip_gradients(y):\n",
    "  def backward(dy):\n",
    "    return tf.clip_by_norm(dy, 0.5)\n",
    "  return y, backward\n",
    "\n",
    "v = tf.Variable(2.0)\n",
    "with tf.GradientTape() as t:\n",
    "  output = clip_gradients(v * v)\n",
    "print(t.gradient(output, v))  # calls \"backward\", which clips 4 to 2\n"
   ]
  },
  {
   "cell_type": "markdown",
   "metadata": {
    "id": "n4t7S0scYrD3"
   },
   "source": [
    "请参见 `tf.custom_gradient` 装饰器了解更多详细信息。"
   ]
  },
  {
   "cell_type": "markdown",
   "metadata": {
    "id": "8aENEt6Veryb"
   },
   "source": [
    "## 多个条带\n",
    "\n",
    "多个条带无缝交互。例如，下面每个条带监视不同的张量集："
   ]
  },
  {
   "cell_type": "code",
   "execution_count": 7,
   "metadata": {
    "execution": {
     "iopub.execute_input": "2020-11-12T07:38:48.717945Z",
     "iopub.status.busy": "2020-11-12T07:38:48.717301Z",
     "iopub.status.idle": "2020-11-12T07:38:48.719829Z",
     "shell.execute_reply": "2020-11-12T07:38:48.720245Z"
    },
    "id": "BJ0HdMvte0VZ"
   },
   "outputs": [],
   "source": [
    "x0 = tf.constant(0.0)\n",
    "x1 = tf.constant(0.0)\n",
    "\n",
    "with tf.GradientTape() as tape0, tf.GradientTape() as tape1:\n",
    "  tape0.watch(x0)\n",
    "  tape1.watch(x1)\n",
    "\n",
    "  y0 = tf.math.sin(x0)\n",
    "  y1 = tf.nn.sigmoid(x1)\n",
    "\n",
    "  y = y0 + y1\n",
    "\n",
    "  ys = tf.reduce_sum(y)"
   ]
  },
  {
   "cell_type": "code",
   "execution_count": 8,
   "metadata": {
    "execution": {
     "iopub.execute_input": "2020-11-12T07:38:48.724260Z",
     "iopub.status.busy": "2020-11-12T07:38:48.723525Z",
     "iopub.status.idle": "2020-11-12T07:38:48.727788Z",
     "shell.execute_reply": "2020-11-12T07:38:48.728190Z"
    },
    "id": "6ApAoMNFfNz6"
   },
   "outputs": [
    {
     "data": {
      "text/plain": [
       "1.0"
      ]
     },
     "execution_count": 1,
     "metadata": {},
     "output_type": "execute_result"
    }
   ],
   "source": [
    "tape0.gradient(ys, x0).numpy()   # cos(x) => 1.0"
   ]
  },
  {
   "cell_type": "code",
   "execution_count": 9,
   "metadata": {
    "execution": {
     "iopub.execute_input": "2020-11-12T07:38:48.732465Z",
     "iopub.status.busy": "2020-11-12T07:38:48.731680Z",
     "iopub.status.idle": "2020-11-12T07:38:48.735316Z",
     "shell.execute_reply": "2020-11-12T07:38:48.734750Z"
    },
    "id": "rF1jrAJsfYW_"
   },
   "outputs": [
    {
     "data": {
      "text/plain": [
       "0.25"
      ]
     },
     "execution_count": 1,
     "metadata": {},
     "output_type": "execute_result"
    }
   ],
   "source": [
    "tape1.gradient(ys, x1).numpy()   # sigmoid(x1)*(1-sigmoid(x1)) => 0.25"
   ]
  },
  {
   "cell_type": "markdown",
   "metadata": {
    "id": "DK05KXrAAld3"
   },
   "source": [
    "### 高阶梯度\n",
    "\n",
    "`GradientTape` 上下文管理器内的运算会被记录下来，以供自动微分。如果在该上下文中计算梯度，梯度计算也会被记录。因此，完全相同的 API 也适用于高阶梯度。例如："
   ]
  },
  {
   "cell_type": "code",
   "execution_count": 10,
   "metadata": {
    "execution": {
     "iopub.execute_input": "2020-11-12T07:38:48.740367Z",
     "iopub.status.busy": "2020-11-12T07:38:48.739575Z",
     "iopub.status.idle": "2020-11-12T07:38:48.745145Z",
     "shell.execute_reply": "2020-11-12T07:38:48.744579Z"
    },
    "id": "cPQgthZ7ugRJ"
   },
   "outputs": [
    {
     "name": "stdout",
     "output_type": "stream",
     "text": [
      "dy_dx: 3.0\n",
      "d2y_dx2: 6.0\n"
     ]
    }
   ],
   "source": [
    "x = tf.Variable(1.0)  # Create a Tensorflow variable initialized to 1.0\n",
    "\n",
    "with tf.GradientTape() as t2:\n",
    "  with tf.GradientTape() as t1:\n",
    "    y = x * x * x\n",
    "\n",
    "  # Compute the gradient inside the outer `t2` context manager\n",
    "  # which means the gradient computation is differentiable as well.\n",
    "  dy_dx = t1.gradient(y, x)\n",
    "d2y_dx2 = t2.gradient(dy_dx, x)\n",
    "\n",
    "print('dy_dx:', dy_dx.numpy())  # 3 * x**2 => 3.0\n",
    "print('d2y_dx2:', d2y_dx2.numpy())  # 6 * x => 6.0"
   ]
  },
  {
   "cell_type": "markdown",
   "metadata": {
    "id": "k0HV-Ah4_76i"
   },
   "source": [
    "虽然这确实可以得到*标量*函数的二次导数，但这种模式并不能通用于生成黑塞矩阵，因为 `GradientTape.gradient` 只计算标量的梯度。要构造黑塞矩阵，请参见[“雅可比矩阵”部分](#jacobians)下的[“黑塞矩阵”示例](#hessian)。\n",
    "\n",
    "当您从梯度计算标量，然后产生的标量作为第二个梯度计算的源时，“嵌套调用 `GradientTape.gradient`”是一种不错的模式，如以下示例所示。\n"
   ]
  },
  {
   "cell_type": "markdown",
   "metadata": {
    "id": "t7LRlcpVKHv1"
   },
   "source": [
    "#### 示例：输入梯度正则化\n",
    "\n",
    "许多模型容易受到“对抗性示例”影响，这种技术的集合会修改模型的输入，进而混淆模型输出。[最简单的实现](https://tensorflow.google.cn/tutorials/generative/adversarial_fgsm)沿着输出相对于输入的梯度（即“输入梯度”） 迈出一步。\n",
    "\n",
    "一种增强相对于对抗性示例的稳健性的方法是[输入梯度正则化](https://arxiv.org/abs/1905.11468)，这种方法会尝试将输入梯度的幅度最小化。如果输入梯度较小，那么输出的变化也应该较小。\n",
    "\n",
    "以下是输入梯度正则化的简单实现：\n",
    "\n",
    "1. 使用内条带计算输出相对于输入的梯度。\n",
    "2. 计算该输入梯度的幅度。\n",
    "3. 计算该幅度相对于模型的梯度。"
   ]
  },
  {
   "cell_type": "code",
   "execution_count": 11,
   "metadata": {
    "execution": {
     "iopub.execute_input": "2020-11-12T07:38:48.750163Z",
     "iopub.status.busy": "2020-11-12T07:38:48.749535Z",
     "iopub.status.idle": "2020-11-12T07:38:48.760390Z",
     "shell.execute_reply": "2020-11-12T07:38:48.759878Z"
    },
    "id": "tH3ZFuUfDLrR"
   },
   "outputs": [],
   "source": [
    "x = tf.random.normal([7, 5])\n",
    "\n",
    "layer = tf.keras.layers.Dense(10, activation=tf.nn.relu)"
   ]
  },
  {
   "cell_type": "code",
   "execution_count": 12,
   "metadata": {
    "execution": {
     "iopub.execute_input": "2020-11-12T07:38:48.765925Z",
     "iopub.status.busy": "2020-11-12T07:38:48.765320Z",
     "iopub.status.idle": "2020-11-12T07:38:49.010561Z",
     "shell.execute_reply": "2020-11-12T07:38:49.009910Z"
    },
    "id": "E6yOFsjEDR9u"
   },
   "outputs": [],
   "source": [
    "with tf.GradientTape() as t2:\n",
    "  # The inner tape only takes the gradient with respect to the input,\n",
    "  # not the variables.\n",
    "  with tf.GradientTape(watch_accessed_variables=False) as t1:\n",
    "    t1.watch(x)\n",
    "    y = layer(x)\n",
    "    out = tf.reduce_sum(layer(x)**2)\n",
    "  # 1. Calculate the input gradient.\n",
    "  g1 = t1.gradient(out, x)\n",
    "  # 2. Calculate the magnitude of the input gradient.\n",
    "  g1_mag = tf.norm(g1)\n",
    "\n",
    "# 3. Calculate the gradient of the magnitude with respect to the model.\n",
    "dg1_mag = t2.gradient(g1_mag, layer.trainable_variables)"
   ]
  },
  {
   "cell_type": "code",
   "execution_count": 13,
   "metadata": {
    "execution": {
     "iopub.execute_input": "2020-11-12T07:38:49.015234Z",
     "iopub.status.busy": "2020-11-12T07:38:49.014470Z",
     "iopub.status.idle": "2020-11-12T07:38:49.017466Z",
     "shell.execute_reply": "2020-11-12T07:38:49.016915Z"
    },
    "id": "123QMq6PqK_d"
   },
   "outputs": [
    {
     "data": {
      "text/plain": [
       "[TensorShape([5, 10]), TensorShape([10])]"
      ]
     },
     "execution_count": 1,
     "metadata": {},
     "output_type": "execute_result"
    }
   ],
   "source": [
    "[var.shape for var in dg1_mag]"
   ]
  },
  {
   "cell_type": "markdown",
   "metadata": {
    "id": "E4xiYigexMtQ"
   },
   "source": [
    "## 雅可比矩阵\n"
   ]
  },
  {
   "cell_type": "markdown",
   "metadata": {
    "id": "4-hVHVIeExkI"
   },
   "source": [
    "以上所有示例都取标量目标相对于某些源张量的梯度。\n",
    "\n",
    "[雅可比矩阵](https://en.wikipedia.org/wiki/Jacobian_matrix_and_determinant)代表向量值函数的梯度。每行都包含其中一个向量元素的梯度。\n",
    "\n",
    "`GradientTape.jacobian` 方法让您能够有效计算雅可比矩阵。"
   ]
  },
  {
   "cell_type": "markdown",
   "metadata": {
    "id": "KzNyIM0QBYIH"
   },
   "source": [
    "注意：\n",
    "\n",
    "- 类似于 `gradient`：`sources` 参数可以是张量或张量的容器。\n",
    "- 不同于 `gradient`：`target` 张量必须是单个张量。"
   ]
  },
  {
   "cell_type": "markdown",
   "metadata": {
    "id": "O74K3hlxBC8a"
   },
   "source": [
    "### 标量源"
   ]
  },
  {
   "cell_type": "markdown",
   "metadata": {
    "id": "B08OKn1Orkuc"
   },
   "source": [
    "作为第一个示例，以下是矢量目标相对于标量源的雅可比矩阵。"
   ]
  },
  {
   "cell_type": "code",
   "execution_count": 14,
   "metadata": {
    "execution": {
     "iopub.execute_input": "2020-11-12T07:38:49.022644Z",
     "iopub.status.busy": "2020-11-12T07:38:49.022012Z",
     "iopub.status.idle": "2020-11-12T07:38:49.154557Z",
     "shell.execute_reply": "2020-11-12T07:38:49.154931Z"
    },
    "id": "bAFeIE8EuVIq"
   },
   "outputs": [],
   "source": [
    "x = tf.linspace(-10.0, 10.0, 200+1)\n",
    "delta = tf.Variable(0.0)\n",
    "\n",
    "with tf.GradientTape() as tape:\n",
    "  y = tf.nn.sigmoid(x+delta)\n",
    "\n",
    "dy_dx = tape.jacobian(y, delta)"
   ]
  },
  {
   "cell_type": "markdown",
   "metadata": {
    "id": "BgHbUk3zr-WU"
   },
   "source": [
    "当您相对于标量取雅可比矩阵时，结果为**目标**的形状，并给出每个元素相对于源的梯度："
   ]
  },
  {
   "cell_type": "code",
   "execution_count": 15,
   "metadata": {
    "execution": {
     "iopub.execute_input": "2020-11-12T07:38:49.159179Z",
     "iopub.status.busy": "2020-11-12T07:38:49.158558Z",
     "iopub.status.idle": "2020-11-12T07:38:49.160818Z",
     "shell.execute_reply": "2020-11-12T07:38:49.161242Z"
    },
    "id": "iZ6awnDzr_BA"
   },
   "outputs": [
    {
     "name": "stdout",
     "output_type": "stream",
     "text": [
      "(201,)\n",
      "(201,)\n"
     ]
    }
   ],
   "source": [
    "print(y.shape)\n",
    "print(dy_dx.shape)"
   ]
  },
  {
   "cell_type": "code",
   "execution_count": 16,
   "metadata": {
    "execution": {
     "iopub.execute_input": "2020-11-12T07:38:49.165314Z",
     "iopub.status.busy": "2020-11-12T07:38:49.164674Z",
     "iopub.status.idle": "2020-11-12T07:38:49.312710Z",
     "shell.execute_reply": "2020-11-12T07:38:49.312211Z"
    },
    "id": "siNZaklc0_-e"
   },
   "outputs": [
    {
     "data": {
      "image/png": "[encoded data removed]",
      "text/plain": [
       "<Figure size 576x432 with 1 Axes>"
      ]
     },
     "metadata": {
      "needs_background": "light"
     },
     "output_type": "display_data"
    }
   ],
   "source": [
    "plt.plot(x.numpy(), y, label='y')\n",
    "plt.plot(x.numpy(), dy_dx, label='dy/dx')\n",
    "plt.legend()\n",
    "_ = plt.xlabel('x')"
   ]
  },
  {
   "cell_type": "markdown",
   "metadata": {
    "id": "DsOMSD_1BGkD"
   },
   "source": [
    "### 张量源"
   ]
  },
  {
   "cell_type": "markdown",
   "metadata": {
    "id": "g3iXKN7KF-st"
   },
   "source": [
    "无论输入是标量还是张量，`GradientTape.jacobian` 都能有效计算源的每个元素相对于目标的每个元素的梯度。\n",
    "\n",
    "例如，此层的输出的形状为 `(10，7)`。"
   ]
  },
  {
   "cell_type": "code",
   "execution_count": 17,
   "metadata": {
    "execution": {
     "iopub.execute_input": "2020-11-12T07:38:49.318388Z",
     "iopub.status.busy": "2020-11-12T07:38:49.316855Z",
     "iopub.status.idle": "2020-11-12T07:38:49.324221Z",
     "shell.execute_reply": "2020-11-12T07:38:49.323726Z"
    },
    "id": "39YXItgLxMBk"
   },
   "outputs": [
    {
     "data": {
      "text/plain": [
       "TensorShape([7, 10])"
      ]
     },
     "execution_count": 1,
     "metadata": {},
     "output_type": "execute_result"
    }
   ],
   "source": [
    "x = tf.random.normal([7, 5])\n",
    "layer = tf.keras.layers.Dense(10, activation=tf.nn.relu)\n",
    "\n",
    "with tf.GradientTape(persistent=True) as tape:\n",
    "  y = layer(x)\n",
    "\n",
    "y.shape"
   ]
  },
  {
   "cell_type": "markdown",
   "metadata": {
    "id": "tshNRtfKuVP_"
   },
   "source": [
    "层内核的形状是 `(5，10)`。"
   ]
  },
  {
   "cell_type": "code",
   "execution_count": 18,
   "metadata": {
    "execution": {
     "iopub.execute_input": "2020-11-12T07:38:49.328117Z",
     "iopub.status.busy": "2020-11-12T07:38:49.327509Z",
     "iopub.status.idle": "2020-11-12T07:38:49.329793Z",
     "shell.execute_reply": "2020-11-12T07:38:49.330177Z"
    },
    "id": "CigTWyfPvPuv"
   },
   "outputs": [
    {
     "data": {
      "text/plain": [
       "TensorShape([5, 10])"
      ]
     },
     "execution_count": 1,
     "metadata": {},
     "output_type": "execute_result"
    }
   ],
   "source": [
    "layer.kernel.shape"
   ]
  },
  {
   "cell_type": "markdown",
   "metadata": {
    "id": "mN96JRpnAjpx"
   },
   "source": [
    "将这两个形状连在一起就是输出相对于内核的雅可比矩阵的形状："
   ]
  },
  {
   "cell_type": "code",
   "execution_count": 19,
   "metadata": {
    "execution": {
     "iopub.execute_input": "2020-11-12T07:38:49.334305Z",
     "iopub.status.busy": "2020-11-12T07:38:49.333666Z",
     "iopub.status.idle": "2020-11-12T07:38:49.443180Z",
     "shell.execute_reply": "2020-11-12T07:38:49.443612Z"
    },
    "id": "pRLzTTbvEimH"
   },
   "outputs": [
    {
     "data": {
      "text/plain": [
       "TensorShape([7, 10, 5, 10])"
      ]
     },
     "execution_count": 1,
     "metadata": {},
     "output_type": "execute_result"
    }
   ],
   "source": [
    "j = tape.jacobian(y, layer.kernel)\n",
    "j.shape"
   ]
  },
  {
   "cell_type": "markdown",
   "metadata": {
    "id": "2Lrv7miMvTll"
   },
   "source": [
    "如果您在目标的维度上求和，会得到由 `GradientTape.gradient` 计算的总和的梯度。"
   ]
  },
  {
   "cell_type": "code",
   "execution_count": 20,
   "metadata": {
    "execution": {
     "iopub.execute_input": "2020-11-12T07:38:49.448247Z",
     "iopub.status.busy": "2020-11-12T07:38:49.447672Z",
     "iopub.status.idle": "2020-11-12T07:38:49.452055Z",
     "shell.execute_reply": "2020-11-12T07:38:49.451607Z"
    },
    "id": "FJjZpYRnDjVa"
   },
   "outputs": [
    {
     "name": "stdout",
     "output_type": "stream",
     "text": [
      "g.shape: (5, 10)\n",
      "delta: 2.3841858e-07\n"
     ]
    }
   ],
   "source": [
    "g = tape.gradient(y, layer.kernel)\n",
    "print('g.shape:', g.shape)\n",
    "\n",
    "j_sum = tf.reduce_sum(j, axis=[0, 1])\n",
    "delta = tf.reduce_max(abs(g - j_sum)).numpy()\n",
    "assert delta < 1e-3\n",
    "print('delta:', delta)"
   ]
  },
  {
   "cell_type": "markdown",
   "metadata": {
    "id": "ZKajuGlk_krs"
   },
   "source": [
    "<a id=\"hessian\"> </a>\n",
    "\n",
    "#### 示例：黑塞矩阵"
   ]
  },
  {
   "cell_type": "markdown",
   "metadata": {
    "id": "NYcsXeo8TDLi"
   },
   "source": [
    "虽然 `tf.GradientTape` 并没有给出构造黑塞矩阵的显式方法，但可以使用 `GradientTape.jacobian` 方法进行构建。\n",
    "\n",
    "注：黑塞矩阵包含 `N**2` 个参数。由于这个原因和其他原因，它对于大多数模型都不实际。此示例主要是为了演示如何使用 `GradientTape.jacobian` 方法，并不是对直接黑塞矩阵优化的认可。黑塞矩阵向量积可以[通过嵌套条带有效计算](https://github.com/tensorflow/tensorflow/blob/master/tensorflow/python/eager/benchmarks/resnet50/hvp_test.py)，这也是一种更有效的二阶优化方法。\n"
   ]
  },
  {
   "cell_type": "code",
   "execution_count": 21,
   "metadata": {
    "execution": {
     "iopub.execute_input": "2020-11-12T07:38:49.457423Z",
     "iopub.status.busy": "2020-11-12T07:38:49.456827Z",
     "iopub.status.idle": "2020-11-12T07:38:49.711513Z",
     "shell.execute_reply": "2020-11-12T07:38:49.710930Z"
    },
    "id": "ELGTaell_j81"
   },
   "outputs": [],
   "source": [
    "x = tf.random.normal([7, 5])\n",
    "layer1 = tf.keras.layers.Dense(8, activation=tf.nn.relu)\n",
    "layer2 = tf.keras.layers.Dense(6, activation=tf.nn.relu)\n",
    "\n",
    "with tf.GradientTape() as t2:\n",
    "  with tf.GradientTape() as t1:\n",
    "    x = layer1(x)\n",
    "    x = layer2(x)\n",
    "    loss = tf.reduce_mean(x**2)\n",
    "\n",
    "  g = t1.gradient(loss, layer1.kernel)\n",
    "\n",
    "h = t2.jacobian(g, layer1.kernel)"
   ]
  },
  {
   "cell_type": "code",
   "execution_count": 22,
   "metadata": {
    "execution": {
     "iopub.execute_input": "2020-11-12T07:38:49.716983Z",
     "iopub.status.busy": "2020-11-12T07:38:49.716104Z",
     "iopub.status.idle": "2020-11-12T07:38:49.718294Z",
     "shell.execute_reply": "2020-11-12T07:38:49.718690Z"
    },
    "id": "FVqQuZj4XGjm"
   },
   "outputs": [
    {
     "name": "stdout",
     "output_type": "stream",
     "text": [
      "layer.kernel.shape: (5, 8)\n",
      "h.shape: (5, 8, 5, 8)\n"
     ]
    }
   ],
   "source": [
    "print(f'layer.kernel.shape: {layer1.kernel.shape}')\n",
    "print(f'h.shape: {h.shape}')"
   ]
  },
  {
   "cell_type": "markdown",
   "metadata": {
    "id": "_M7XElgaiMeP"
   },
   "source": [
    "要将此黑塞矩阵用于牛顿方法步骤，首先需要将其轴展平为矩阵，然后将梯度展平为向量："
   ]
  },
  {
   "cell_type": "code",
   "execution_count": 23,
   "metadata": {
    "execution": {
     "iopub.execute_input": "2020-11-12T07:38:49.723081Z",
     "iopub.status.busy": "2020-11-12T07:38:49.722474Z",
     "iopub.status.idle": "2020-11-12T07:38:49.725277Z",
     "shell.execute_reply": "2020-11-12T07:38:49.725621Z"
    },
    "id": "6te7N6wVXwXX"
   },
   "outputs": [],
   "source": [
    "n_params = tf.reduce_prod(layer1.kernel.shape)\n",
    "\n",
    "g_vec = tf.reshape(g, [n_params, 1])\n",
    "h_mat = tf.reshape(h, [n_params, n_params])"
   ]
  },
  {
   "cell_type": "markdown",
   "metadata": {
    "id": "L9rO8b-0mgOH"
   },
   "source": [
    "黑塞矩阵应当对称："
   ]
  },
  {
   "cell_type": "code",
   "execution_count": 24,
   "metadata": {
    "execution": {
     "iopub.execute_input": "2020-11-12T07:38:49.729908Z",
     "iopub.status.busy": "2020-11-12T07:38:49.729342Z",
     "iopub.status.idle": "2020-11-12T07:38:49.731490Z",
     "shell.execute_reply": "2020-11-12T07:38:49.730971Z"
    },
    "id": "8TCHc7Vrf52S"
   },
   "outputs": [],
   "source": [
    "def imshow_zero_center(image, **kwargs):\n",
    "  lim = tf.reduce_max(abs(image))\n",
    "  plt.imshow(image, vmin=-lim, vmax=lim, cmap='seismic', **kwargs)\n",
    "  plt.colorbar()"
   ]
  },
  {
   "cell_type": "code",
   "execution_count": 25,
   "metadata": {
    "execution": {
     "iopub.execute_input": "2020-11-12T07:38:49.734904Z",
     "iopub.status.busy": "2020-11-12T07:38:49.734331Z",
     "iopub.status.idle": "2020-11-12T07:38:49.910787Z",
     "shell.execute_reply": "2020-11-12T07:38:49.911166Z"
    },
    "id": "DExOxd7Ok2H0"
   },
   "outputs": [
    {
     "data": {
      "image/png": "[encoded data removed]",
      "text/plain": [
       "<Figure size 576x432 with 2 Axes>"
      ]
     },
     "metadata": {
      "needs_background": "light"
     },
     "output_type": "display_data"
    }
   ],
   "source": [
    "imshow_zero_center(h_mat)"
   ]
  },
  {
   "cell_type": "markdown",
   "metadata": {
    "id": "13fBswmtQes4"
   },
   "source": [
    "牛顿方法更新步骤如下所示。"
   ]
  },
  {
   "cell_type": "code",
   "execution_count": 26,
   "metadata": {
    "execution": {
     "iopub.execute_input": "2020-11-12T07:38:49.915122Z",
     "iopub.status.busy": "2020-11-12T07:38:49.914522Z",
     "iopub.status.idle": "2020-11-12T07:38:49.917250Z",
     "shell.execute_reply": "2020-11-12T07:38:49.916678Z"
    },
    "id": "3DdnbynBdSor"
   },
   "outputs": [],
   "source": [
    "eps = 1e-3\n",
    "eye_eps = tf.eye(h_mat.shape[0])*eps"
   ]
  },
  {
   "cell_type": "markdown",
   "metadata": {
    "id": "-zPdtyoWeUeV"
   },
   "source": [
    "注：[实际上不反转矩阵](https://www.johndcook.com/blog/2010/01/19/dont-invert-that-matrix/)。"
   ]
  },
  {
   "cell_type": "code",
   "execution_count": 27,
   "metadata": {
    "execution": {
     "iopub.execute_input": "2020-11-12T07:38:49.921177Z",
     "iopub.status.busy": "2020-11-12T07:38:49.920533Z",
     "iopub.status.idle": "2020-11-12T07:38:50.171258Z",
     "shell.execute_reply": "2020-11-12T07:38:50.171804Z"
    },
    "id": "k1LYftgmswOO"
   },
   "outputs": [],
   "source": [
    "# X(k+1) = X(k) - (∇²f(X(k)))^-1 @ ∇f(X(k))\n",
    "# h_mat = ∇²f(X(k))\n",
    "# g_vec = ∇f(X(k))\n",
    "update = tf.linalg.solve(h_mat + eye_eps, g_vec)\n",
    "\n",
    "# Reshape the update and apply it to the variable.\n",
    "_ = layer1.kernel.assign_sub(tf.reshape(update, layer1.kernel.shape))"
   ]
  },
  {
   "cell_type": "markdown",
   "metadata": {
    "id": "pF6qjlHKWxF4"
   },
   "source": [
    "虽然这对于单个 `tf.Variable` 来说相对简单，但将其应用于非平凡模型则需要仔细的级联和切片，以产生跨多个变量的完整黑塞矩阵。"
   ]
  },
  {
   "cell_type": "markdown",
   "metadata": {
    "id": "PQWM0uN-GO5t"
   },
   "source": [
    "### 批量雅可比矩阵"
   ]
  },
  {
   "cell_type": "markdown",
   "metadata": {
    "id": "hKtB3rY6EySJ"
   },
   "source": [
    "在某些情况下，您需要取各个目标堆栈相对于源堆栈的雅可比矩阵，其中每个目标-源对的雅可比矩阵都是独立的。\n",
    "\n",
    "例如，此处的输入 `x` 形状为 `(batch, ins)` ，输出 `y` 形状为 `(batch, outs)`。\n"
   ]
  },
  {
   "cell_type": "code",
   "execution_count": 28,
   "metadata": {
    "execution": {
     "iopub.execute_input": "2020-11-12T07:38:50.178188Z",
     "iopub.status.busy": "2020-11-12T07:38:50.177510Z",
     "iopub.status.idle": "2020-11-12T07:38:50.187437Z",
     "shell.execute_reply": "2020-11-12T07:38:50.187953Z"
    },
    "id": "tQMndhIUHMes"
   },
   "outputs": [
    {
     "data": {
      "text/plain": [
       "TensorShape([7, 6])"
      ]
     },
     "execution_count": 1,
     "metadata": {},
     "output_type": "execute_result"
    }
   ],
   "source": [
    "x = tf.random.normal([7, 5])\n",
    "\n",
    "layer1 = tf.keras.layers.Dense(8, activation=tf.nn.elu)\n",
    "layer2 = tf.keras.layers.Dense(6, activation=tf.nn.elu)\n",
    "\n",
    "with tf.GradientTape(persistent=True, watch_accessed_variables=False) as tape:\n",
    "  tape.watch(x)\n",
    "  y = layer1(x)\n",
    "  y = layer2(y)\n",
    "\n",
    "y.shape"
   ]
  },
  {
   "cell_type": "markdown",
   "metadata": {
    "id": "Ff2spRHEJXBU"
   },
   "source": [
    "`y` 相对 `x` 的完整雅可比矩阵的形状为 `(batch, ins, batch, outs)`，即使您只想要 `(batch, ins, outs)`。"
   ]
  },
  {
   "cell_type": "code",
   "execution_count": 29,
   "metadata": {
    "execution": {
     "iopub.execute_input": "2020-11-12T07:38:50.192061Z",
     "iopub.status.busy": "2020-11-12T07:38:50.191385Z",
     "iopub.status.idle": "2020-11-12T07:38:50.283491Z",
     "shell.execute_reply": "2020-11-12T07:38:50.282990Z"
    },
    "id": "1zSl2A5-HhMH"
   },
   "outputs": [
    {
     "data": {
      "text/plain": [
       "TensorShape([7, 6, 7, 5])"
      ]
     },
     "execution_count": 1,
     "metadata": {},
     "output_type": "execute_result"
    }
   ],
   "source": [
    "j = tape.jacobian(y, x)\n",
    "j.shape"
   ]
  },
  {
   "cell_type": "markdown",
   "metadata": {
    "id": "UibJijPLJrpQ"
   },
   "source": [
    "如果堆栈中各项的梯度相互独立，那么此张量的每一个 `(batch, batch)` 切片都是对角矩阵："
   ]
  },
  {
   "cell_type": "code",
   "execution_count": 30,
   "metadata": {
    "execution": {
     "iopub.execute_input": "2020-11-12T07:38:50.290644Z",
     "iopub.status.busy": "2020-11-12T07:38:50.290013Z",
     "iopub.status.idle": "2020-11-12T07:38:50.466119Z",
     "shell.execute_reply": "2020-11-12T07:38:50.466541Z"
    },
    "id": "ZFl9uj3ueVSH"
   },
   "outputs": [
    {
     "data": {
      "image/png": "[encoded data removed]",
      "text/plain": [
       "<Figure size 576x432 with 2 Axes>"
      ]
     },
     "metadata": {
      "needs_background": "light"
     },
     "output_type": "display_data"
    }
   ],
   "source": [
    "imshow_zero_center(j[:, 0, :, 0])\n",
    "_ = plt.title('A (batch, batch) slice')"
   ]
  },
  {
   "cell_type": "code",
   "execution_count": 31,
   "metadata": {
    "execution": {
     "iopub.execute_input": "2020-11-12T07:38:50.472571Z",
     "iopub.status.busy": "2020-11-12T07:38:50.471950Z",
     "iopub.status.idle": "2020-11-12T07:38:50.631675Z",
     "shell.execute_reply": "2020-11-12T07:38:50.632071Z"
    },
    "id": "g4ZoRJcJNmy5"
   },
   "outputs": [
    {
     "data": {
      "image/png": "[encoded data removed]",
      "text/plain": [
       "<Figure size 576x432 with 2 Axes>"
      ]
     },
     "metadata": {
      "needs_background": "light"
     },
     "output_type": "display_data"
    }
   ],
   "source": [
    "def plot_as_patches(j):\n",
    "  # Reorder axes so the diagonals will each form a contiguous patch.\n",
    "  j = tf.transpose(j, [1, 0, 3, 2])\n",
    "  # Pad in between each patch.\n",
    "  lim = tf.reduce_max(abs(j))\n",
    "  j = tf.pad(j, [[0, 0], [1, 1], [0, 0], [1, 1]],\n",
    "             constant_values=-lim)\n",
    "  # Reshape to form a single image.\n",
    "  s = j.shape\n",
    "  j = tf.reshape(j, [s[0]*s[1], s[2]*s[3]])\n",
    "  imshow_zero_center(j, extent=[-0.5, s[2]-0.5, s[0]-0.5, -0.5])\n",
    "\n",
    "plot_as_patches(j)\n",
    "_ = plt.title('All (batch, batch) slices are diagonal')"
   ]
  },
  {
   "cell_type": "markdown",
   "metadata": {
    "id": "OXpTBKyeK84z"
   },
   "source": [
    "要获取所需结果，您可以对重复的 `batch` 维度求和，或者使用 `tf.einsum` 选择对角线。\n"
   ]
  },
  {
   "cell_type": "code",
   "execution_count": 32,
   "metadata": {
    "execution": {
     "iopub.execute_input": "2020-11-12T07:38:50.636968Z",
     "iopub.status.busy": "2020-11-12T07:38:50.636362Z",
     "iopub.status.idle": "2020-11-12T07:38:50.638861Z",
     "shell.execute_reply": "2020-11-12T07:38:50.639256Z"
    },
    "id": "v65OAjEgLQwl"
   },
   "outputs": [
    {
     "name": "stdout",
     "output_type": "stream",
     "text": [
      "(7, 6, 5)\n",
      "(7, 6, 5)\n"
     ]
    }
   ],
   "source": [
    "j_sum = tf.reduce_sum(j, axis=2)\n",
    "print(j_sum.shape)\n",
    "j_select = tf.einsum('bxby->bxy', j)\n",
    "print(j_select.shape)"
   ]
  },
  {
   "cell_type": "markdown",
   "metadata": {
    "id": "zT_VfR6lcwxD"
   },
   "source": [
    "没有额外维度时，计算会更加高效。`GradientTape.batch_jacobian` 方法就是如此运作的。"
   ]
  },
  {
   "cell_type": "code",
   "execution_count": 33,
   "metadata": {
    "execution": {
     "iopub.execute_input": "2020-11-12T07:38:50.642986Z",
     "iopub.status.busy": "2020-11-12T07:38:50.642413Z",
     "iopub.status.idle": "2020-11-12T07:38:50.754883Z",
     "shell.execute_reply": "2020-11-12T07:38:50.755240Z"
    },
    "id": "YJLIl9WpHqYq"
   },
   "outputs": [
    {
     "name": "stdout",
     "output_type": "stream",
     "text": [
      "WARNING:tensorflow:5 out of the last 5 calls to <function pfor.<locals>.f at 0x7f49b409ae18> triggered tf.function retracing. Tracing is expensive and the excessive number of tracings could be due to (1) creating @tf.function repeatedly in a loop, (2) passing tensors with different shapes, (3) passing Python objects instead of tensors. For (1), please define your @tf.function outside of the loop. For (2), @tf.function has experimental_relax_shapes=True option that relaxes argument shapes that can avoid unnecessary retracing. For (3), please refer to https://www.tensorflow.org/tutorials/customization/performance#python_or_tensor_args and https://www.tensorflow.org/api_docs/python/tf/function for  more details.\n"
     ]
    },
    {
     "data": {
      "text/plain": [
       "TensorShape([7, 6, 5])"
      ]
     },
     "execution_count": 1,
     "metadata": {},
     "output_type": "execute_result"
    }
   ],
   "source": [
    "jb = tape.batch_jacobian(y, x)\n",
    "jb.shape"
   ]
  },
  {
   "cell_type": "code",
   "execution_count": 34,
   "metadata": {
    "execution": {
     "iopub.execute_input": "2020-11-12T07:38:50.759264Z",
     "iopub.status.busy": "2020-11-12T07:38:50.758573Z",
     "iopub.status.idle": "2020-11-12T07:38:50.761486Z",
     "shell.execute_reply": "2020-11-12T07:38:50.761866Z"
    },
    "id": "-5t_q5SfHw7T"
   },
   "outputs": [
    {
     "name": "stdout",
     "output_type": "stream",
     "text": [
      "0.0\n"
     ]
    }
   ],
   "source": [
    "error = tf.reduce_max(abs(jb - j_sum))\n",
    "assert error < 1e-3\n",
    "print(error.numpy())"
   ]
  },
  {
   "cell_type": "markdown",
   "metadata": {
    "id": "IUeY2ZCiL31I"
   },
   "source": [
    "小心：`GradientTape.batch_jacobian` 只验证源和目标的第一维是否匹配，并不会检查梯度是否独立。用户需要确保仅在合理条件下使用 `batch_jacobian`。例如，添加 `layers.BatchNormalization` 将破坏独立性，因为它在 `batch` 维度进行了归一化："
   ]
  },
  {
   "cell_type": "code",
   "execution_count": 35,
   "metadata": {
    "execution": {
     "iopub.execute_input": "2020-11-12T07:38:50.773389Z",
     "iopub.status.busy": "2020-11-12T07:38:50.772737Z",
     "iopub.status.idle": "2020-11-12T07:38:51.065425Z",
     "shell.execute_reply": "2020-11-12T07:38:51.065808Z"
    },
    "id": "tnDugVc-L4fj"
   },
   "outputs": [
    {
     "name": "stdout",
     "output_type": "stream",
     "text": [
      "WARNING:tensorflow:6 out of the last 6 calls to <function pfor.<locals>.f at 0x7f49b4232ea0> triggered tf.function retracing. Tracing is expensive and the excessive number of tracings could be due to (1) creating @tf.function repeatedly in a loop, (2) passing tensors with different shapes, (3) passing Python objects instead of tensors. For (1), please define your @tf.function outside of the loop. For (2), @tf.function has experimental_relax_shapes=True option that relaxes argument shapes that can avoid unnecessary retracing. For (3), please refer to https://www.tensorflow.org/tutorials/customization/performance#python_or_tensor_args and https://www.tensorflow.org/api_docs/python/tf/function for  more details.\n"
     ]
    },
    {
     "name": "stdout",
     "output_type": "stream",
     "text": [
      "j.shape: (7, 6, 7, 5)\n"
     ]
    }
   ],
   "source": [
    "x = tf.random.normal([7, 5])\n",
    "\n",
    "layer1 = tf.keras.layers.Dense(8, activation=tf.nn.elu)\n",
    "bn = tf.keras.layers.BatchNormalization()\n",
    "layer2 = tf.keras.layers.Dense(6, activation=tf.nn.elu)\n",
    "\n",
    "with tf.GradientTape(persistent=True, watch_accessed_variables=False) as tape:\n",
    "  tape.watch(x)\n",
    "  y = layer1(x)\n",
    "  y = bn(y, training=True)\n",
    "  y = layer2(y)\n",
    "\n",
    "j = tape.jacobian(y, x)\n",
    "print(f'j.shape: {j.shape}')"
   ]
  },
  {
   "cell_type": "code",
   "execution_count": 36,
   "metadata": {
    "execution": {
     "iopub.execute_input": "2020-11-12T07:38:51.069901Z",
     "iopub.status.busy": "2020-11-12T07:38:51.069270Z",
     "iopub.status.idle": "2020-11-12T07:38:51.326937Z",
     "shell.execute_reply": "2020-11-12T07:38:51.326487Z"
    },
    "id": "SNyZ1WhJMVLm"
   },
   "outputs": [
    {
     "data": {
      "image/png": "[encoded data removed]",
      "text/plain": [
       "<Figure size 576x432 with 2 Axes>"
      ]
     },
     "metadata": {
      "needs_background": "light"
     },
     "output_type": "display_data"
    }
   ],
   "source": [
    "plot_as_patches(j)\n",
    "\n",
    "_ = plt.title('These slices are not diagonal')\n",
    "_ = plt.xlabel(\"Don't use `batch_jacobian`\")"
   ]
  },
  {
   "cell_type": "markdown",
   "metadata": {
    "id": "M_x7ih5sarvG"
   },
   "source": [
    "在此示例中，`batch_jacobian` 仍然可以运行并返回*某些信息*与预期形状，但其内容具有不明确的含义。"
   ]
  },
  {
   "cell_type": "code",
   "execution_count": 37,
   "metadata": {
    "execution": {
     "iopub.execute_input": "2020-11-12T07:38:51.331036Z",
     "iopub.status.busy": "2020-11-12T07:38:51.330381Z",
     "iopub.status.idle": "2020-11-12T07:38:51.635912Z",
     "shell.execute_reply": "2020-11-12T07:38:51.635420Z"
    },
    "id": "k8_mICHoasCi"
   },
   "outputs": [
    {
     "name": "stdout",
     "output_type": "stream",
     "text": [
      "WARNING:tensorflow:7 out of the last 7 calls to <function pfor.<locals>.f at 0x7f49b41c8ae8> triggered tf.function retracing. Tracing is expensive and the excessive number of tracings could be due to (1) creating @tf.function repeatedly in a loop, (2) passing tensors with different shapes, (3) passing Python objects instead of tensors. For (1), please define your @tf.function outside of the loop. For (2), @tf.function has experimental_relax_shapes=True option that relaxes argument shapes that can avoid unnecessary retracing. For (3), please refer to https://www.tensorflow.org/tutorials/customization/performance#python_or_tensor_args and https://www.tensorflow.org/api_docs/python/tf/function for  more details.\n"
     ]
    },
    {
     "name": "stdout",
     "output_type": "stream",
     "text": [
      "jb.shape: (7, 6, 5)\n"
     ]
    }
   ],
   "source": [
    "jb = tape.batch_jacobian(y, x)\n",
    "print(f'jb.shape: {jb.shape}')"
   ]
  }
 ],
 "metadata": {
  "colab": {
   "collapsed_sections": [
    "Tce3stUlHN0L"
   ],
   "name": "advanced_autodiff.ipynb",
   "toc_visible": true
  },
  "kernelspec": {
   "display_name": "Python 3",
   "name": "python3"
  },
  "language_info": {
   "codemirror_mode": {
    "name": "ipython",
    "version": 3
   },
   "file_extension": ".py",
   "mimetype": "text/x-python",
   "name": "python",
   "nbconvert_exporter": "python",
   "pygments_lexer": "ipython3",
   "version": "3.6.9"
  }
 },
 "nbformat": 4,
 "nbformat_minor": 0
}
