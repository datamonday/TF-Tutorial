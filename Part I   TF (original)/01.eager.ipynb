{
 "cells": [
  {
   "cell_type": "markdown",
   "metadata": {
    "id": "CCQY7jpBfMur"
   },
   "source": [
    "##### Copyright 2018 The TensorFlow Authors."
   ]
  },
  {
   "cell_type": "code",
   "execution_count": 1,
   "metadata": {
    "cellView": "form",
    "execution": {
     "iopub.execute_input": "2020-11-12T07:40:10.230965Z",
     "iopub.status.busy": "2020-11-12T07:40:10.230297Z",
     "iopub.status.idle": "2020-11-12T07:40:10.232757Z",
     "shell.execute_reply": "2020-11-12T07:40:10.232230Z"
    },
    "id": "z6X9omPnfO_h"
   },
   "outputs": [],
   "source": [
    "#@title Licensed under the Apache License, Version 2.0 (the \"License\");\n",
    "# you may not use this file except in compliance with the License.\n",
    "# You may obtain a copy of the License at\n",
    "#\n",
    "# https://www.apache.org/licenses/LICENSE-2.0\n",
    "#\n",
    "# Unless required by applicable law or agreed to in writing, software\n",
    "# distributed under the License is distributed on an \"AS IS\" BASIS,\n",
    "# WITHOUT WARRANTIES OR CONDITIONS OF ANY KIND, either express or implied.\n",
    "# See the License for the specific language governing permissions and\n",
    "# limitations under the License."
   ]
  },
  {
   "cell_type": "markdown",
   "metadata": {
    "id": "2QQJJyDzqGRb"
   },
   "source": [
    "# Eager Execution\n"
   ]
  },
  {
   "cell_type": "markdown",
   "metadata": {
    "id": "B1xdylywqUSX"
   },
   "source": [
    "<table class=\"tfo-notebook-buttons\" align=\"left\">\n",
    "  <td><a target=\"_blank\" href=\"https://tensorflow.google.cn/guide/eager\"><img src=\"https://tensorflow.google.cn/images/tf_logo_32px.png\">在 TensorFlow.org 上查看 </a></td>\n",
    "  <td><a target=\"_blank\" href=\"https://colab.research.google.com/github/tensorflow/docs-l10n/blob/master/site/zh-cn/guide/eager.ipynb\"><img src=\"https://tensorflow.google.cn/images/colab_logo_32px.png\">在 Google Colab 中运行 </a></td>\n",
    "  <td><a target=\"_blank\" href=\"https://github.com/tensorflow/docs-l10n/blob/master/site/zh-cn/guide/eager.ipynb\"><img src=\"https://tensorflow.google.cn/images/GitHub-Mark-32px.png\">在 GitHub 中查看源代码</a></td>\n",
    "  <td><a href=\"https://storage.googleapis.com/tensorflow_docs/docs-l10n/site/zh-cn/guide/eager.ipynb\"><img src=\"https://tensorflow.google.cn/images/download_logo_32px.png\">下载笔记本</a></td>\n",
    "</table>"
   ]
  },
  {
   "cell_type": "markdown",
   "metadata": {
    "id": "EGjDcGxIqEfX"
   },
   "source": [
    "TensorFlow 的 Eager Execution 是一种命令式编程环境，可立即评估运算，无需构建计算图：运算会返回具体的值，而非构建供稍后运行的计算图。这样能使您轻松入门 TensorFlow 并调试模型，同时也减少了样板代码。要跟随本指南进行学习，请在交互式 `python` 解释器中运行以下代码示例。\n",
    "\n",
    "Eager Execution 是用于研究和实验的灵活机器学习平台，具备以下特性：\n",
    "\n",
    "- *直观的界面* - 自然地组织代码结构并使用 Python 数据结构。快速迭代小模型和小数据。\n",
    "- *更方便的调试功能* - 直接调用运算以检查正在运行的模型并测试更改。使用标准 Python 调试工具立即报告错误。\n",
    "- *自然的控制流* - 使用 Python 而非计算图控制流，简化了动态模型的规范。\n",
    "\n",
    "Eager Execution 支持大部分 TensorFlow 运算和 GPU 加速。\n",
    "\n",
    "注：启用 Eager Execution 后可能会增加某些模型的开销。我们正在持续改进其性能，如果您遇到问题，请[提交错误报告](https://github.com/tensorflow/tensorflow/issues)并分享您的基准。"
   ]
  },
  {
   "cell_type": "markdown",
   "metadata": {
    "id": "RBAeIwOMrYk8"
   },
   "source": [
    "## 设置和基本用法"
   ]
  },
  {
   "cell_type": "code",
   "execution_count": 2,
   "metadata": {
    "execution": {
     "iopub.execute_input": "2020-11-12T07:40:10.237044Z",
     "iopub.status.busy": "2020-11-12T07:40:10.236369Z",
     "iopub.status.idle": "2020-11-12T07:40:16.055865Z",
     "shell.execute_reply": "2020-11-12T07:40:16.055281Z"
    },
    "id": "ByNsp4VqqEfa"
   },
   "outputs": [],
   "source": [
    "import os\n",
    "\n",
    "import tensorflow as tf\n",
    "\n",
    "import cProfile"
   ]
  },
  {
   "cell_type": "markdown",
   "metadata": {
    "id": "48P3-8q4qEfe"
   },
   "source": [
    "在 Tensorflow 2.0 中，默认启用 Eager Execution。"
   ]
  },
  {
   "cell_type": "code",
   "execution_count": 3,
   "metadata": {
    "execution": {
     "iopub.execute_input": "2020-11-12T07:40:16.064760Z",
     "iopub.status.busy": "2020-11-12T07:40:16.064168Z",
     "iopub.status.idle": "2020-11-12T07:40:16.068897Z",
     "shell.execute_reply": "2020-11-12T07:40:16.069311Z"
    },
    "id": "7aFsD8csqEff"
   },
   "outputs": [
    {
     "data": {
      "text/plain": [
       "True"
      ]
     },
     "execution_count": 1,
     "metadata": {},
     "output_type": "execute_result"
    }
   ],
   "source": [
    "tf.executing_eagerly()"
   ]
  },
  {
   "cell_type": "markdown",
   "metadata": {
    "id": "x_G1zZT5qEfh"
   },
   "source": [
    "现在您可以运行 TensorFlow 运算，结果将立即返回："
   ]
  },
  {
   "cell_type": "code",
   "execution_count": 4,
   "metadata": {
    "execution": {
     "iopub.execute_input": "2020-11-12T07:40:17.395958Z",
     "iopub.status.busy": "2020-11-12T07:40:17.395155Z",
     "iopub.status.idle": "2020-11-12T07:40:17.895841Z",
     "shell.execute_reply": "2020-11-12T07:40:17.896245Z"
    },
    "id": "9gsI54pbqEfj"
   },
   "outputs": [
    {
     "name": "stdout",
     "output_type": "stream",
     "text": [
      "hello, [[4.]]\n"
     ]
    }
   ],
   "source": [
    "x = [[2.]]\n",
    "m = tf.matmul(x, x)\n",
    "print(\"hello, {}\".format(m))"
   ]
  },
  {
   "cell_type": "markdown",
   "metadata": {
    "id": "ajFn6qsdqEfl"
   },
   "source": [
    "启用 Eager Execution 会改变 TensorFlow 运算的行为方式—现在它们会立即评估并将值返回给 Python。`tf.Tensor` 对象会引用具体值，而非指向计算图中节点的符号句柄。由于无需构建计算图并稍后在会话中运行，可以轻松使用 `print()` 或调试程序检查结果。评估、输出和检查张量值不会中断计算梯度的流程。\n",
    "\n",
    "Eager Execution 可以很好地配合 [NumPy](http://www.numpy.org/) 使用。NumPy 运算接受 `tf.Tensor` 参数。TensorFlow `tf.math` 运算会将 Python 对象和 NumPy 数组转换为 `tf.Tensor` 对象。`tf.Tensor.numpy` 方法会以 NumPy `ndarray` 的形式返回该对象的值。"
   ]
  },
  {
   "cell_type": "code",
   "execution_count": 5,
   "metadata": {
    "execution": {
     "iopub.execute_input": "2020-11-12T07:40:17.900790Z",
     "iopub.status.busy": "2020-11-12T07:40:17.900166Z",
     "iopub.status.idle": "2020-11-12T07:40:17.902308Z",
     "shell.execute_reply": "2020-11-12T07:40:17.902677Z"
    },
    "id": "sTO0_5TYqz1n"
   },
   "outputs": [
    {
     "name": "stdout",
     "output_type": "stream",
     "text": [
      "tf.Tensor(\n",
      "[[1 2]\n",
      " [3 4]], shape=(2, 2), dtype=int32)\n"
     ]
    }
   ],
   "source": [
    "a = tf.constant([[1, 2],\n",
    "                 [3, 4]])\n",
    "print(a)"
   ]
  },
  {
   "cell_type": "code",
   "execution_count": 6,
   "metadata": {
    "execution": {
     "iopub.execute_input": "2020-11-12T07:40:17.906381Z",
     "iopub.status.busy": "2020-11-12T07:40:17.905649Z",
     "iopub.status.idle": "2020-11-12T07:40:17.908708Z",
     "shell.execute_reply": "2020-11-12T07:40:17.908289Z"
    },
    "id": "Dp14YT8Gq4r1"
   },
   "outputs": [
    {
     "name": "stdout",
     "output_type": "stream",
     "text": [
      "tf.Tensor(\n",
      "[[2 3]\n",
      " [4 5]], shape=(2, 2), dtype=int32)\n"
     ]
    }
   ],
   "source": [
    "# Broadcasting support\n",
    "b = tf.add(a, 1)\n",
    "print(b)"
   ]
  },
  {
   "cell_type": "code",
   "execution_count": 7,
   "metadata": {
    "execution": {
     "iopub.execute_input": "2020-11-12T07:40:17.912099Z",
     "iopub.status.busy": "2020-11-12T07:40:17.911384Z",
     "iopub.status.idle": "2020-11-12T07:40:17.913825Z",
     "shell.execute_reply": "2020-11-12T07:40:17.914196Z"
    },
    "id": "69p3waMfq8cQ"
   },
   "outputs": [
    {
     "name": "stdout",
     "output_type": "stream",
     "text": [
      "tf.Tensor(\n",
      "[[ 2  6]\n",
      " [12 20]], shape=(2, 2), dtype=int32)\n"
     ]
    }
   ],
   "source": [
    "# Operator overloading is supported\n",
    "print(a * b)"
   ]
  },
  {
   "cell_type": "code",
   "execution_count": 8,
   "metadata": {
    "execution": {
     "iopub.execute_input": "2020-11-12T07:40:17.918454Z",
     "iopub.status.busy": "2020-11-12T07:40:17.917711Z",
     "iopub.status.idle": "2020-11-12T07:40:17.920415Z",
     "shell.execute_reply": "2020-11-12T07:40:17.919947Z"
    },
    "id": "Ui025t1qqEfm"
   },
   "outputs": [
    {
     "name": "stdout",
     "output_type": "stream",
     "text": [
      "[[ 2  6]\n",
      " [12 20]]\n"
     ]
    }
   ],
   "source": [
    "# Use NumPy values\n",
    "import numpy as np\n",
    "\n",
    "c = np.multiply(a, b)\n",
    "print(c)"
   ]
  },
  {
   "cell_type": "code",
   "execution_count": 9,
   "metadata": {
    "execution": {
     "iopub.execute_input": "2020-11-12T07:40:17.924288Z",
     "iopub.status.busy": "2020-11-12T07:40:17.923619Z",
     "iopub.status.idle": "2020-11-12T07:40:17.925720Z",
     "shell.execute_reply": "2020-11-12T07:40:17.926158Z"
    },
    "id": "Tq_aFRzWrCua"
   },
   "outputs": [
    {
     "name": "stdout",
     "output_type": "stream",
     "text": [
      "[[1 2]\n",
      " [3 4]]\n"
     ]
    }
   ],
   "source": [
    "# Obtain numpy value from a tensor:\n",
    "print(a.numpy())\n",
    "# => [[1 2]\n",
    "#     [3 4]]"
   ]
  },
  {
   "cell_type": "markdown",
   "metadata": {
    "id": "H08f9ss9qEft"
   },
   "source": [
    "## 动态控制流\n",
    "\n",
    "Eager Execution 的一个主要优势是，在执行模型时，主机语言的所有功能均可用。因此，编写 [fizzbuzz](https://en.wikipedia.org/wiki/Fizz_buzz) 之类的代码会很容易："
   ]
  },
  {
   "cell_type": "code",
   "execution_count": 10,
   "metadata": {
    "execution": {
     "iopub.execute_input": "2020-11-12T07:40:17.931821Z",
     "iopub.status.busy": "2020-11-12T07:40:17.931149Z",
     "iopub.status.idle": "2020-11-12T07:40:17.932948Z",
     "shell.execute_reply": "2020-11-12T07:40:17.933337Z"
    },
    "id": "0fudRMeUqEfu"
   },
   "outputs": [],
   "source": [
    "def fizzbuzz(max_num):\n",
    "  counter = tf.constant(0)\n",
    "  max_num = tf.convert_to_tensor(max_num)\n",
    "  for num in range(1, max_num.numpy()+1):\n",
    "    num = tf.constant(num)\n",
    "    if int(num % 3) == 0 and int(num % 5) == 0:\n",
    "      print('FizzBuzz')\n",
    "    elif int(num % 3) == 0:\n",
    "      print('Fizz')\n",
    "    elif int(num % 5) == 0:\n",
    "      print('Buzz')\n",
    "    else:\n",
    "      print(num.numpy())\n",
    "    counter += 1"
   ]
  },
  {
   "cell_type": "code",
   "execution_count": 11,
   "metadata": {
    "execution": {
     "iopub.execute_input": "2020-11-12T07:40:17.936621Z",
     "iopub.status.busy": "2020-11-12T07:40:17.936050Z",
     "iopub.status.idle": "2020-11-12T07:40:17.942134Z",
     "shell.execute_reply": "2020-11-12T07:40:17.942494Z"
    },
    "id": "P2cKknQWrJLB"
   },
   "outputs": [
    {
     "name": "stdout",
     "output_type": "stream",
     "text": [
      "1\n",
      "2\n",
      "Fizz\n",
      "4\n",
      "Buzz\n",
      "Fizz\n",
      "7\n",
      "8\n",
      "Fizz\n",
      "Buzz\n",
      "11\n",
      "Fizz\n",
      "13\n",
      "14\n",
      "FizzBuzz\n"
     ]
    }
   ],
   "source": [
    "fizzbuzz(15)"
   ]
  },
  {
   "cell_type": "markdown",
   "metadata": {
    "id": "7kA-aC3BqEfy"
   },
   "source": [
    "这段代码具有依赖于张量值的条件语句并会在运行时输出这些值。"
   ]
  },
  {
   "cell_type": "markdown",
   "metadata": {
    "id": "8huKpuuAwICq"
   },
   "source": [
    "## Eager 训练"
   ]
  },
  {
   "cell_type": "markdown",
   "metadata": {
    "id": "mp2lCCZYrxHd"
   },
   "source": [
    "### 计算梯度\n",
    "\n",
    "[自动微分](https://en.wikipedia.org/wiki/Automatic_differentiation)对实现机器学习算法（例如用于训练神经网络的[反向传播](https://en.wikipedia.org/wiki/Backpropagation)）十分有用。在 Eager Execution 期间，请使用 `tf.GradientTape` 跟踪运算以便稍后计算梯度。\n",
    "\n",
    "您可以在 Eager Execution 中使用 `tf.GradientTape` 来训练和/或计算梯度。这对复杂的训练循环特别有用。\n",
    "\n",
    "由于在每次调用期间都可能进行不同运算，所有前向传递的运算都会记录到“条带”中。要计算梯度，请反向播放条带，然后丢弃。特定 `tf.GradientTape` 只能计算一个梯度；后续调用会引发运行时错误。"
   ]
  },
  {
   "cell_type": "code",
   "execution_count": 12,
   "metadata": {
    "execution": {
     "iopub.execute_input": "2020-11-12T07:40:17.946828Z",
     "iopub.status.busy": "2020-11-12T07:40:17.946230Z",
     "iopub.status.idle": "2020-11-12T07:40:17.965129Z",
     "shell.execute_reply": "2020-11-12T07:40:17.964656Z"
    },
    "id": "7g1yWiSXqEf-"
   },
   "outputs": [
    {
     "name": "stdout",
     "output_type": "stream",
     "text": [
      "tf.Tensor([[2.]], shape=(1, 1), dtype=float32)\n"
     ]
    }
   ],
   "source": [
    "w = tf.Variable([[1.0]])\n",
    "with tf.GradientTape() as tape:\n",
    "  loss = w * w\n",
    "\n",
    "grad = tape.gradient(loss, w)\n",
    "print(grad)  # => tf.Tensor([[ 2.]], shape=(1, 1), dtype=float32)"
   ]
  },
  {
   "cell_type": "markdown",
   "metadata": {
    "id": "vkHs32GqweYS"
   },
   "source": [
    "### 训练模型\n",
    "\n",
    "以下示例创建了一个多层模型，该模型会对标准 MNIST 手写数字进行分类。示例演示了在 Eager Execution 环境中构建可训练计算图的优化器和层 API。"
   ]
  },
  {
   "cell_type": "code",
   "execution_count": 13,
   "metadata": {
    "execution": {
     "iopub.execute_input": "2020-11-12T07:40:17.969695Z",
     "iopub.status.busy": "2020-11-12T07:40:17.969133Z",
     "iopub.status.idle": "2020-11-12T07:40:18.907596Z",
     "shell.execute_reply": "2020-11-12T07:40:18.906947Z"
    },
    "id": "38kymXZowhhz"
   },
   "outputs": [],
   "source": [
    "# Fetch and format the mnist data\n",
    "(mnist_images, mnist_labels), _ = tf.keras.datasets.mnist.load_data()\n",
    "\n",
    "dataset = tf.data.Dataset.from_tensor_slices(\n",
    "  (tf.cast(mnist_images[...,tf.newaxis]/255, tf.float32),\n",
    "   tf.cast(mnist_labels,tf.int64)))\n",
    "dataset = dataset.shuffle(1000).batch(32)"
   ]
  },
  {
   "cell_type": "code",
   "execution_count": 14,
   "metadata": {
    "execution": {
     "iopub.execute_input": "2020-11-12T07:40:18.912780Z",
     "iopub.status.busy": "2020-11-12T07:40:18.912099Z",
     "iopub.status.idle": "2020-11-12T07:40:18.956154Z",
     "shell.execute_reply": "2020-11-12T07:40:18.955683Z"
    },
    "id": "rl1K8rOowmwT"
   },
   "outputs": [],
   "source": [
    "# Build the model\n",
    "mnist_model = tf.keras.Sequential([\n",
    "  tf.keras.layers.Conv2D(16,[3,3], activation='relu',\n",
    "                         input_shape=(None, None, 1)),\n",
    "  tf.keras.layers.Conv2D(16,[3,3], activation='relu'),\n",
    "  tf.keras.layers.GlobalAveragePooling2D(),\n",
    "  tf.keras.layers.Dense(10)\n",
    "])"
   ]
  },
  {
   "cell_type": "markdown",
   "metadata": {
    "id": "fvyk-HgGwxwl"
   },
   "source": [
    "即使没有训练，也可以在 Eager Execution 中调用模型并检查输出："
   ]
  },
  {
   "cell_type": "code",
   "execution_count": 15,
   "metadata": {
    "execution": {
     "iopub.execute_input": "2020-11-12T07:40:18.960294Z",
     "iopub.status.busy": "2020-11-12T07:40:18.959656Z",
     "iopub.status.idle": "2020-11-12T07:40:20.331733Z",
     "shell.execute_reply": "2020-11-12T07:40:20.331194Z"
    },
    "id": "BsxystjBwxLS"
   },
   "outputs": [
    {
     "name": "stdout",
     "output_type": "stream",
     "text": [
      "Logits:  [[-0.05036499  0.04032946  0.00022645  0.03859123 -0.04792627  0.03779531\n",
      "  -0.0190379  -0.02029177  0.00274511  0.01765189]]\n"
     ]
    }
   ],
   "source": [
    "for images,labels in dataset.take(1):\n",
    "  print(\"Logits: \", mnist_model(images[0:1]).numpy())"
   ]
  },
  {
   "cell_type": "markdown",
   "metadata": {
    "id": "Y3PGa8G7qEgB"
   },
   "source": [
    "虽然 Keras 模型有内置训练循环（使用 `fit` 方法），但有时您需要进行更多自定义。下面是一个使用 Eager Execution 实现训练循环的示例："
   ]
  },
  {
   "cell_type": "code",
   "execution_count": 16,
   "metadata": {
    "execution": {
     "iopub.execute_input": "2020-11-12T07:40:20.337148Z",
     "iopub.status.busy": "2020-11-12T07:40:20.336480Z",
     "iopub.status.idle": "2020-11-12T07:40:20.338183Z",
     "shell.execute_reply": "2020-11-12T07:40:20.338560Z"
    },
    "id": "bzRhM7JDnaEG"
   },
   "outputs": [],
   "source": [
    "optimizer = tf.keras.optimizers.Adam()\n",
    "loss_object = tf.keras.losses.SparseCategoricalCrossentropy(from_logits=True)\n",
    "\n",
    "loss_history = []"
   ]
  },
  {
   "cell_type": "markdown",
   "metadata": {
    "id": "tXaupYXRI2YM"
   },
   "source": [
    "注：请在 `tf.debugging` 中使用断言函数检查条件是否成立。这在 Eager Execution 和计算图执行中均有效。"
   ]
  },
  {
   "cell_type": "code",
   "execution_count": 17,
   "metadata": {
    "execution": {
     "iopub.execute_input": "2020-11-12T07:40:20.344015Z",
     "iopub.status.busy": "2020-11-12T07:40:20.343407Z",
     "iopub.status.idle": "2020-11-12T07:40:20.345026Z",
     "shell.execute_reply": "2020-11-12T07:40:20.345369Z"
    },
    "id": "DDHrigtiCIA4"
   },
   "outputs": [],
   "source": [
    "def train_step(images, labels):\n",
    "  with tf.GradientTape() as tape:\n",
    "    logits = mnist_model(images, training=True)\n",
    "    \n",
    "    # Add asserts to check the shape of the output.\n",
    "    tf.debugging.assert_equal(logits.shape, (32, 10))\n",
    "    \n",
    "    loss_value = loss_object(labels, logits)\n",
    "\n",
    "  loss_history.append(loss_value.numpy().mean())\n",
    "  grads = tape.gradient(loss_value, mnist_model.trainable_variables)\n",
    "  optimizer.apply_gradients(zip(grads, mnist_model.trainable_variables))"
   ]
  },
  {
   "cell_type": "code",
   "execution_count": 18,
   "metadata": {
    "execution": {
     "iopub.execute_input": "2020-11-12T07:40:20.349377Z",
     "iopub.status.busy": "2020-11-12T07:40:20.348806Z",
     "iopub.status.idle": "2020-11-12T07:40:20.350584Z",
     "shell.execute_reply": "2020-11-12T07:40:20.350983Z"
    },
    "id": "0m1xAXrmqEgJ"
   },
   "outputs": [],
   "source": [
    "def train(epochs):\n",
    "  for epoch in range(epochs):\n",
    "    for (batch, (images, labels)) in enumerate(dataset):\n",
    "      train_step(images, labels)\n",
    "    print ('Epoch {} finished'.format(epoch))"
   ]
  },
  {
   "cell_type": "code",
   "execution_count": 19,
   "metadata": {
    "execution": {
     "iopub.execute_input": "2020-11-12T07:40:20.354670Z",
     "iopub.status.busy": "2020-11-12T07:40:20.354124Z",
     "iopub.status.idle": "2020-11-12T07:41:01.558399Z",
     "shell.execute_reply": "2020-11-12T07:41:01.558791Z"
    },
    "id": "C5dGz0p_nf4W"
   },
   "outputs": [
    {
     "name": "stdout",
     "output_type": "stream",
     "text": [
      "Epoch 0 finished\n"
     ]
    },
    {
     "name": "stdout",
     "output_type": "stream",
     "text": [
      "Epoch 1 finished\n"
     ]
    },
    {
     "name": "stdout",
     "output_type": "stream",
     "text": [
      "Epoch 2 finished\n"
     ]
    }
   ],
   "source": [
    "train(epochs = 3)"
   ]
  },
  {
   "cell_type": "code",
   "execution_count": 20,
   "metadata": {
    "execution": {
     "iopub.execute_input": "2020-11-12T07:41:01.562889Z",
     "iopub.status.busy": "2020-11-12T07:41:01.562321Z",
     "iopub.status.idle": "2020-11-12T07:41:01.839012Z",
     "shell.execute_reply": "2020-11-12T07:41:01.839429Z"
    },
    "id": "5vG5ql_2vYB5"
   },
   "outputs": [
    {
     "data": {
      "text/plain": [
       "Text(0, 0.5, 'Loss [entropy]')"
      ]
     },
     "execution_count": 1,
     "metadata": {},
     "output_type": "execute_result"
    },
    {
     "data": {
      "image/png": "[encoded data removed]",
      "text/plain": [
       "<Figure size 432x288 with 1 Axes>"
      ]
     },
     "metadata": {
      "needs_background": "light"
     },
     "output_type": "display_data"
    }
   ],
   "source": [
    "import matplotlib.pyplot as plt\n",
    "\n",
    "plt.plot(loss_history)\n",
    "plt.xlabel('Batch #')\n",
    "plt.ylabel('Loss [entropy]')"
   ]
  },
  {
   "cell_type": "markdown",
   "metadata": {
    "id": "kKpOlHPLqEgl"
   },
   "source": [
    "### 变量和优化器\n",
    "\n",
    "`tf.Variable` 对象会存储在训练期间访问的可变、类似于 `tf.Tensor` 的值，以更简单地实现自动微分。\n",
    "\n",
    "变量的集合及其运算方法可以封装到层或模型中。有关详细信息，请参阅[自定义 Keras 层和模型](https://render.githubusercontent.com/view/keras/custom_layers_and_models.ipynb)。层和模型之间的主要区别在于模型添加了如下方法：`Model.fit`、`Model.evaluate` 和 `Model.save`。\n",
    "\n",
    "例如，上面的自动微分示例可以改写为："
   ]
  },
  {
   "cell_type": "code",
   "execution_count": 21,
   "metadata": {
    "execution": {
     "iopub.execute_input": "2020-11-12T07:41:01.844617Z",
     "iopub.status.busy": "2020-11-12T07:41:01.844023Z",
     "iopub.status.idle": "2020-11-12T07:41:01.846171Z",
     "shell.execute_reply": "2020-11-12T07:41:01.845610Z"
    },
    "id": "2qXcPngYk8dN"
   },
   "outputs": [],
   "source": [
    "class Linear(tf.keras.Model):\n",
    "  def __init__(self):\n",
    "    super(Linear, self).__init__()\n",
    "    self.W = tf.Variable(5., name='weight')\n",
    "    self.B = tf.Variable(10., name='bias')\n",
    "  def call(self, inputs):\n",
    "    return inputs * self.W + self.B"
   ]
  },
  {
   "cell_type": "code",
   "execution_count": 22,
   "metadata": {
    "execution": {
     "iopub.execute_input": "2020-11-12T07:41:01.851655Z",
     "iopub.status.busy": "2020-11-12T07:41:01.850969Z",
     "iopub.status.idle": "2020-11-12T07:41:01.854812Z",
     "shell.execute_reply": "2020-11-12T07:41:01.854375Z"
    },
    "id": "nnQLBYmEqEgm"
   },
   "outputs": [],
   "source": [
    "# A toy dataset of points around 3 * x + 2\n",
    "NUM_EXAMPLES = 2000\n",
    "training_inputs = tf.random.normal([NUM_EXAMPLES])\n",
    "noise = tf.random.normal([NUM_EXAMPLES])\n",
    "training_outputs = training_inputs * 3 + 2 + noise\n",
    "\n",
    "# The loss function to be optimized\n",
    "def loss(model, inputs, targets):\n",
    "  error = model(inputs) - targets\n",
    "  return tf.reduce_mean(tf.square(error))\n",
    "\n",
    "def grad(model, inputs, targets):\n",
    "  with tf.GradientTape() as tape:\n",
    "    loss_value = loss(model, inputs, targets)\n",
    "  return tape.gradient(loss_value, [model.W, model.B])"
   ]
  },
  {
   "cell_type": "markdown",
   "metadata": {
    "id": "Q7x1CDurl3IG"
   },
   "source": [
    "下一步：\n",
    "\n",
    "1. 创建模型。\n",
    "2. 损失函数对模型参数的导数。\n",
    "3. 基于导数的变量更新策略。"
   ]
  },
  {
   "cell_type": "code",
   "execution_count": 23,
   "metadata": {
    "execution": {
     "iopub.execute_input": "2020-11-12T07:41:01.861318Z",
     "iopub.status.busy": "2020-11-12T07:41:01.860659Z",
     "iopub.status.idle": "2020-11-12T07:41:02.380533Z",
     "shell.execute_reply": "2020-11-12T07:41:02.380918Z"
    },
    "id": "SbXJk0f2lztg"
   },
   "outputs": [
    {
     "name": "stdout",
     "output_type": "stream",
     "text": [
      "Initial loss: 69.812\n",
      "Loss at step 000: 67.041\n",
      "Loss at step 020: 30.033\n",
      "Loss at step 040: 13.770\n",
      "Loss at step 060: 6.618\n",
      "Loss at step 080: 3.471\n",
      "Loss at step 100: 2.085\n"
     ]
    },
    {
     "name": "stdout",
     "output_type": "stream",
     "text": [
      "Loss at step 120: 1.475\n",
      "Loss at step 140: 1.206\n",
      "Loss at step 160: 1.087\n",
      "Loss at step 180: 1.035\n",
      "Loss at step 200: 1.011\n",
      "Loss at step 220: 1.001\n"
     ]
    },
    {
     "name": "stdout",
     "output_type": "stream",
     "text": [
      "Loss at step 240: 0.997\n",
      "Loss at step 260: 0.995\n",
      "Loss at step 280: 0.994\n"
     ]
    }
   ],
   "source": [
    "model = Linear()\n",
    "optimizer = tf.keras.optimizers.SGD(learning_rate=0.01)\n",
    "\n",
    "print(\"Initial loss: {:.3f}\".format(loss(model, training_inputs, training_outputs)))\n",
    "\n",
    "steps = 300\n",
    "for i in range(steps):\n",
    "  grads = grad(model, training_inputs, training_outputs)\n",
    "  optimizer.apply_gradients(zip(grads, [model.W, model.B]))\n",
    "  if i % 20 == 0:\n",
    "    print(\"Loss at step {:03d}: {:.3f}\".format(i, loss(model, training_inputs, training_outputs)))"
   ]
  },
  {
   "cell_type": "code",
   "execution_count": 24,
   "metadata": {
    "execution": {
     "iopub.execute_input": "2020-11-12T07:41:02.385829Z",
     "iopub.status.busy": "2020-11-12T07:41:02.384964Z",
     "iopub.status.idle": "2020-11-12T07:41:02.388173Z",
     "shell.execute_reply": "2020-11-12T07:41:02.388588Z"
    },
    "id": "PV_dqer7pzSH"
   },
   "outputs": [
    {
     "name": "stdout",
     "output_type": "stream",
     "text": [
      "Final loss: 0.993\n"
     ]
    }
   ],
   "source": [
    "print(\"Final loss: {:.3f}\".format(loss(model, training_inputs, training_outputs)))"
   ]
  },
  {
   "cell_type": "code",
   "execution_count": 25,
   "metadata": {
    "execution": {
     "iopub.execute_input": "2020-11-12T07:41:02.392720Z",
     "iopub.status.busy": "2020-11-12T07:41:02.391724Z",
     "iopub.status.idle": "2020-11-12T07:41:02.395021Z",
     "shell.execute_reply": "2020-11-12T07:41:02.395422Z"
    },
    "id": "rvt_Wj3Tp0hm"
   },
   "outputs": [
    {
     "name": "stdout",
     "output_type": "stream",
     "text": [
      "W = 3.033536434173584, B = 2.0270309448242188\n"
     ]
    }
   ],
   "source": [
    "print(\"W = {}, B = {}\".format(model.W.numpy(), model.B.numpy()))"
   ]
  },
  {
   "cell_type": "markdown",
   "metadata": {
    "id": "rPjb8nRWqEgr"
   },
   "source": [
    "注：变量将一直存在，直至删除对 Python 对象的最后一个引用，并删除该变量。"
   ]
  },
  {
   "cell_type": "markdown",
   "metadata": {
    "id": "scMjg6L6qEgv"
   },
   "source": [
    "### 基于对象的保存\n"
   ]
  },
  {
   "cell_type": "markdown",
   "metadata": {
    "id": "Y-0ZcCcjwkux"
   },
   "source": [
    "`tf.keras.Model` 包括一个方便的 `save_weights` 方法，您可以通过该方法轻松创建检查点： "
   ]
  },
  {
   "cell_type": "code",
   "execution_count": 26,
   "metadata": {
    "execution": {
     "iopub.execute_input": "2020-11-12T07:41:02.400527Z",
     "iopub.status.busy": "2020-11-12T07:41:02.399916Z",
     "iopub.status.idle": "2020-11-12T07:41:02.412943Z",
     "shell.execute_reply": "2020-11-12T07:41:02.413310Z"
    },
    "id": "oJrMX94PwD9s"
   },
   "outputs": [],
   "source": [
    "model.save_weights('weights')\n",
    "status = model.load_weights('weights')"
   ]
  },
  {
   "cell_type": "markdown",
   "metadata": {
    "id": "2EfTjWV_wEng"
   },
   "source": [
    "您可以使用 `tf.train.Checkpoint` 完全控制此过程。\n",
    "\n",
    "本部分是[检查点训练指南](https://render.githubusercontent.com/view/checkpoint.ipynb)的缩略版。\n"
   ]
  },
  {
   "cell_type": "code",
   "execution_count": 27,
   "metadata": {
    "execution": {
     "iopub.execute_input": "2020-11-12T07:41:02.417506Z",
     "iopub.status.busy": "2020-11-12T07:41:02.416735Z",
     "iopub.status.idle": "2020-11-12T07:41:02.420105Z",
     "shell.execute_reply": "2020-11-12T07:41:02.419593Z"
    },
    "id": "7z5xRfdHzZOQ"
   },
   "outputs": [],
   "source": [
    "x = tf.Variable(10.)\n",
    "checkpoint = tf.train.Checkpoint(x=x)"
   ]
  },
  {
   "cell_type": "code",
   "execution_count": 28,
   "metadata": {
    "execution": {
     "iopub.execute_input": "2020-11-12T07:41:02.424088Z",
     "iopub.status.busy": "2020-11-12T07:41:02.423442Z",
     "iopub.status.idle": "2020-11-12T07:41:02.432103Z",
     "shell.execute_reply": "2020-11-12T07:41:02.431531Z"
    },
    "id": "IffrUVG7zyVb"
   },
   "outputs": [
    {
     "data": {
      "text/plain": [
       "'./ckpt/-1'"
      ]
     },
     "execution_count": 1,
     "metadata": {},
     "output_type": "execute_result"
    }
   ],
   "source": [
    "x.assign(2.)   # Assign a new value to the variables and save.\n",
    "checkpoint_path = './ckpt/'\n",
    "checkpoint.save('./ckpt/')"
   ]
  },
  {
   "cell_type": "code",
   "execution_count": 29,
   "metadata": {
    "execution": {
     "iopub.execute_input": "2020-11-12T07:41:02.435726Z",
     "iopub.status.busy": "2020-11-12T07:41:02.435020Z",
     "iopub.status.idle": "2020-11-12T07:41:02.440869Z",
     "shell.execute_reply": "2020-11-12T07:41:02.441234Z"
    },
    "id": "eMT9koCoqEgw"
   },
   "outputs": [
    {
     "name": "stdout",
     "output_type": "stream",
     "text": [
      "<tf.Variable 'Variable:0' shape=() dtype=float32, numpy=2.0>\n"
     ]
    }
   ],
   "source": [
    "x.assign(11.)  # Change the variable after saving.\n",
    "\n",
    "# Restore values from the checkpoint\n",
    "checkpoint.restore(tf.train.latest_checkpoint(checkpoint_path))\n",
    "\n",
    "print(x)  # => 2.0"
   ]
  },
  {
   "cell_type": "markdown",
   "metadata": {
    "id": "vbFnP-yLqEgx"
   },
   "source": [
    "要保存和加载模型，`tf.train.Checkpoint` 会存储对象的内部状态，而无需隐藏变量。要记录 `model`、`optimizer` 和全局步骤的状态，请将它们传递到 `tf.train.Checkpoint`："
   ]
  },
  {
   "cell_type": "code",
   "execution_count": 30,
   "metadata": {
    "execution": {
     "iopub.execute_input": "2020-11-12T07:41:02.451080Z",
     "iopub.status.busy": "2020-11-12T07:41:02.450431Z",
     "iopub.status.idle": "2020-11-12T07:41:02.462722Z",
     "shell.execute_reply": "2020-11-12T07:41:02.463081Z"
    },
    "id": "hWZHyAXMqEg0"
   },
   "outputs": [
    {
     "data": {
      "text/plain": [
       "<tensorflow.python.training.tracking.util.CheckpointLoadStatus at 0x7f2cf83ad748>"
      ]
     },
     "execution_count": 1,
     "metadata": {},
     "output_type": "execute_result"
    }
   ],
   "source": [
    "model = tf.keras.Sequential([\n",
    "  tf.keras.layers.Conv2D(16,[3,3], activation='relu'),\n",
    "  tf.keras.layers.GlobalAveragePooling2D(),\n",
    "  tf.keras.layers.Dense(10)\n",
    "])\n",
    "optimizer = tf.keras.optimizers.Adam(learning_rate=0.001)\n",
    "checkpoint_dir = 'path/to/model_dir'\n",
    "if not os.path.exists(checkpoint_dir):\n",
    "  os.makedirs(checkpoint_dir)\n",
    "checkpoint_prefix = os.path.join(checkpoint_dir, \"ckpt\")\n",
    "root = tf.train.Checkpoint(optimizer=optimizer,\n",
    "                           model=model)\n",
    "\n",
    "root.save(checkpoint_prefix)\n",
    "root.restore(tf.train.latest_checkpoint(checkpoint_dir))"
   ]
  },
  {
   "cell_type": "markdown",
   "metadata": {
    "id": "R-ITwkBCF6GJ"
   },
   "source": [
    "注：在许多训练循环中，会在调用 `tf.train.Checkpoint.restore` 后创建变量。这些变量将在创建后立即恢复，并且可以使用断言来确保检查点已完全加载。有关详细信息，请参阅[检查点训练指南](https://render.githubusercontent.com/view/checkpoint.ipynb)。"
   ]
  },
  {
   "cell_type": "markdown",
   "metadata": {
    "id": "3yoD0VJ7qEg3"
   },
   "source": [
    "### 面向对象的指标\n",
    "\n",
    "`tf.keras.metrics` 会被存储为对象。可以通过将新数据传递给可调用对象来更新指标，并使用 `tf.keras.metrics.result` 方法检索结果，例如："
   ]
  },
  {
   "cell_type": "code",
   "execution_count": 31,
   "metadata": {
    "execution": {
     "iopub.execute_input": "2020-11-12T07:41:02.473887Z",
     "iopub.status.busy": "2020-11-12T07:41:02.473281Z",
     "iopub.status.idle": "2020-11-12T07:41:02.485529Z",
     "shell.execute_reply": "2020-11-12T07:41:02.485058Z"
    },
    "id": "9ccu0iAaqEg5"
   },
   "outputs": [
    {
     "data": {
      "text/plain": [
       "<tf.Tensor: shape=(), dtype=float32, numpy=5.5>"
      ]
     },
     "execution_count": 1,
     "metadata": {},
     "output_type": "execute_result"
    }
   ],
   "source": [
    "m = tf.keras.metrics.Mean(\"loss\")\n",
    "m(0)\n",
    "m(5)\n",
    "m.result()  # => 2.5\n",
    "m([8, 9])\n",
    "m.result()  # => 5.5"
   ]
  },
  {
   "cell_type": "markdown",
   "metadata": {
    "id": "aB8qWtT955pI"
   },
   "source": [
    "### 摘要和 TensorBoard\n",
    "\n",
    "[TensorBoard](https://tensorflow.google.cn/tensorboard) 是一种可视化工具，用于了解、调试和优化模型训练过程。它使用在执行程序时编写的摘要事件。\n",
    "\n",
    "您可以在 Eager Execution 中使用 `tf.summary` 记录变量摘要。例如，要每 100 个训练步骤记录一次 `loss` 的摘要，请运行以下代码："
   ]
  },
  {
   "cell_type": "code",
   "execution_count": 32,
   "metadata": {
    "execution": {
     "iopub.execute_input": "2020-11-12T07:41:02.490974Z",
     "iopub.status.busy": "2020-11-12T07:41:02.490321Z",
     "iopub.status.idle": "2020-11-12T07:41:02.498771Z",
     "shell.execute_reply": "2020-11-12T07:41:02.499120Z"
    },
    "id": "z6VInqhA6RH4"
   },
   "outputs": [],
   "source": [
    "logdir = \"./tb/\"\n",
    "writer = tf.summary.create_file_writer(logdir)\n",
    "\n",
    "steps = 1000\n",
    "with writer.as_default():  # or call writer.set_as_default() before the loop.\n",
    "  for i in range(steps):\n",
    "    step = i + 1\n",
    "    # Calculate loss with your real train function.\n",
    "    loss = 1 - 0.001 * step\n",
    "    if step % 100 == 0:\n",
    "      tf.summary.scalar('loss', loss, step=step)"
   ]
  },
  {
   "cell_type": "code",
   "execution_count": 33,
   "metadata": {
    "execution": {
     "iopub.execute_input": "2020-11-12T07:41:02.521906Z",
     "iopub.status.busy": "2020-11-12T07:41:02.502404Z",
     "iopub.status.idle": "2020-11-12T07:41:02.652863Z",
     "shell.execute_reply": "2020-11-12T07:41:02.653265Z"
    },
    "id": "08QQD2j36TaI"
   },
   "outputs": [
    {
     "name": "stdout",
     "output_type": "stream",
     "text": [
      "events.out.tfevents.1605166862.kokoro-gcp-ubuntu-prod-1915170024.9313.619697.v2\r\n"
     ]
    }
   ],
   "source": [
    "!ls tb/"
   ]
  },
  {
   "cell_type": "markdown",
   "metadata": {
    "id": "xEL4yJe5qEhD"
   },
   "source": [
    "## 自动微分高级主题\n",
    "\n",
    "### 动态模型\n",
    "\n",
    "`tf.GradientTape` 也可以用于动态模型。下面这个[回溯线搜索](https://wikipedia.org/wiki/Backtracking_line_search)算法示例看起来就像普通的 NumPy 代码，但它的控制流比较复杂，存在梯度且可微分："
   ]
  },
  {
   "cell_type": "code",
   "execution_count": 34,
   "metadata": {
    "execution": {
     "iopub.execute_input": "2020-11-12T07:41:02.660170Z",
     "iopub.status.busy": "2020-11-12T07:41:02.659249Z",
     "iopub.status.idle": "2020-11-12T07:41:02.661855Z",
     "shell.execute_reply": "2020-11-12T07:41:02.661337Z"
    },
    "id": "L518n5dkqEhE"
   },
   "outputs": [],
   "source": [
    "def line_search_step(fn, init_x, rate=1.0):\n",
    "  with tf.GradientTape() as tape:\n",
    "    # Variables are automatically tracked.\n",
    "    # But to calculate a gradient from a tensor, you must `watch` it.\n",
    "    tape.watch(init_x)\n",
    "    value = fn(init_x)\n",
    "  grad = tape.gradient(value, init_x)\n",
    "  grad_norm = tf.reduce_sum(grad * grad)\n",
    "  init_value = value\n",
    "  while value > init_value - rate * grad_norm:\n",
    "    x = init_x - rate * grad\n",
    "    value = fn(x)\n",
    "    rate /= 2.0\n",
    "  return x, value"
   ]
  },
  {
   "cell_type": "markdown",
   "metadata": {
    "id": "gieGOf_DqEhK"
   },
   "source": [
    "### 自定义梯度\n",
    "\n",
    "自定义梯度是重写梯度的一种简单方法。在前向函数中，定义相对于输入、输出或中间结果的梯度。例如，下面是在后向传递中裁剪梯度范数的一种简单方法："
   ]
  },
  {
   "cell_type": "code",
   "execution_count": 35,
   "metadata": {
    "execution": {
     "iopub.execute_input": "2020-11-12T07:41:02.666773Z",
     "iopub.status.busy": "2020-11-12T07:41:02.666018Z",
     "iopub.status.idle": "2020-11-12T07:41:02.668045Z",
     "shell.execute_reply": "2020-11-12T07:41:02.668432Z"
    },
    "id": "-OwwsWUAqEhK"
   },
   "outputs": [],
   "source": [
    "@tf.custom_gradient\n",
    "def clip_gradient_by_norm(x, norm):\n",
    "  y = tf.identity(x)\n",
    "  def grad_fn(dresult):\n",
    "    return [tf.clip_by_norm(dresult, norm), None]\n",
    "  return y, grad_fn"
   ]
  },
  {
   "cell_type": "markdown",
   "metadata": {
    "id": "JPLDHkF_qEhN"
   },
   "source": [
    "自定义梯度通常用来为运算序列提供数值稳定的梯度："
   ]
  },
  {
   "cell_type": "code",
   "execution_count": 36,
   "metadata": {
    "execution": {
     "iopub.execute_input": "2020-11-12T07:41:02.673415Z",
     "iopub.status.busy": "2020-11-12T07:41:02.672605Z",
     "iopub.status.idle": "2020-11-12T07:41:02.674729Z",
     "shell.execute_reply": "2020-11-12T07:41:02.675126Z"
    },
    "id": "24WiLROnqEhO"
   },
   "outputs": [],
   "source": [
    "def log1pexp(x):\n",
    "  return tf.math.log(1 + tf.exp(x))\n",
    "\n",
    "def grad_log1pexp(x):\n",
    "  with tf.GradientTape() as tape:\n",
    "    tape.watch(x)\n",
    "    value = log1pexp(x)\n",
    "  return tape.gradient(value, x)\n"
   ]
  },
  {
   "cell_type": "code",
   "execution_count": 37,
   "metadata": {
    "execution": {
     "iopub.execute_input": "2020-11-12T07:41:02.679024Z",
     "iopub.status.busy": "2020-11-12T07:41:02.678405Z",
     "iopub.status.idle": "2020-11-12T07:41:02.682746Z",
     "shell.execute_reply": "2020-11-12T07:41:02.683163Z"
    },
    "id": "n8fq69r9-B-c"
   },
   "outputs": [
    {
     "data": {
      "text/plain": [
       "0.5"
      ]
     },
     "execution_count": 1,
     "metadata": {},
     "output_type": "execute_result"
    }
   ],
   "source": [
    "# The gradient computation works fine at x = 0.\n",
    "grad_log1pexp(tf.constant(0.)).numpy()"
   ]
  },
  {
   "cell_type": "code",
   "execution_count": 38,
   "metadata": {
    "execution": {
     "iopub.execute_input": "2020-11-12T07:41:02.686555Z",
     "iopub.status.busy": "2020-11-12T07:41:02.685928Z",
     "iopub.status.idle": "2020-11-12T07:41:02.689507Z",
     "shell.execute_reply": "2020-11-12T07:41:02.689895Z"
    },
    "id": "_VFSU0mG-FSp"
   },
   "outputs": [
    {
     "data": {
      "text/plain": [
       "nan"
      ]
     },
     "execution_count": 1,
     "metadata": {},
     "output_type": "execute_result"
    }
   ],
   "source": [
    "# However, x = 100 fails because of numerical instability.\n",
    "grad_log1pexp(tf.constant(100.)).numpy()"
   ]
  },
  {
   "cell_type": "markdown",
   "metadata": {
    "id": "-VcTR34rqEhQ"
   },
   "source": [
    "在此例中，`log1pexp` 函数可以通过自定义梯度进行分析简化。下面的实现重用了在前向传递期间计算的 `tf.exp(x)` 值，通过消除冗余计算使其变得更加高效："
   ]
  },
  {
   "cell_type": "code",
   "execution_count": 39,
   "metadata": {
    "execution": {
     "iopub.execute_input": "2020-11-12T07:41:02.695388Z",
     "iopub.status.busy": "2020-11-12T07:41:02.694696Z",
     "iopub.status.idle": "2020-11-12T07:41:02.696589Z",
     "shell.execute_reply": "2020-11-12T07:41:02.696973Z"
    },
    "id": "Q7nvfx_-qEhS"
   },
   "outputs": [],
   "source": [
    "@tf.custom_gradient\n",
    "def log1pexp(x):\n",
    "  e = tf.exp(x)\n",
    "  def grad(dy):\n",
    "    return dy * (1 - 1 / (1 + e))\n",
    "  return tf.math.log(1 + e), grad\n",
    "\n",
    "def grad_log1pexp(x):\n",
    "  with tf.GradientTape() as tape:\n",
    "    tape.watch(x)\n",
    "    value = log1pexp(x)\n",
    "  return tape.gradient(value, x)\n"
   ]
  },
  {
   "cell_type": "code",
   "execution_count": 40,
   "metadata": {
    "execution": {
     "iopub.execute_input": "2020-11-12T07:41:02.700616Z",
     "iopub.status.busy": "2020-11-12T07:41:02.699917Z",
     "iopub.status.idle": "2020-11-12T07:41:02.703565Z",
     "shell.execute_reply": "2020-11-12T07:41:02.703934Z"
    },
    "id": "5gHPKMfl-Kge"
   },
   "outputs": [
    {
     "data": {
      "text/plain": [
       "0.5"
      ]
     },
     "execution_count": 1,
     "metadata": {},
     "output_type": "execute_result"
    }
   ],
   "source": [
    "# As before, the gradient computation works fine at x = 0.\n",
    "grad_log1pexp(tf.constant(0.)).numpy()"
   ]
  },
  {
   "cell_type": "code",
   "execution_count": 41,
   "metadata": {
    "execution": {
     "iopub.execute_input": "2020-11-12T07:41:02.707629Z",
     "iopub.status.busy": "2020-11-12T07:41:02.706973Z",
     "iopub.status.idle": "2020-11-12T07:41:02.710890Z",
     "shell.execute_reply": "2020-11-12T07:41:02.710395Z"
    },
    "id": "u38MOfz3-MDE"
   },
   "outputs": [
    {
     "data": {
      "text/plain": [
       "1.0"
      ]
     },
     "execution_count": 1,
     "metadata": {},
     "output_type": "execute_result"
    }
   ],
   "source": [
    "# And the gradient computation also works at x = 100.\n",
    "grad_log1pexp(tf.constant(100.)).numpy()"
   ]
  },
  {
   "cell_type": "markdown",
   "metadata": {
    "id": "rnZXjfQzqEhV"
   },
   "source": [
    "## 性能\n",
    "\n",
    "在 Eager Execution 期间，计算会自动分流到 GPU。如果想控制计算运行的位置，可将其放在 `tf.device('/gpu:0')` 块（或 CPU 等效块）中："
   ]
  },
  {
   "cell_type": "code",
   "execution_count": 42,
   "metadata": {
    "execution": {
     "iopub.execute_input": "2020-11-12T07:41:02.722022Z",
     "iopub.status.busy": "2020-11-12T07:41:02.721036Z",
     "iopub.status.idle": "2020-11-12T07:41:03.743619Z",
     "shell.execute_reply": "2020-11-12T07:41:03.743047Z"
    },
    "id": "Ac9Y64H-qEhX"
   },
   "outputs": [
    {
     "name": "stdout",
     "output_type": "stream",
     "text": [
      "Time to multiply a (1000, 1000) matrix by itself 200 times:\n"
     ]
    },
    {
     "name": "stdout",
     "output_type": "stream",
     "text": [
      "CPU: 0.9256570339202881 secs\n",
      "GPU: 0.04173874855041504 secs\n"
     ]
    }
   ],
   "source": [
    "import time\n",
    "\n",
    "def measure(x, steps):\n",
    "  # TensorFlow initializes a GPU the first time it's used, exclude from timing.\n",
    "  tf.matmul(x, x)\n",
    "  start = time.time()\n",
    "  for i in range(steps):\n",
    "    x = tf.matmul(x, x)\n",
    "  # tf.matmul can return before completing the matrix multiplication\n",
    "  # (e.g., can return after enqueing the operation on a CUDA stream).\n",
    "  # The x.numpy() call below will ensure that all enqueued operations\n",
    "  # have completed (and will also copy the result to host memory,\n",
    "  # so we're including a little more than just the matmul operation\n",
    "  # time).\n",
    "  _ = x.numpy()\n",
    "  end = time.time()\n",
    "  return end - start\n",
    "\n",
    "shape = (1000, 1000)\n",
    "steps = 200\n",
    "print(\"Time to multiply a {} matrix by itself {} times:\".format(shape, steps))\n",
    "\n",
    "# Run on CPU:\n",
    "with tf.device(\"/cpu:0\"):\n",
    "  print(\"CPU: {} secs\".format(measure(tf.random.normal(shape), steps)))\n",
    "\n",
    "# Run on GPU, if available:\n",
    "if tf.config.experimental.list_physical_devices(\"GPU\"):\n",
    "  with tf.device(\"/gpu:0\"):\n",
    "    print(\"GPU: {} secs\".format(measure(tf.random.normal(shape), steps)))\n",
    "else:\n",
    "  print(\"GPU: not found\")"
   ]
  },
  {
   "cell_type": "markdown",
   "metadata": {
    "id": "RLw3IS7UqEhe"
   },
   "source": [
    "可以将 `tf.Tensor` 对象复制到不同设备来执行其运算："
   ]
  },
  {
   "cell_type": "code",
   "execution_count": 43,
   "metadata": {
    "execution": {
     "iopub.execute_input": "2020-11-12T07:41:03.748860Z",
     "iopub.status.busy": "2020-11-12T07:41:03.748261Z",
     "iopub.status.idle": "2020-11-12T07:41:03.752427Z",
     "shell.execute_reply": "2020-11-12T07:41:03.752801Z"
    },
    "id": "ny6LX2BVqEhf"
   },
   "outputs": [
    {
     "name": "stdout",
     "output_type": "stream",
     "text": [
      "WARNING:tensorflow:From <ipython-input-1-876293b5769c>:4: _EagerTensorBase.gpu (from tensorflow.python.framework.ops) is deprecated and will be removed in a future version.\n",
      "Instructions for updating:\n",
      "Use tf.identity instead.\n"
     ]
    },
    {
     "name": "stdout",
     "output_type": "stream",
     "text": [
      "WARNING:tensorflow:From <ipython-input-1-876293b5769c>:5: _EagerTensorBase.cpu (from tensorflow.python.framework.ops) is deprecated and will be removed in a future version.\n",
      "Instructions for updating:\n",
      "Use tf.identity instead.\n"
     ]
    }
   ],
   "source": [
    "if tf.config.experimental.list_physical_devices(\"GPU\"):\n",
    "  x = tf.random.normal([10, 10])\n",
    "\n",
    "  x_gpu0 = x.gpu()\n",
    "  x_cpu = x.cpu()\n",
    "\n",
    "  _ = tf.matmul(x_cpu, x_cpu)    # Runs on CPU\n",
    "  _ = tf.matmul(x_gpu0, x_gpu0)  # Runs on GPU:0"
   ]
  },
  {
   "cell_type": "markdown",
   "metadata": {
    "id": "oA_qaII3-p6c"
   },
   "source": [
    "### 基准\n",
    "\n",
    "对于计算量繁重的模型（如在 GPU 上训练的 [ResNet50](https://github.com/tensorflow/tensorflow/tree/master/tensorflow/contrib/eager/python/examples/resnet50)），Eager Execution 性能与 `tf.function` 执行相当。但是对于计算量较小的模型来说，这种性能差距会越来越大，并且在为有大量小运算的模型优化热代码路径方面，其性能还有待提升。\n",
    "\n",
    "## 使用函数\n",
    "\n",
    "虽然 Eager Execution 增强了开发和调试的交互性，但 TensorFlow 1.x 样式的计算图执行在分布式训练、性能优化和生产部署方面具有优势。为了弥补这一差距，TensorFlow 2.0 通过 `tf.function` API 引入了 `function`。有关详细信息，请参阅 [tf.function](https://render.githubusercontent.com/view/function.ipynb) 指南。"
   ]
  }
 ],
 "metadata": {
  "accelerator": "GPU",
  "colab": {
   "collapsed_sections": [],
   "name": "eager.ipynb",
   "toc_visible": true
  },
  "kernelspec": {
   "display_name": "Python 3",
   "name": "python3"
  },
  "language_info": {
   "codemirror_mode": {
    "name": "ipython",
    "version": 3
   },
   "file_extension": ".py",
   "mimetype": "text/x-python",
   "name": "python",
   "nbconvert_exporter": "python",
   "pygments_lexer": "ipython3",
   "version": "3.6.9"
  }
 },
 "nbformat": 4,
 "nbformat_minor": 0
}
