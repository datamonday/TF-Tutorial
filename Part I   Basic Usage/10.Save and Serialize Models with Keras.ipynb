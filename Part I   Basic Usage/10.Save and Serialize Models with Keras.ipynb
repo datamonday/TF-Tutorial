{
 "cells": [
  {
   "cell_type": "code",
   "execution_count": 1,
   "metadata": {},
   "outputs": [],
   "source": [
    "import numpy as np\n",
    "import tensorflow as tf\n",
    "from tensorflow import keras"
   ]
  },
  {
   "cell_type": "code",
   "execution_count": 2,
   "metadata": {},
   "outputs": [
    {
     "name": "stdout",
     "output_type": "stream",
     "text": [
      "Train on 128 samples\n",
      "128/128 [==============================] - 2s 14ms/sample - loss: 2.3769\n",
      "WARNING:tensorflow:From C:\\anaconda3\\envs\\keras\\lib\\site-packages\\tensorflow_core\\python\\ops\\resource_variable_ops.py:1786: calling BaseResourceVariable.__init__ (from tensorflow.python.ops.resource_variable_ops) with constraint is deprecated and will be removed in a future version.\n",
      "Instructions for updating:\n",
      "If using Keras pass *_constraint arguments to layers.\n",
      "INFO:tensorflow:Assets written to: my_model\\assets\n"
     ]
    }
   ],
   "source": [
    "def get_model():\n",
    "    # 创建一个简单的模型\n",
    "    inputs = keras.Input(shape=(32,))\n",
    "    outputs = keras.layers.Dense(1)(inputs)\n",
    "    model = keras.Model(inputs, outputs)\n",
    "    model.compile(optimizer='adam', loss='mean_squared_error')\n",
    "    return model\n",
    "\n",
    "model = get_model()\n",
    "\n",
    "# 训练模型\n",
    "test_input = np.random.random((128, 32))\n",
    "test_target = np.random.random((128, 1))\n",
    "model.fit(test_input, test_target)\n",
    "\n",
    "# 不加后缀名，默认创建 Tensorflow SavedModel 格式，创建一个名称为my_model的文件夹保存\n",
    "model.save('my_model')\n",
    "\n",
    "# 加载保存的模型\n",
    "reconstructed_model = keras.models.load_model('my_model')"
   ]
  },
  {
   "cell_type": "code",
   "execution_count": 4,
   "metadata": {},
   "outputs": [
    {
     "name": "stdout",
     "output_type": "stream",
     "text": [
      " 驱动器 D 中的卷是 本地磁盘\n",
      " 卷的序列号是 A094-EFBB\n",
      "\n",
      " D:\\GraduationCode\\01 TF.Keras Tutorial\\my_model 的目录\n",
      "\n",
      "2020/04/30  15:36    <DIR>          .\n",
      "2020/04/30  15:36    <DIR>          ..\n",
      "2020/04/30  15:36    <DIR>          assets\n",
      "2020/04/30  15:36            42,168 saved_model.pb\n",
      "2020/04/30  15:36    <DIR>          variables\n",
      "               1 个文件         42,168 字节\n",
      "               4 个目录 223,605,207,040 可用字节\n"
     ]
    }
   ],
   "source": [
    "! dir my_model"
   ]
  },
  {
   "cell_type": "code",
   "execution_count": 5,
   "metadata": {},
   "outputs": [
    {
     "name": "stdout",
     "output_type": "stream",
     "text": [
      "Train on 128 samples\n",
      "128/128 [==============================] - 0s 2ms/sample - loss: 0.5482\n"
     ]
    }
   ],
   "source": [
    "model = get_model()\n",
    "\n",
    "test_input = np.random.random((128, 32))\n",
    "test_target = np.random.random((128, 1))\n",
    "model.fit(test_input, test_target)\n",
    "\n",
    "model.save('my_h5_model.h5')"
   ]
  },
  {
   "cell_type": "code",
   "execution_count": 6,
   "metadata": {},
   "outputs": [],
   "source": [
    "layer = keras.layers.Dense(3, activation='relu')\n",
    "layer_config = layer.get_config()\n",
    "new_layer = keras.layers.Dense.from_config(layer_config)"
   ]
  },
  {
   "cell_type": "code",
   "execution_count": 7,
   "metadata": {},
   "outputs": [],
   "source": [
    "model = keras.Sequential([keras.Input((32,)), keras.layers.Dense(1)])\n",
    "config = model.get_config()\n",
    "new_model = keras.Sequential.from_config(config)"
   ]
  },
  {
   "cell_type": "code",
   "execution_count": 8,
   "metadata": {},
   "outputs": [],
   "source": [
    "inputs = keras.Input((32,))\n",
    "outputs = keras.layers.Dense(1)(inputs)\n",
    "model = keras.Model(inputs, outputs)\n",
    "config = model.get_config()\n",
    "new_model = keras.Model.from_config(config)"
   ]
  },
  {
   "cell_type": "code",
   "execution_count": 9,
   "metadata": {},
   "outputs": [],
   "source": [
    "class CustomLayer(keras.layers.Layer):\n",
    "    def __init__(self, a):\n",
    "        self.var = tf.Variable(a, name='var_a')\n",
    "    def call(self, inputs, training=False):\n",
    "        if training:\n",
    "            return inputs * self.var\n",
    "        else:\n",
    "            return inputs\n",
    "    \n",
    "    def get_config(self):\n",
    "        return {'a': self.var.numpy()}\n",
    "\n",
    "    # There's actually no need to define `from_config` here, since returning\n",
    "    # `cls(**config)` is the default behavior.\n",
    "    @classmethod\n",
    "    def from_config(cls, config):\n",
    "        return cls(**config)\n",
    "\n",
    "layer = CustomLayer(5)\n",
    "layer.var.assign(2)\n",
    "\n",
    "serialized_layer = keras.layers.serialize(layer)\n",
    "new_layer = keras.layers.deserialize(serialized_layer, custom_objects={'CustomLayer': CustomLayer})"
   ]
  },
  {
   "cell_type": "code",
   "execution_count": 10,
   "metadata": {},
   "outputs": [],
   "source": [
    "class CustomLayer(keras.layers.Layer):\n",
    "    def __init__(self, units=32, **kwargs):\n",
    "        super(CustomLayer, self).__init__(**kwargs)\n",
    "        self.units = units\n",
    "\n",
    "    def build(self, input_shape):\n",
    "        self.w = self.add_weight(\n",
    "            shape=(input_shape[-1], self.units),\n",
    "            initializer=\"random_normal\",\n",
    "            trainable=True,\n",
    "        )\n",
    "        self.b = self.add_weight(\n",
    "            shape=(self.units,), initializer=\"random_normal\", trainable=True\n",
    "        )\n",
    "\n",
    "    def call(self, inputs):\n",
    "        return tf.matmul(inputs, self.w) + self.b\n",
    "\n",
    "    def get_config(self):\n",
    "        config = super(CustomLayer, self).get_config()\n",
    "        config.update({\"units\": self.units})\n",
    "        return config\n",
    "\n",
    "def custom_activation(x):\n",
    "    return tf.nn.tanh(x) ** 2\n",
    "\n",
    "\n",
    "# Make a model with the CustomLayer and custom_activation\n",
    "inputs = keras.Input((32,))\n",
    "x = CustomLayer(32)(inputs)\n",
    "outputs = keras.layers.Activation(custom_activation)(x)\n",
    "model = keras.Model(inputs, outputs)\n",
    "\n",
    "# Retrieve the config\n",
    "config = model.get_config()\n",
    "\n",
    "# At loading time, register the custom objects with a `custom_object_scope`:\n",
    "custom_objects = {'CustomLayer': CustomLayer,\n",
    "                  'custom_activation': custom_activation}\n",
    "with keras.utils.custom_object_scope(custom_objects):\n",
    "    new_model = keras.Model.from_config(config)"
   ]
  },
  {
   "cell_type": "code",
   "execution_count": 11,
   "metadata": {},
   "outputs": [],
   "source": [
    "with keras.utils.custom_object_scope(custom_objects):\n",
    "    new_model = keras.models.clone_model(model)"
   ]
  },
  {
   "cell_type": "code",
   "execution_count": 12,
   "metadata": {},
   "outputs": [],
   "source": [
    "def create_layer():\n",
    "    layer = keras.layers.Dense(64, activation='relu', name='dense_2')\n",
    "    layer.build((None, 784))\n",
    "    return layer\n",
    "\n",
    "layer_1 = create_layer()\n",
    "layer_2 = create_layer()\n",
    "\n",
    "# 将第一层的权重赋给第二层\n",
    "layer_2.set_weights(layer_1.get_weights())"
   ]
  },
  {
   "cell_type": "code",
   "execution_count": 14,
   "metadata": {},
   "outputs": [],
   "source": [
    "# Create a simple functional model\n",
    "inputs = keras.Input(shape=(784,), name='digits')\n",
    "x = keras.layers.Dense(64, activation='relu', name='dense_1')(inputs)\n",
    "x = keras.layers.Dense(64, activation='relu', name='dense_2')(x)\n",
    "outputs = keras.layers.Dense(10, name='predictions')(x)\n",
    "functional_model = keras.Model(inputs=inputs, outputs=outputs, name='3_layer_mlp')\n",
    "\n",
    "# Define a subclassed model with the same architecture\n",
    "class SubclassedModel(keras.Model):\n",
    "    def __init__(self, output_dim, name=None):\n",
    "        super(SubclassedModel, self).__init__(name=name)\n",
    "        self.output_dim = output_dim\n",
    "        self.dense_1 = keras.layers.Dense(64, activation='relu', name='dense_1')\n",
    "        self.dense_2 = keras.layers.Dense(64, activation='relu', name='dense_2')\n",
    "        self.dense_3 = keras.layers.Dense(output_dim, name='predictions')\n",
    "\n",
    "    def call(self, inputs):\n",
    "        x = self.dense_1(inputs)\n",
    "        x = self.dense_2(x)\n",
    "        x = self.dense_3(x)\n",
    "        return x\n",
    "    \n",
    "    def get_config(self):\n",
    "        return {'output_dim': self.output_dim, 'name': self.name}\n",
    "\n",
    "subclassed_model = SubclassedModel(10)\n",
    "# Call the subclassed model once to create the weights.\n",
    "subclassed_model(tf.ones((1, 784)))\n",
    "\n",
    "# Copy weights from functional_model to subclassed_model.\n",
    "subclassed_model.set_weights(functional_model.get_weights())\n",
    "\n",
    "assert len(functional_model.weights) == len(subclassed_model.weights)\n",
    "for a, b in zip(functional_model.weights, subclassed_model.weights):\n",
    "    np.testing.assert_allclose(a.numpy(), b.numpy()) "
   ]
  },
  {
   "cell_type": "code",
   "execution_count": 15,
   "metadata": {},
   "outputs": [],
   "source": [
    "inputs = keras.Input(shape=(784,), name='digits')\n",
    "x = keras.layers.Dense(64, activation='relu', name='dense_1')(inputs)\n",
    "x = keras.layers.Dense(64, activation='relu', name='dense_2')(x)\n",
    "outputs = keras.layers.Dense(10, name='predictions')(x)\n",
    "functional_model = keras.Model(inputs=inputs, outputs=outputs, name='3_layer_mlp')\n",
    "\n",
    "inputs = keras.Input(shape=(784,), name='digits')\n",
    "x = keras.layers.Dense(64, activation='relu', name='dense_1')(inputs)\n",
    "x = keras.layers.Dense(64, activation='relu', name='dense_2')(x)\n",
    "\n",
    "# Add a dropout layer, which does not contain any weights.\n",
    "x = keras.layers.Dropout(.5)(x)\n",
    "outputs = keras.layers.Dense(10, name='predictions')(x)\n",
    "functional_model_with_dropout = keras.Model(inputs=inputs, outputs=outputs, name='3_layer_mlp')\n",
    "\n",
    "functional_model_with_dropout.set_weights(functional_model.get_weights())"
   ]
  },
  {
   "cell_type": "code",
   "execution_count": 16,
   "metadata": {},
   "outputs": [
    {
     "data": {
      "text/plain": [
       "<tensorflow.python.training.tracking.util.CheckpointLoadStatus at 0x1ec8f391b08>"
      ]
     },
     "execution_count": 16,
     "metadata": {},
     "output_type": "execute_result"
    }
   ],
   "source": [
    "sequential_model = keras.Sequential(\n",
    "    [keras.Input(shape=(784,), name='digits'),\n",
    "     keras.layers.Dense(64, activation='relu', name='dense_1'), \n",
    "     keras.layers.Dense(64, activation='relu', name='dense_2'),\n",
    "     keras.layers.Dense(10, name='predictions')])\n",
    "\n",
    "sequential_model.save_weights('ckpt')\n",
    "load_status = sequential_model.load_weights('ckpt')\n",
    "\n",
    "# assert_consumed 可以用作验证是否已从检查点恢复所有变量值。有关Status对象中的其他方法，可参考 tf.train.Checkpoint.restore。\n",
    "load_status.assert_consumed()  "
   ]
  },
  {
   "cell_type": "code",
   "execution_count": 17,
   "metadata": {},
   "outputs": [
    {
     "name": "stdout",
     "output_type": "stream",
     "text": [
      "Model: \"pretrained_model\"\n",
      "_________________________________________________________________\n",
      "Layer (type)                 Output Shape              Param #   \n",
      "=================================================================\n",
      "digits (InputLayer)          [(None, 784)]             0         \n",
      "_________________________________________________________________\n",
      "dense_1 (Dense)              (None, 64)                50240     \n",
      "_________________________________________________________________\n",
      "dense_2 (Dense)              (None, 64)                4160      \n",
      "=================================================================\n",
      "Total params: 54,400\n",
      "Trainable params: 54,400\n",
      "Non-trainable params: 0\n",
      "_________________________________________________________________\n",
      "\n",
      " --------------------------------------------------\n",
      "Model: \"new_model\"\n",
      "_________________________________________________________________\n",
      "Layer (type)                 Output Shape              Param #   \n",
      "=================================================================\n",
      "digits (InputLayer)          [(None, 784)]             0         \n",
      "_________________________________________________________________\n",
      "dense_1 (Dense)              (None, 64)                50240     \n",
      "_________________________________________________________________\n",
      "dense_2 (Dense)              (None, 64)                4160      \n",
      "_________________________________________________________________\n",
      "predictions (Dense)          (None, 5)                 325       \n",
      "=================================================================\n",
      "Total params: 54,725\n",
      "Trainable params: 54,725\n",
      "Non-trainable params: 0\n",
      "_________________________________________________________________\n"
     ]
    }
   ],
   "source": [
    "inputs = keras.Input(shape=(784,), name='digits')\n",
    "x = keras.layers.Dense(64, activation='relu', name='dense_1')(inputs)\n",
    "x = keras.layers.Dense(64, activation='relu', name='dense_2')(x)\n",
    "outputs = keras.layers.Dense(10, name='predictions')(x)\n",
    "functional_model = keras.Model(inputs=inputs, outputs=outputs, name='3_layer_mlp')\n",
    "\n",
    "# Extract a portion of the functional model defined in the Setup section.\n",
    "# The following lines produce a new model that excludes the final output\n",
    "# layer of the functional model.\n",
    "pretrained = keras.Model(functional_model.inputs, \n",
    "                            functional_model.layers[-1].input,\n",
    "                            name='pretrained_model')\n",
    "# Randomly assign \"trained\" weights.\n",
    "for w in pretrained.weights:\n",
    "    w.assign(tf.random.normal(w.shape))\n",
    "pretrained.save_weights('pretrained_ckpt')\n",
    "pretrained.summary()\n",
    "\n",
    "# Assume this is a separate program where only 'pretrained_ckpt' exists.\n",
    "# Create a new functional model with a different output dimension.\n",
    "inputs = keras.Input(shape=(784,), name='digits')\n",
    "x = keras.layers.Dense(64, activation='relu', name='dense_1')(inputs)\n",
    "x = keras.layers.Dense(64, activation='relu', name='dense_2')(x)\n",
    "outputs = keras.layers.Dense(5, name='predictions')(x)\n",
    "model = keras.Model(inputs=inputs, outputs=outputs, name='new_model')\n",
    "\n",
    "# Load the weights from pretrained_ckpt into model. \n",
    "model.load_weights('pretrained_ckpt')\n",
    "\n",
    "# Check that all of the pretrained weights have been loaded.\n",
    "for a, b in zip(pretrained.weights, model.weights):\n",
    "    np.testing.assert_allclose(a.numpy(), b.numpy())\n",
    "\n",
    "print('\\n','-'*50)\n",
    "model.summary()"
   ]
  },
  {
   "cell_type": "code",
   "execution_count": 18,
   "metadata": {},
   "outputs": [],
   "source": [
    "sequential_model = keras.Sequential(\n",
    "    [keras.Input(shape=(784,), name='digits'),\n",
    "     keras.layers.Dense(64, activation='relu', name='dense_1'), \n",
    "     keras.layers.Dense(64, activation='relu', name='dense_2'),\n",
    "     keras.layers.Dense(10, name='predictions')])\n",
    "sequential_model.save_weights('weights.h5')\n",
    "sequential_model.load_weights('weights.h5')"
   ]
  },
  {
   "cell_type": "code",
   "execution_count": 19,
   "metadata": {},
   "outputs": [
    {
     "name": "stdout",
     "output_type": "stream",
     "text": [
      "variables: ['nested/dense_1/kernel:0', 'nested/dense_1/bias:0', 'nested/dense_2/kernel:0', 'nested/dense_2/bias:0']\n",
      "\n",
      "Changing trainable status of one of the nested layers...\n",
      "\n",
      "variables: ['nested/dense_2/kernel:0', 'nested/dense_2/bias:0', 'nested/dense_1/kernel:0', 'nested/dense_1/bias:0']\n",
      "variable ordering changed: True\n"
     ]
    }
   ],
   "source": [
    "class NestedDenseLayer(keras.layers.Layer):\n",
    "    def __init__(self, units, name=None):\n",
    "        super(NestedDenseLayer, self).__init__(name=name)\n",
    "        self.dense_1 = keras.layers.Dense(units, name='dense_1')\n",
    "        self.dense_2 = keras.layers.Dense(units, name='dense_2')\n",
    "\n",
    "    def call(self, inputs):\n",
    "        return self.dense_2(self.dense_1(inputs))\n",
    "\n",
    "nested_model = keras.Sequential([keras.Input((784,)), NestedDenseLayer(10, 'nested')])\n",
    "variable_names = [v.name for v in nested_model.weights]\n",
    "print('variables: {}'.format(variable_names))\n",
    "\n",
    "print('\\nChanging trainable status of one of the nested layers...')\n",
    "nested_model.get_layer('nested').dense_1.trainable = False\n",
    "\n",
    "variable_names_2 = [v.name for v in nested_model.weights]\n",
    "print('\\nvariables: {}'.format(variable_names_2))\n",
    "print('variable ordering changed:', variable_names != variable_names_2)"
   ]
  },
  {
   "cell_type": "code",
   "execution_count": 20,
   "metadata": {},
   "outputs": [
    {
     "name": "stdout",
     "output_type": "stream",
     "text": [
      "Model: \"sequential_4\"\n",
      "_________________________________________________________________\n",
      "Layer (type)                 Output Shape              Param #   \n",
      "=================================================================\n",
      "dense_1 (Dense)              (None, 64)                50240     \n",
      "_________________________________________________________________\n",
      "dense_2 (Dense)              (None, 64)                4160      \n",
      "_________________________________________________________________\n",
      "dense_3 (Dense)              (None, 5)                 325       \n",
      "=================================================================\n",
      "Total params: 54,725\n",
      "Trainable params: 54,725\n",
      "Non-trainable params: 0\n",
      "_________________________________________________________________\n"
     ]
    }
   ],
   "source": [
    "def create_functional_model():\n",
    "    inputs = keras.Input(shape=(784,), name='digits')\n",
    "    x = keras.layers.Dense(64, activation='relu', name='dense_1')(inputs)\n",
    "    x = keras.layers.Dense(64, activation='relu', name='dense_2')(x)\n",
    "    outputs = keras.layers.Dense(10, name='predictions')(x)\n",
    "    return keras.Model(inputs=inputs, outputs=outputs, name='3_layer_mlp')\n",
    "\n",
    "functional_model = create_functional_model()  \n",
    "functional_model.save_weights('pretrained_weights.h5')\n",
    "\n",
    "pretrained_model = create_functional_model()\n",
    "pretrained_model.load_weights('pretrained_weights.h5')\n",
    "\n",
    "extracted_layers = pretrained_model.layers[:-1]\n",
    "extracted_layers.append(keras.layers.Dense(5, name='dense_3'))\n",
    "model = keras.Sequential(extracted_layers)\n",
    "model.summary()"
   ]
  },
  {
   "cell_type": "code",
   "execution_count": null,
   "metadata": {},
   "outputs": [],
   "source": []
  }
 ],
 "metadata": {
  "kernelspec": {
   "display_name": "Python 3",
   "language": "python",
   "name": "python3"
  },
  "language_info": {
   "codemirror_mode": {
    "name": "ipython",
    "version": 3
   },
   "file_extension": ".py",
   "mimetype": "text/x-python",
   "name": "python",
   "nbconvert_exporter": "python",
   "pygments_lexer": "ipython3",
   "version": "3.8.5"
  }
 },
 "nbformat": 4,
 "nbformat_minor": 4
}
