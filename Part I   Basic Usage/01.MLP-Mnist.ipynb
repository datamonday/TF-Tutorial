{
 "cells": [
  {
   "cell_type": "code",
   "execution_count": 3,
   "metadata": {},
   "outputs": [
    {
     "name": "stderr",
     "output_type": "stream",
     "text": [
      "Using TensorFlow backend.\n"
     ]
    }
   ],
   "source": [
    "import keras\n",
    "from keras import layers\n",
    "import matplotlib.pyplot as plt\n",
    "%matplotlib inline"
   ]
  },
  {
   "cell_type": "code",
   "execution_count": 4,
   "metadata": {},
   "outputs": [],
   "source": [
    "import keras.datasets.mnist as mnist"
   ]
  },
  {
   "cell_type": "code",
   "execution_count": 5,
   "metadata": {},
   "outputs": [
    {
     "name": "stdout",
     "output_type": "stream",
     "text": [
      "Downloading data from https://s3.amazonaws.com/img-datasets/mnist.npz\n",
      "11493376/11490434 [==============================] - 524s 46us/step\n"
     ]
    }
   ],
   "source": [
    "(train_image, train_label),(test_image,test_label) = mnist.load_data()"
   ]
  },
  {
   "cell_type": "code",
   "execution_count": 6,
   "metadata": {},
   "outputs": [
    {
     "data": {
      "text/plain": [
       "(60000, 28, 28)"
      ]
     },
     "execution_count": 6,
     "metadata": {},
     "output_type": "execute_result"
    }
   ],
   "source": [
    "train_image.shape"
   ]
  },
  {
   "cell_type": "code",
   "execution_count": 7,
   "metadata": {},
   "outputs": [
    {
     "data": {
      "text/plain": [
       "<matplotlib.image.AxesImage at 0x24977d70c88>"
      ]
     },
     "execution_count": 7,
     "metadata": {},
     "output_type": "execute_result"
    },
    {
     "data": {
      "image/png": "[encoded data removed]",
      "text/plain": [
       "<Figure size 432x288 with 1 Axes>"
      ]
     },
     "metadata": {
      "needs_background": "light"
     },
     "output_type": "display_data"
    }
   ],
   "source": [
    "plt.imshow(train_image[0])"
   ]
  },
  {
   "cell_type": "code",
   "execution_count": 8,
   "metadata": {},
   "outputs": [
    {
     "data": {
      "text/plain": [
       "(60000,)"
      ]
     },
     "execution_count": 8,
     "metadata": {},
     "output_type": "execute_result"
    }
   ],
   "source": [
    "train_label.shape"
   ]
  },
  {
   "cell_type": "code",
   "execution_count": 9,
   "metadata": {},
   "outputs": [
    {
     "data": {
      "text/plain": [
       "((10000, 28, 28), (10000,))"
      ]
     },
     "execution_count": 9,
     "metadata": {},
     "output_type": "execute_result"
    }
   ],
   "source": [
    "test_image.shape,test_label.shape"
   ]
  },
  {
   "cell_type": "code",
   "execution_count": 10,
   "metadata": {},
   "outputs": [
    {
     "name": "stdout",
     "output_type": "stream",
     "text": [
      "WARNING:tensorflow:From C:\\anaconda3\\envs\\tensorflow\\lib\\site-packages\\keras\\backend\\tensorflow_backend.py:74: The name tf.get_default_graph is deprecated. Please use tf.compat.v1.get_default_graph instead.\n",
      "\n"
     ]
    }
   ],
   "source": [
    "# 顺序模型\n",
    "model = keras.Sequential()\n",
    "# (60000,28,28)--> (60000, 28*28)\n",
    "model.add(layers.Flatten())\n",
    "# 全连接层\n",
    "model.add(layers.Dense(64,activation = 'relu'))\n",
    "model.add(layers.Dense(10,activation = 'softmax'))"
   ]
  },
  {
   "cell_type": "code",
   "execution_count": 11,
   "metadata": {},
   "outputs": [
    {
     "name": "stdout",
     "output_type": "stream",
     "text": [
      "WARNING:tensorflow:From C:\\anaconda3\\envs\\tensorflow\\lib\\site-packages\\keras\\optimizers.py:790: The name tf.train.Optimizer is deprecated. Please use tf.compat.v1.train.Optimizer instead.\n",
      "\n"
     ]
    }
   ],
   "source": [
    "model.compile(optimizer = 'adam',\n",
    "             loss = 'sparse_categorical_crossentropy',\n",
    "             metrics=['acc'])"
   ]
  },
  {
   "cell_type": "code",
   "execution_count": 12,
   "metadata": {},
   "outputs": [
    {
     "name": "stdout",
     "output_type": "stream",
     "text": [
      "WARNING:tensorflow:From C:\\anaconda3\\envs\\tensorflow\\lib\\site-packages\\keras\\backend\\tensorflow_backend.py:517: The name tf.placeholder is deprecated. Please use tf.compat.v1.placeholder instead.\n",
      "\n",
      "WARNING:tensorflow:From C:\\anaconda3\\envs\\tensorflow\\lib\\site-packages\\keras\\backend\\tensorflow_backend.py:4138: The name tf.random_uniform is deprecated. Please use tf.random.uniform instead.\n",
      "\n",
      "WARNING:tensorflow:From C:\\anaconda3\\envs\\tensorflow\\lib\\site-packages\\keras\\backend\\tensorflow_backend.py:3341: The name tf.log is deprecated. Please use tf.math.log instead.\n",
      "\n",
      "WARNING:tensorflow:From C:\\anaconda3\\envs\\tensorflow\\lib\\site-packages\\tensorflow_core\\python\\ops\\math_grad.py:1424: where (from tensorflow.python.ops.array_ops) is deprecated and will be removed in a future version.\n",
      "Instructions for updating:\n",
      "Use tf.where in 2.0, which has the same broadcast rule as np.where\n",
      "WARNING:tensorflow:From C:\\anaconda3\\envs\\tensorflow\\lib\\site-packages\\keras\\backend\\tensorflow_backend.py:986: The name tf.assign_add is deprecated. Please use tf.compat.v1.assign_add instead.\n",
      "\n",
      "WARNING:tensorflow:From C:\\anaconda3\\envs\\tensorflow\\lib\\site-packages\\keras\\backend\\tensorflow_backend.py:973: The name tf.assign is deprecated. Please use tf.compat.v1.assign instead.\n",
      "\n",
      "WARNING:tensorflow:From C:\\anaconda3\\envs\\tensorflow\\lib\\site-packages\\keras\\backend\\tensorflow_backend.py:2741: The name tf.Session is deprecated. Please use tf.compat.v1.Session instead.\n",
      "\n",
      "Epoch 1/50\n",
      "WARNING:tensorflow:From C:\\anaconda3\\envs\\tensorflow\\lib\\site-packages\\keras\\backend\\tensorflow_backend.py:174: The name tf.get_default_session is deprecated. Please use tf.compat.v1.get_default_session instead.\n",
      "\n",
      "WARNING:tensorflow:From C:\\anaconda3\\envs\\tensorflow\\lib\\site-packages\\keras\\backend\\tensorflow_backend.py:181: The name tf.ConfigProto is deprecated. Please use tf.compat.v1.ConfigProto instead.\n",
      "\n",
      "WARNING:tensorflow:From C:\\anaconda3\\envs\\tensorflow\\lib\\site-packages\\keras\\backend\\tensorflow_backend.py:190: The name tf.global_variables is deprecated. Please use tf.compat.v1.global_variables instead.\n",
      "\n",
      "WARNING:tensorflow:From C:\\anaconda3\\envs\\tensorflow\\lib\\site-packages\\keras\\backend\\tensorflow_backend.py:199: The name tf.is_variable_initialized is deprecated. Please use tf.compat.v1.is_variable_initialized instead.\n",
      "\n",
      "WARNING:tensorflow:From C:\\anaconda3\\envs\\tensorflow\\lib\\site-packages\\keras\\backend\\tensorflow_backend.py:206: The name tf.variables_initializer is deprecated. Please use tf.compat.v1.variables_initializer instead.\n",
      "\n",
      "60000/60000 [==============================] - 11s 177us/step - loss: 5.8906 - acc: 0.6250\n",
      "Epoch 2/50\n",
      "60000/60000 [==============================] - 1s 14us/step - loss: 2.9871 - acc: 0.8086\n",
      "Epoch 3/50\n",
      "60000/60000 [==============================] - 1s 14us/step - loss: 2.6414 - acc: 0.8309\n",
      "Epoch 4/50\n",
      "60000/60000 [==============================] - 1s 14us/step - loss: 2.4868 - acc: 0.8415\n",
      "Epoch 5/50\n",
      "60000/60000 [==============================] - 1s 14us/step - loss: 2.4395 - acc: 0.8448\n",
      "Epoch 6/50\n",
      "60000/60000 [==============================] - 1s 14us/step - loss: 2.3532 - acc: 0.8504\n",
      "Epoch 7/50\n",
      "60000/60000 [==============================] - 1s 14us/step - loss: 2.3072 - acc: 0.8535: 0s - loss: 2.2559 -\n",
      "Epoch 8/50\n",
      "60000/60000 [==============================] - 1s 13us/step - loss: 2.2720 - acc: 0.8559\n",
      "Epoch 9/50\n",
      "60000/60000 [==============================] - 1s 14us/step - loss: 2.2321 - acc: 0.8585\n",
      "Epoch 10/50\n",
      "60000/60000 [==============================] - 1s 15us/step - loss: 2.2197 - acc: 0.8594\n",
      "Epoch 11/50\n",
      "60000/60000 [==============================] - 1s 15us/step - loss: 2.1594 - acc: 0.8634\n",
      "Epoch 12/50\n",
      "60000/60000 [==============================] - 1s 15us/step - loss: 2.1024 - acc: 0.8673\n",
      "Epoch 13/50\n",
      "60000/60000 [==============================] - 1s 16us/step - loss: 2.0888 - acc: 0.8680\n",
      "Epoch 14/50\n",
      "60000/60000 [==============================] - 1s 15us/step - loss: 2.0996 - acc: 0.8673\n",
      "Epoch 15/50\n",
      "60000/60000 [==============================] - 1s 14us/step - loss: 2.0880 - acc: 0.8681\n",
      "Epoch 16/50\n",
      "60000/60000 [==============================] - 1s 14us/step - loss: 2.0566 - acc: 0.8704\n",
      "Epoch 17/50\n",
      "60000/60000 [==============================] - 1s 15us/step - loss: 2.0560 - acc: 0.8702\n",
      "Epoch 18/50\n",
      "60000/60000 [==============================] - 1s 14us/step - loss: 2.0321 - acc: 0.8717\n",
      "Epoch 19/50\n",
      "60000/60000 [==============================] - 1s 14us/step - loss: 1.4919 - acc: 0.9038\n",
      "Epoch 20/50\n",
      "60000/60000 [==============================] - 1s 14us/step - loss: 0.8109 - acc: 0.9461\n",
      "Epoch 21/50\n",
      "60000/60000 [==============================] - 1s 15us/step - loss: 0.6990 - acc: 0.9534\n",
      "Epoch 22/50\n",
      "60000/60000 [==============================] - 1s 14us/step - loss: 0.6680 - acc: 0.9556\n",
      "Epoch 23/50\n",
      "60000/60000 [==============================] - 1s 14us/step - loss: 0.6380 - acc: 0.9574\n",
      "Epoch 24/50\n",
      "60000/60000 [==============================] - 1s 14us/step - loss: 0.6377 - acc: 0.9577\n",
      "Epoch 25/50\n",
      "60000/60000 [==============================] - 1s 14us/step - loss: 0.5523 - acc: 0.9631\n",
      "Epoch 26/50\n",
      "60000/60000 [==============================] - 1s 14us/step - loss: 0.5865 - acc: 0.9609\n",
      "Epoch 27/50\n",
      "60000/60000 [==============================] - 1s 16us/step - loss: 0.5282 - acc: 0.9650\n",
      "Epoch 28/50\n",
      "60000/60000 [==============================] - 1s 14us/step - loss: 0.5215 - acc: 0.9653\n",
      "Epoch 29/50\n",
      "60000/60000 [==============================] - 1s 14us/step - loss: 0.4893 - acc: 0.9673\n",
      "Epoch 30/50\n",
      "60000/60000 [==============================] - 1s 15us/step - loss: 0.4870 - acc: 0.9675\n",
      "Epoch 31/50\n",
      "60000/60000 [==============================] - 1s 16us/step - loss: 0.4844 - acc: 0.9677\n",
      "Epoch 32/50\n",
      "60000/60000 [==============================] - 1s 14us/step - loss: 0.4874 - acc: 0.9675\n",
      "Epoch 33/50\n",
      "60000/60000 [==============================] - 1s 14us/step - loss: 0.4821 - acc: 0.9678\n",
      "Epoch 34/50\n",
      "60000/60000 [==============================] - 1s 14us/step - loss: 0.4635 - acc: 0.9692\n",
      "Epoch 35/50\n",
      "60000/60000 [==============================] - 1s 14us/step - loss: 0.4484 - acc: 0.9700\n",
      "Epoch 36/50\n",
      "60000/60000 [==============================] - 1s 13us/step - loss: 0.4700 - acc: 0.9688\n",
      "Epoch 37/50\n",
      "60000/60000 [==============================] - 1s 14us/step - loss: 0.4726 - acc: 0.9686\n",
      "Epoch 38/50\n",
      "60000/60000 [==============================] - 1s 15us/step - loss: 0.4886 - acc: 0.9675\n",
      "Epoch 39/50\n",
      "60000/60000 [==============================] - 1s 14us/step - loss: 0.4129 - acc: 0.9724\n",
      "Epoch 40/50\n",
      "60000/60000 [==============================] - 1s 14us/step - loss: 0.4326 - acc: 0.9716\n",
      "Epoch 41/50\n",
      "60000/60000 [==============================] - 1s 14us/step - loss: 0.4192 - acc: 0.9725\n",
      "Epoch 42/50\n",
      "60000/60000 [==============================] - 1s 14us/step - loss: 0.4102 - acc: 0.9728\n",
      "Epoch 43/50\n",
      "60000/60000 [==============================] - 1s 14us/step - loss: 0.3989 - acc: 0.9736\n",
      "Epoch 44/50\n",
      "60000/60000 [==============================] - 1s 14us/step - loss: 0.3970 - acc: 0.9736\n",
      "Epoch 45/50\n",
      "60000/60000 [==============================] - 1s 15us/step - loss: 0.4051 - acc: 0.9730\n",
      "Epoch 46/50\n",
      "60000/60000 [==============================] - 1s 14us/step - loss: 0.3690 - acc: 0.9756\n",
      "Epoch 47/50\n",
      "60000/60000 [==============================] - 1s 14us/step - loss: 0.3896 - acc: 0.9740\n",
      "Epoch 48/50\n",
      "60000/60000 [==============================] - 1s 14us/step - loss: 0.4001 - acc: 0.9734\n",
      "Epoch 49/50\n",
      "60000/60000 [==============================] - 1s 13us/step - loss: 0.3467 - acc: 0.9771\n",
      "Epoch 50/50\n",
      "60000/60000 [==============================] - 1s 16us/step - loss: 0.3621 - acc: 0.9756\n"
     ]
    },
    {
     "data": {
      "text/plain": [
       "<keras.callbacks.History at 0x24977d97358>"
      ]
     },
     "execution_count": 12,
     "metadata": {},
     "output_type": "execute_result"
    }
   ],
   "source": [
    "model.fit(train_image, train_label, epochs = 50, batch_size = 512)"
   ]
  },
  {
   "cell_type": "code",
   "execution_count": 19,
   "metadata": {},
   "outputs": [
    {
     "name": "stdout",
     "output_type": "stream",
     "text": [
      "10000/10000 [==============================] - 1s 88us/step\n"
     ]
    },
    {
     "data": {
      "text/plain": [
       "[0.5225099971218286, 0.9659]"
      ]
     },
     "execution_count": 19,
     "metadata": {},
     "output_type": "execute_result"
    }
   ],
   "source": [
    "model.evaluate(test_image, test_label)"
   ]
  },
  {
   "cell_type": "code",
   "execution_count": 20,
   "metadata": {
    "scrolled": true
   },
   "outputs": [
    {
     "name": "stdout",
     "output_type": "stream",
     "text": [
      "60000/60000 [==============================] - 4s 63us/step\n"
     ]
    },
    {
     "data": {
      "text/plain": [
       "[0.3641383859386498, 0.9760166666666666]"
      ]
     },
     "execution_count": 20,
     "metadata": {},
     "output_type": "execute_result"
    }
   ],
   "source": [
    "model.evaluate(train_image, train_label)"
   ]
  },
  {
   "cell_type": "code",
   "execution_count": 13,
   "metadata": {},
   "outputs": [],
   "source": [
    "import numpy as pd"
   ]
  },
  {
   "cell_type": "code",
   "execution_count": 14,
   "metadata": {},
   "outputs": [
    {
     "data": {
      "text/plain": [
       "array([[0., 0., 0., 0., 0., 0., 0., 1., 0., 0.],\n",
       "       [0., 0., 1., 0., 0., 0., 0., 0., 0., 0.],\n",
       "       [0., 1., 0., 0., 0., 0., 0., 0., 0., 0.],\n",
       "       [1., 0., 0., 0., 0., 0., 0., 0., 0., 0.],\n",
       "       [0., 0., 0., 0., 1., 0., 0., 0., 0., 0.],\n",
       "       [0., 1., 0., 0., 0., 0., 0., 0., 0., 0.],\n",
       "       [0., 0., 0., 0., 1., 0., 0., 0., 0., 0.],\n",
       "       [0., 0., 0., 0., 0., 0., 0., 0., 0., 1.],\n",
       "       [0., 0., 0., 0., 0., 1., 0., 0., 0., 0.],\n",
       "       [0., 0., 0., 0., 0., 0., 0., 0., 0., 1.]], dtype=float32)"
      ]
     },
     "execution_count": 14,
     "metadata": {},
     "output_type": "execute_result"
    }
   ],
   "source": [
    "model.predict(test_image[:10])"
   ]
  },
  {
   "cell_type": "code",
   "execution_count": 16,
   "metadata": {},
   "outputs": [
    {
     "data": {
      "text/plain": [
       "array([7, 2, 1, 0, 4, 1, 4, 9, 5, 9], dtype=int64)"
      ]
     },
     "execution_count": 16,
     "metadata": {},
     "output_type": "execute_result"
    }
   ],
   "source": [
    "np.argmax(model.predict(test_image[:10]), axis=1)"
   ]
  },
  {
   "cell_type": "code",
   "execution_count": 17,
   "metadata": {},
   "outputs": [
    {
     "data": {
      "text/plain": [
       "array([7, 2, 1, 0, 4, 1, 4, 9, 5, 9], dtype=uint8)"
      ]
     },
     "execution_count": 17,
     "metadata": {},
     "output_type": "execute_result"
    }
   ],
   "source": [
    "test_label[:10]"
   ]
  },
  {
   "cell_type": "markdown",
   "metadata": {},
   "source": [
    "# 模型的优化"
   ]
  },
  {
   "cell_type": "code",
   "execution_count": 21,
   "metadata": {},
   "outputs": [],
   "source": [
    "# 顺序模型\n",
    "model = keras.Sequential()\n",
    "# (60000,28,28)--> (60000, 28*28)\n",
    "model.add(layers.Flatten())\n",
    "# 全连接层\n",
    "model.add(layers.Dense(64,activation = 'relu'))\n",
    "model.add(layers.Dense(64,activation = 'relu'))\n",
    "model.add(layers.Dense(64,activation = 'relu'))\n",
    "model.add(layers.Dense(10,activation = 'softmax'))"
   ]
  },
  {
   "cell_type": "code",
   "execution_count": 22,
   "metadata": {},
   "outputs": [],
   "source": [
    "model.compile(optimizer = 'adam',\n",
    "             loss = 'sparse_categorical_crossentropy',\n",
    "             metrics=['acc'])"
   ]
  },
  {
   "cell_type": "code",
   "execution_count": 26,
   "metadata": {},
   "outputs": [
    {
     "name": "stdout",
     "output_type": "stream",
     "text": [
      "Train on 60000 samples, validate on 10000 samples\n",
      "Epoch 1/50\n",
      "60000/60000 [==============================] - 1s 24us/step - loss: 7.6795 - acc: 0.5148 - val_loss: 6.9986 - val_acc: 0.5604\n",
      "Epoch 2/50\n",
      "60000/60000 [==============================] - 1s 16us/step - loss: 6.6373 - acc: 0.5829 - val_loss: 5.6573 - val_acc: 0.6420\n",
      "Epoch 3/50\n",
      "60000/60000 [==============================] - 1s 17us/step - loss: 4.8150 - acc: 0.6946 - val_loss: 4.0782 - val_acc: 0.7417\n",
      "Epoch 4/50\n",
      "60000/60000 [==============================] - 1s 16us/step - loss: 3.9240 - acc: 0.7516 - val_loss: 3.8283 - val_acc: 0.7583\n",
      "Epoch 5/50\n",
      "60000/60000 [==============================] - 1s 16us/step - loss: 3.8160 - acc: 0.7583 - val_loss: 3.8240 - val_acc: 0.7582\n",
      "Epoch 6/50\n",
      "60000/60000 [==============================] - 1s 18us/step - loss: 3.7233 - acc: 0.7653 - val_loss: 3.7480 - val_acc: 0.7641\n",
      "Epoch 7/50\n",
      "60000/60000 [==============================] - 1s 15us/step - loss: 3.6631 - acc: 0.7690 - val_loss: 3.7454 - val_acc: 0.7644\n",
      "Epoch 8/50\n",
      "60000/60000 [==============================] - 1s 15us/step - loss: 3.6544 - acc: 0.7702 - val_loss: 3.7472 - val_acc: 0.7641\n",
      "Epoch 9/50\n",
      "60000/60000 [==============================] - 1s 16us/step - loss: 3.5926 - acc: 0.7742 - val_loss: 3.6900 - val_acc: 0.7679\n",
      "Epoch 10/50\n",
      "60000/60000 [==============================] - 1s 16us/step - loss: 3.5773 - acc: 0.7750 - val_loss: 3.6673 - val_acc: 0.7688\n",
      "Epoch 11/50\n",
      "60000/60000 [==============================] - 1s 19us/step - loss: 3.5668 - acc: 0.7756 - val_loss: 3.6469 - val_acc: 0.7712\n",
      "Epoch 12/50\n",
      "60000/60000 [==============================] - 1s 17us/step - loss: 3.5610 - acc: 0.7760 - val_loss: 3.7162 - val_acc: 0.7657\n",
      "Epoch 13/50\n",
      "60000/60000 [==============================] - 1s 18us/step - loss: 3.5335 - acc: 0.7780 - val_loss: 3.5903 - val_acc: 0.7743\n",
      "Epoch 14/50\n",
      "60000/60000 [==============================] - 1s 17us/step - loss: 3.5134 - acc: 0.7792 - val_loss: 3.5978 - val_acc: 0.7745\n",
      "Epoch 15/50\n",
      "60000/60000 [==============================] - 1s 18us/step - loss: 3.5177 - acc: 0.7792 - val_loss: 3.6251 - val_acc: 0.7717\n",
      "Epoch 16/50\n",
      "60000/60000 [==============================] - 1s 17us/step - loss: 3.4684 - acc: 0.7824 - val_loss: 3.5767 - val_acc: 0.7745\n",
      "Epoch 17/50\n",
      "60000/60000 [==============================] - 1s 17us/step - loss: 3.4813 - acc: 0.7816 - val_loss: 3.5893 - val_acc: 0.7745\n",
      "Epoch 18/50\n",
      "60000/60000 [==============================] - 1s 17us/step - loss: 3.4528 - acc: 0.7834 - val_loss: 3.6471 - val_acc: 0.7698\n",
      "Epoch 19/50\n",
      "60000/60000 [==============================] - 1s 18us/step - loss: 3.4536 - acc: 0.7835 - val_loss: 3.5688 - val_acc: 0.7760\n",
      "Epoch 20/50\n",
      "60000/60000 [==============================] - 1s 18us/step - loss: 3.4329 - acc: 0.7845 - val_loss: 3.5298 - val_acc: 0.7789\n",
      "Epoch 21/50\n",
      "60000/60000 [==============================] - 1s 16us/step - loss: 3.4328 - acc: 0.7849 - val_loss: 3.5887 - val_acc: 0.7745\n",
      "Epoch 22/50\n",
      "60000/60000 [==============================] - 1s 17us/step - loss: 3.4164 - acc: 0.7857 - val_loss: 3.5802 - val_acc: 0.7755\n",
      "Epoch 23/50\n",
      "60000/60000 [==============================] - 1s 17us/step - loss: 3.4114 - acc: 0.7863 - val_loss: 3.5322 - val_acc: 0.7784\n",
      "Epoch 24/50\n",
      "60000/60000 [==============================] - 1s 18us/step - loss: 3.4143 - acc: 0.7864 - val_loss: 3.6081 - val_acc: 0.7742\n",
      "Epoch 25/50\n",
      "60000/60000 [==============================] - 1s 17us/step - loss: 3.4178 - acc: 0.7860 - val_loss: 3.5428 - val_acc: 0.7779\n",
      "Epoch 26/50\n",
      "60000/60000 [==============================] - 1s 21us/step - loss: 3.4040 - acc: 0.7869 - val_loss: 3.5678 - val_acc: 0.7764\n",
      "Epoch 27/50\n",
      "60000/60000 [==============================] - 1s 17us/step - loss: 3.3921 - acc: 0.7880 - val_loss: 3.5385 - val_acc: 0.7785\n",
      "Epoch 28/50\n",
      "60000/60000 [==============================] - 1s 17us/step - loss: 3.3948 - acc: 0.7879 - val_loss: 3.5114 - val_acc: 0.7797\n",
      "Epoch 29/50\n",
      "60000/60000 [==============================] - 1s 18us/step - loss: 3.3677 - acc: 0.7896 - val_loss: 3.5784 - val_acc: 0.7758\n",
      "Epoch 30/50\n",
      "60000/60000 [==============================] - 1s 18us/step - loss: 3.3821 - acc: 0.7885 - val_loss: 3.6374 - val_acc: 0.7716\n",
      "Epoch 31/50\n",
      "60000/60000 [==============================] - 1s 17us/step - loss: 3.4010 - acc: 0.7875 - val_loss: 3.5444 - val_acc: 0.7775\n",
      "Epoch 32/50\n",
      "60000/60000 [==============================] - 1s 18us/step - loss: 3.3798 - acc: 0.7887 - val_loss: 3.5973 - val_acc: 0.7745\n",
      "Epoch 33/50\n",
      "60000/60000 [==============================] - 1s 18us/step - loss: 3.3942 - acc: 0.7876 - val_loss: 3.5329 - val_acc: 0.7790\n",
      "Epoch 34/50\n",
      "60000/60000 [==============================] - 1s 18us/step - loss: 3.3683 - acc: 0.7895 - val_loss: 3.5205 - val_acc: 0.7784\n",
      "Epoch 35/50\n",
      "60000/60000 [==============================] - 1s 17us/step - loss: 3.4197 - acc: 0.7859 - val_loss: 3.5103 - val_acc: 0.7804\n",
      "Epoch 36/50\n",
      "60000/60000 [==============================] - 1s 17us/step - loss: 3.3913 - acc: 0.7883 - val_loss: 3.5575 - val_acc: 0.7773\n",
      "Epoch 37/50\n",
      "60000/60000 [==============================] - 1s 17us/step - loss: 3.3694 - acc: 0.7895 - val_loss: 3.5403 - val_acc: 0.7786\n",
      "Epoch 38/50\n",
      "60000/60000 [==============================] - 1s 17us/step - loss: 2.3065 - acc: 0.8540 - val_loss: 2.0928 - val_acc: 0.8665\n",
      "Epoch 39/50\n",
      "60000/60000 [==============================] - 1s 18us/step - loss: 1.9296 - acc: 0.8785 - val_loss: 2.0093 - val_acc: 0.8733\n",
      "Epoch 40/50\n",
      "60000/60000 [==============================] - 1s 18us/step - loss: 1.9185 - acc: 0.8787 - val_loss: 2.0060 - val_acc: 0.8726\n",
      "Epoch 41/50\n",
      "60000/60000 [==============================] - 1s 17us/step - loss: 1.8781 - acc: 0.8817 - val_loss: 2.0305 - val_acc: 0.8719\n",
      "Epoch 42/50\n",
      "60000/60000 [==============================] - 1s 17us/step - loss: 1.8801 - acc: 0.8817 - val_loss: 1.9951 - val_acc: 0.8743\n",
      "Epoch 43/50\n",
      "60000/60000 [==============================] - 1s 18us/step - loss: 1.8940 - acc: 0.8806 - val_loss: 2.0364 - val_acc: 0.8721\n",
      "Epoch 44/50\n",
      "60000/60000 [==============================] - 1s 17us/step - loss: 1.9084 - acc: 0.8798 - val_loss: 2.0163 - val_acc: 0.8732\n",
      "Epoch 45/50\n",
      "60000/60000 [==============================] - 1s 17us/step - loss: 1.8672 - acc: 0.8826 - val_loss: 2.0216 - val_acc: 0.8719\n",
      "Epoch 46/50\n",
      "60000/60000 [==============================] - 1s 17us/step - loss: 1.8634 - acc: 0.8827 - val_loss: 2.0229 - val_acc: 0.8721\n",
      "Epoch 47/50\n",
      "60000/60000 [==============================] - 1s 18us/step - loss: 1.8458 - acc: 0.8841 - val_loss: 2.0139 - val_acc: 0.8734\n",
      "Epoch 48/50\n",
      "60000/60000 [==============================] - 1s 17us/step - loss: 1.8364 - acc: 0.8846 - val_loss: 2.0356 - val_acc: 0.8714\n",
      "Epoch 49/50\n",
      "60000/60000 [==============================] - 1s 18us/step - loss: 1.8195 - acc: 0.8859 - val_loss: 1.9887 - val_acc: 0.8745\n",
      "Epoch 50/50\n",
      "60000/60000 [==============================] - 1s 18us/step - loss: 1.8326 - acc: 0.8850 - val_loss: 1.9781 - val_acc: 0.8755\n"
     ]
    },
    {
     "data": {
      "text/plain": [
       "<keras.callbacks.History at 0x249aa9a6400>"
      ]
     },
     "execution_count": 26,
     "metadata": {},
     "output_type": "execute_result"
    }
   ],
   "source": [
    "model.fit(train_image, train_label, epochs = 50, batch_size = 512,validation_data = (test_image,test_label))"
   ]
  },
  {
   "cell_type": "code",
   "execution_count": null,
   "metadata": {},
   "outputs": [],
   "source": []
  }
 ],
 "metadata": {
  "kernelspec": {
   "display_name": "Python 3",
   "language": "python",
   "name": "python3"
  },
  "language_info": {
   "codemirror_mode": {
    "name": "ipython",
    "version": 3
   },
   "file_extension": ".py",
   "mimetype": "text/x-python",
   "name": "python",
   "nbconvert_exporter": "python",
   "pygments_lexer": "ipython3",
   "version": "3.8.5"
  }
 },
 "nbformat": 4,
 "nbformat_minor": 4
}
